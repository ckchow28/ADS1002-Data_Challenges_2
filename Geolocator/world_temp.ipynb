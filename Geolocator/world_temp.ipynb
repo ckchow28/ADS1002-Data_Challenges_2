{
 "cells": [
  {
   "cell_type": "markdown",
   "metadata": {},
   "source": [
    "C:\\Users\\ckcho\\Anaconda3\\python.exe -m pip install pandas matplotlib\n"
   ]
  },
  {
   "cell_type": "code",
   "execution_count": 3,
   "metadata": {},
   "outputs": [
    {
     "name": "stdout",
     "output_type": "stream",
     "text": [
      "Requirement already satisfied: geopandas in c:\\users\\ckcho\\anaconda3\\lib\\site-packages (1.0.1)\n",
      "Requirement already satisfied: matplotlib in c:\\users\\ckcho\\anaconda3\\lib\\site-packages (3.8.4)\n",
      "Requirement already satisfied: numpy>=1.22 in c:\\users\\ckcho\\anaconda3\\lib\\site-packages (from geopandas) (1.26.4)\n",
      "Requirement already satisfied: pyogrio>=0.7.2 in c:\\users\\ckcho\\anaconda3\\lib\\site-packages (from geopandas) (0.9.0)\n",
      "Requirement already satisfied: packaging in c:\\users\\ckcho\\anaconda3\\lib\\site-packages (from geopandas) (23.2)\n",
      "Requirement already satisfied: pandas>=1.4.0 in c:\\users\\ckcho\\anaconda3\\lib\\site-packages (from geopandas) (2.2.2)\n",
      "Requirement already satisfied: pyproj>=3.3.0 in c:\\users\\ckcho\\anaconda3\\lib\\site-packages (from geopandas) (3.6.1)\n",
      "Requirement already satisfied: shapely>=2.0.0 in c:\\users\\ckcho\\anaconda3\\lib\\site-packages (from geopandas) (2.0.6)\n",
      "Requirement already satisfied: contourpy>=1.0.1 in c:\\users\\ckcho\\anaconda3\\lib\\site-packages (from matplotlib) (1.2.0)\n",
      "Requirement already satisfied: cycler>=0.10 in c:\\users\\ckcho\\anaconda3\\lib\\site-packages (from matplotlib) (0.11.0)\n",
      "Requirement already satisfied: fonttools>=4.22.0 in c:\\users\\ckcho\\anaconda3\\lib\\site-packages (from matplotlib) (4.51.0)\n",
      "Requirement already satisfied: kiwisolver>=1.3.1 in c:\\users\\ckcho\\anaconda3\\lib\\site-packages (from matplotlib) (1.4.4)\n",
      "Requirement already satisfied: pillow>=8 in c:\\users\\ckcho\\anaconda3\\lib\\site-packages (from matplotlib) (10.3.0)\n",
      "Requirement already satisfied: pyparsing>=2.3.1 in c:\\users\\ckcho\\anaconda3\\lib\\site-packages (from matplotlib) (3.0.9)\n",
      "Requirement already satisfied: python-dateutil>=2.7 in c:\\users\\ckcho\\anaconda3\\lib\\site-packages (from matplotlib) (2.9.0.post0)\n",
      "Requirement already satisfied: pytz>=2020.1 in c:\\users\\ckcho\\anaconda3\\lib\\site-packages (from pandas>=1.4.0->geopandas) (2024.1)\n",
      "Requirement already satisfied: tzdata>=2022.7 in c:\\users\\ckcho\\anaconda3\\lib\\site-packages (from pandas>=1.4.0->geopandas) (2023.3)\n",
      "Requirement already satisfied: certifi in c:\\users\\ckcho\\anaconda3\\lib\\site-packages (from pyogrio>=0.7.2->geopandas) (2024.7.4)\n",
      "Requirement already satisfied: six>=1.5 in c:\\users\\ckcho\\anaconda3\\lib\\site-packages (from python-dateutil>=2.7->matplotlib) (1.16.0)\n"
     ]
    }
   ],
   "source": [
    "!pip install geopandas matplotlib\n",
    "import warnings\n",
    "warnings.filterwarnings(\"ignore\")"
   ]
  },
  {
   "cell_type": "code",
   "execution_count": 1,
   "metadata": {},
   "outputs": [
    {
     "name": "stderr",
     "output_type": "stream",
     "text": [
      "ERROR: Exception:\n",
      "Traceback (most recent call last):\n",
      "  File \"C:\\Users\\ckcho\\anaconda3\\Lib\\site-packages\\pip\\_vendor\\packaging\\requirements.py\", line 102, in __init__\n",
      "    req = REQUIREMENT.parseString(requirement_string)\n",
      "          ^^^^^^^^^^^^^^^^^^^^^^^^^^^^^^^^^^^^^^^^^^^\n",
      "  File \"C:\\Users\\ckcho\\anaconda3\\Lib\\site-packages\\pip\\_vendor\\pyparsing\\util.py\", line 256, in _inner\n",
      "    return fn(self, *args, **kwargs)\n",
      "           ^^^^^^^^^^^^^^^^^^^^^^^^^\n",
      "  File \"C:\\Users\\ckcho\\anaconda3\\Lib\\site-packages\\pip\\_vendor\\pyparsing\\core.py\", line 1190, in parse_string\n",
      "    raise exc.with_traceback(None)\n",
      "pip._vendor.pyparsing.exceptions.ParseException: Expected string_end, found '['  (at char 11), (line:1, col:12)\n",
      "\n",
      "During handling of the above exception, another exception occurred:\n",
      "\n",
      "Traceback (most recent call last):\n",
      "  File \"C:\\Users\\ckcho\\anaconda3\\Lib\\site-packages\\pip\\_internal\\cli\\base_command.py\", line 180, in exc_logging_wrapper\n",
      "    status = run_func(*args)\n",
      "             ^^^^^^^^^^^^^^^\n",
      "  File \"C:\\Users\\ckcho\\anaconda3\\Lib\\site-packages\\pip\\_internal\\cli\\req_command.py\", line 245, in wrapper\n",
      "    return func(self, options, args)\n",
      "           ^^^^^^^^^^^^^^^^^^^^^^^^^\n",
      "  File \"C:\\Users\\ckcho\\anaconda3\\Lib\\site-packages\\pip\\_internal\\commands\\install.py\", line 342, in run\n",
      "    reqs = self.get_requirements(args, options, finder, session)\n",
      "           ^^^^^^^^^^^^^^^^^^^^^^^^^^^^^^^^^^^^^^^^^^^^^^^^^^^^^\n",
      "  File \"C:\\Users\\ckcho\\anaconda3\\Lib\\site-packages\\pip\\_internal\\cli\\req_command.py\", line 411, in get_requirements\n",
      "    req_to_add = install_req_from_line(\n",
      "                 ^^^^^^^^^^^^^^^^^^^^^^\n",
      "  File \"C:\\Users\\ckcho\\anaconda3\\Lib\\site-packages\\pip\\_internal\\req\\constructors.py\", line 421, in install_req_from_line\n",
      "    parts = parse_req_from_line(name, line_source)\n",
      "            ^^^^^^^^^^^^^^^^^^^^^^^^^^^^^^^^^^^^^^\n",
      "  File \"C:\\Users\\ckcho\\anaconda3\\Lib\\site-packages\\pip\\_internal\\req\\constructors.py\", line 358, in parse_req_from_line\n",
      "    extras = convert_extras(extras_as_string)\n",
      "             ^^^^^^^^^^^^^^^^^^^^^^^^^^^^^^^^\n",
      "  File \"C:\\Users\\ckcho\\anaconda3\\Lib\\site-packages\\pip\\_internal\\req\\constructors.py\", line 58, in convert_extras\n",
      "    return get_requirement(\"placeholder\" + extras.lower()).extras\n",
      "           ^^^^^^^^^^^^^^^^^^^^^^^^^^^^^^^^^^^^^^^^^^^^^^^\n",
      "  File \"C:\\Users\\ckcho\\anaconda3\\Lib\\site-packages\\pip\\_internal\\utils\\packaging.py\", line 45, in get_requirement\n",
      "    return Requirement(req_string)\n",
      "           ^^^^^^^^^^^^^^^^^^^^^^^\n",
      "  File \"C:\\Users\\ckcho\\anaconda3\\Lib\\site-packages\\pip\\_vendor\\packaging\\requirements.py\", line 104, in __init__\n",
      "    raise InvalidRequirement(\n",
      "pip._vendor.packaging.requirements.InvalidRequirement: Parse error at \"\"['sklear\"\": Expected string_end\n"
     ]
    }
   ],
   "source": [
    "!pip install sklearn import sys import sklearn.neighbors._base sys.modules['sklearn.neighbors.base'] = sklearn.neighbors._base from missingpy"
   ]
  },
  {
   "cell_type": "code",
   "execution_count": 2,
   "metadata": {},
   "outputs": [],
   "source": [
    "import geopandas as gpd\n",
    "import matplotlib.pyplot as plt\n",
    "\n",
    "# Optional Matplotlib features\n",
    "import matplotlib.ticker as ticker\n",
    "import matplotlib.image as mpimg\n",
    "from matplotlib import animation\n",
    "from matplotlib.animation import FuncAnimation\n",
    "from matplotlib.offsetbox import (TextArea, DrawingArea, OffsetImage,\n",
    "                                  AnnotationBbox, OffsetBox)\n",
    "from matplotlib.colors import Normalize # Needed for normalize colors\n",
    "from matplotlib.cm import ScalarMappable # Needed for color maps\n",
    "from matplotlib.patches import Patch # Needed for adding figures"
   ]
  },
  {
   "cell_type": "code",
   "execution_count": null,
   "metadata": {},
   "outputs": [],
   "source": []
  }
 ],
 "metadata": {
  "kernelspec": {
   "display_name": "base",
   "language": "python",
   "name": "python3"
  },
  "language_info": {
   "codemirror_mode": {
    "name": "ipython",
    "version": 3
   },
   "file_extension": ".py",
   "mimetype": "text/x-python",
   "name": "python",
   "nbconvert_exporter": "python",
   "pygments_lexer": "ipython3",
   "version": "3.12.4"
  }
 },
 "nbformat": 4,
 "nbformat_minor": 2
}
