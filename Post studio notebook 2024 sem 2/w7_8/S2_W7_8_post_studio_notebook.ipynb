{
 "cells": [
  {
   "cell_type": "markdown",
   "id": "dcab67ba",
   "metadata": {},
   "source": [
    "### Fill out:\n",
    "Name & Surname: Chow Chun Kei\n",
    "\n",
    "Student ID: 33520771"
   ]
  },
  {
   "cell_type": "markdown",
   "id": "acc85a55",
   "metadata": {},
   "source": [
    "## W7&W8 post studio exercises (multivariate linear regression, regularisation)\n",
    "\n",
    "Enter your solution in the cell(s) below each exercise. Add couple of inline comments explaining your code. Don't forget to add comments in markdown cell after each exercise. Missing comments (in markdown cells and/or inline) and late submissions will incur penalties.\n",
    "\n",
    "Once done, drag&drop your python file to your ADS1002-name github account.\n",
    "\n",
    "Copy url of this file on github to appropriate folder on Moodle by 09.30am prior your next studio. \n",
    "\n",
    "Solutions will be released later in the semester.\n",
    "\n",
    "Max 10 marks - 2.5 marks per each exercise."
   ]
  },
  {
   "cell_type": "markdown",
   "id": "9fff9a3c",
   "metadata": {},
   "source": [
    "We will use diabetes data. Download this data from [the Gitlab site](https://gitlab.erc.monash.edu.au/bads/data-challenges-resources/-/tree/main/Machine-Learning/Supervised-Methods/Regression/Diabetes_Data.csv) into the same directory as the notebook on your computer. \n",
    "\n",
    "Run the following code from the pre-studio notebook."
   ]
  },
  {
   "cell_type": "code",
   "execution_count": 1,
   "id": "ee3e3333",
   "metadata": {},
   "outputs": [],
   "source": [
    "import pandas as pd\n",
    "import numpy as np\n",
    "from matplotlib import pyplot as plt\n",
    "from sklearn.model_selection import train_test_split # for splitting the data into training and testing sets\n",
    "from sklearn.linear_model import LinearRegression # models we are going to use\n",
    "from sklearn.metrics import r2_score, mean_squared_error, mean_absolute_error # for comparing the predicted and test values\n",
    "import seaborn as sns\n",
    "\n",
    "import warnings\n",
    "warnings.filterwarnings(\"ignore\")"
   ]
  },
  {
   "cell_type": "code",
   "execution_count": 2,
   "id": "d6418875",
   "metadata": {},
   "outputs": [],
   "source": [
    "df = pd.read_csv('Diabetes_Data.csv', usecols = range(0,11)) # read the Diabetes dataset in to a pandas dataframe\n",
    "corrs = df.corr()          # calculate the correlation table\n",
    "X = df.drop(['Y'],axis=1)  # Create a Dataframe without the target variable Y.\n",
    "Y = df['Y']                # Extract a Series of the target Y values."
   ]
  },
  {
   "cell_type": "code",
   "execution_count": 3,
   "id": "90027025",
   "metadata": {},
   "outputs": [],
   "source": [
    "# The below code is identical to our first attempt, the only change is\n",
    "# substituting nX for X in train_test_split, to use our normalised data.\n",
    "nX =(X-X.mean())/X.std() # create nX, a normalised version of X\n",
    "\n",
    "# Split into a training set with 80% of the data, and a testing set as the remainder.\n",
    "X_train, X_test, Y_train, Y_test = train_test_split(\n",
    "    nX, Y, test_size=0.2,\n",
    "    random_state=np.random.RandomState(31287)  # Keeps the 'random' split consistent.\n",
    ") \n",
    "\n",
    "# Construct and fit the model\n",
    "linear = LinearRegression()  # Instantatiate the linear regression model\n",
    "linear.fit(X_train,Y_train);  # Fit the model parameters to the training data."
   ]
  },
  {
   "cell_type": "code",
   "execution_count": 4,
   "id": "d02c8da1",
   "metadata": {},
   "outputs": [],
   "source": [
    "from sklearn.model_selection import cross_validate, RepeatedKFold # import sklearn methods\n",
    "\n",
    "# cross_validate takes the particular model, in this case linear regression which we instantatiated earlier,\n",
    "# and undertakes a number of runs according the method specified by cv=\n",
    "# RepeatedKFold splits the data into n sections and repeat the regression modelling 5 times, giving 25 runs\n",
    "# return_estimator=True returns the fitting data for each run\n",
    "scores = cross_validate(\n",
    "    linear, nX, Y,\n",
    "    cv=RepeatedKFold(n_splits=5, n_repeats=5, random_state=np.random.RandomState(2351786)),\n",
    "    return_estimator=True,\n",
    ")\n",
    "# take the results for each simulation (estimator), extract the coefficients for each run \n",
    "# and add them to a dataframe with columns being the feature names\n",
    "coefs = pd.DataFrame([est.coef_ for est in scores['estimator']],columns=nX.columns)"
   ]
  },
  {
   "cell_type": "markdown",
   "id": "69c6ff3b",
   "metadata": {},
   "source": [
    "### Exercise 1 (correlation coefs vs linear regression coefs)\n",
    "\n",
    "Compare the (mean of) model coefficients computed in the linear regression with the correlation scores found in the initial data analysis in pre-studio notebook. Choose any plot or table which you think is suitable for this comparison. Comment on whether the model fitting results are consistent with the correlation scores."
   ]
  },
  {
   "cell_type": "code",
   "execution_count": 5,
   "id": "d1ad296a",
   "metadata": {},
   "outputs": [],
   "source": [
    "# Hint 1: Table of correlation coefficients and dataframe with reg. coefs from cross validation are given above.\n",
    "# Hint 2: Create a dataframe which has the correlations with Y as a column, and then the \n",
    "# mean of coefficients computed from the cross_validate method for the other column.\n",
    "# You will need to scale the coefficients in order to compare this with the correlations (divide by 30, for example). \n",
    "# Hint 3: A bar plot seems like a good idea!"
   ]
  },
  {
   "cell_type": "markdown",
   "id": "7b7697cc",
   "metadata": {},
   "source": [
    "<hr>\n",
    "\n",
    "**Solution:**"
   ]
  },
  {
   "cell_type": "code",
   "execution_count": 30,
   "id": "aa14f5fa",
   "metadata": {},
   "outputs": [],
   "source": [
    "# get the initial correlation coefficients of all features towards Y\n",
    "feature_names = X.columns.tolist()\n",
    "coefficients = pd.Series(data=linear.coef_.transpose(), index=feature_names)"
   ]
  },
  {
   "cell_type": "code",
   "execution_count": 38,
   "id": "c6b47d19",
   "metadata": {},
   "outputs": [
    {
     "data": {
      "image/png": "[encoded data removed]",
      "text/plain": [
       "<Figure size 1000x700 with 1 Axes>"
      ]
     },
     "metadata": {},
     "output_type": "display_data"
    }
   ],
   "source": [
    "ab = coefs.mean()\n",
    "# ax = all_coefficients.plot.bar(figsize = (10, 7))\n",
    "\n",
    "all_coefficients2 = pd.DataFrame({\n",
    "    'Mean': ab,\n",
    "    'Original': coefficients/10,\n",
    "})\n",
    "\n",
    "# do a similar horizontal plot as before\n",
    "az = all_coefficients2.plot(kind='bar',figsize=(10,7))\n",
    "# ax = all_coefficients.plot.bar(figsize = (10, 7))\n",
    "plt.title('Linear Regression')\n",
    "plt.axhline(y=0, color='.5')\n",
    "plt.subplots_adjust(left=.3)"
   ]
  },
  {
   "cell_type": "markdown",
   "id": "fe79609c",
   "metadata": {},
   "source": [
    "**Analysis**\n",
    "- Overall the model fitting results are  not consistent with the correlation scores, where the coefficient values differs greatly.\n",
    "- However, the positive correlation and negative correlation for both models are same (corresponds to each other).\n",
    "<hr>"
   ]
  },
  {
   "cell_type": "code",
   "execution_count": 47,
   "id": "6ed11bbb",
   "metadata": {},
   "outputs": [
    {
     "data": {
      "image/png": "[encoded data removed]",
      "text/plain": [
       "<Figure size 1000x600 with 1 Axes>"
      ]
     },
     "metadata": {},
     "output_type": "display_data"
    }
   ],
   "source": [
    "# Calculate correlation coefficients for all features with 'Y' excluding 'Y' itself\n",
    "corrs_feature = df.corr()['Y'][:-1]  \n",
    "\n",
    "# Calculate the mean from the cross-validatoin\n",
    "mean_coefs = coefs.mean() /10\n",
    "\n",
    "# Create a DataFrame to compare correlation coefficients and mean regression coefficients\n",
    "comparison_df = pd.DataFrame({\n",
    "    'Initial Correlation': corrs_feature,\n",
    "    'Mean of model coefficients': mean_coefs\n",
    "})\n",
    "\n",
    "# Plotting \n",
    "comparison_df.plot(kind='bar', figsize=(10, 6))\n",
    "plt.title('Comparison of Correlation with Y and Mean Regression Coefficients')\n",
    "plt.ylabel('Coefficient Value')\n",
    "plt.xticks(rotation=45)\n",
    "plt.subplots_adjust(left=.3);\n"
   ]
  },
  {
   "cell_type": "markdown",
   "id": "fb7dbbe6",
   "metadata": {},
   "source": [
    "### Exercise 2 (coeeficient variability in a simpler model)\n",
    "\n",
    "Try fitting a linear regression model to a subset of the features. To do this, select 3-4 columns from the normalised dataframe `nX` to use when constructing the train-test split, then fit the model parameters to this new training data as before. Describe how you selected your subset of features. Did the model coefficients for your chosen features turn out to be similar or different to those in the full model given in pre-studio notebook? (Comment on change in variability of the coefficients. If there is a difference, explain why.)"
   ]
  },
  {
   "cell_type": "code",
   "execution_count": 6,
   "id": "fc3359a3",
   "metadata": {},
   "outputs": [],
   "source": [
    "#Settings: 80-20 split, random state 31287.\n",
    "\n",
    "#Aim is to show variability of corresponding coefficients \n",
    "#(train-test-split + cross validation + appropriate plot + compare to pre-studio)\n",
    "\n",
    "# No regularisation yet."
   ]
  },
  {
   "cell_type": "markdown",
   "id": "910ae29f",
   "metadata": {},
   "source": [
    "<hr>\n",
    "\n",
    "**Solutions:**"
   ]
  },
  {
   "cell_type": "code",
   "execution_count": 53,
   "id": "0b41ecd4",
   "metadata": {},
   "outputs": [
    {
     "data": {
      "image/png": "[encoded data removed]",
      "text/plain": [
       "<Figure size 800x600 with 1 Axes>"
      ]
     },
     "metadata": {},
     "output_type": "display_data"
    }
   ],
   "source": [
    "# Selecting a BMI, S2 and S5\n",
    "subset_features = ['BMI', 'S2', 'S5']  \n",
    "nX_subset = nX[subset_features]  \n",
    "\n",
    "# Split the data into training and testing sets with the subset of features\n",
    "X_train_sub, X_test_sub, Y_train_sub, Y_test_sub = train_test_split(nX_subset, Y, test_size=0.2, random_state=np.random.RandomState(31287))\n",
    "\n",
    "# Fit the linear regression model\n",
    "linear_sub = LinearRegression()\n",
    "linear_sub.fit(X_train_sub, Y_train_sub)\n",
    "\n",
    "# Cross-validation for the subset model\n",
    "subset_scores = cross_validate(\n",
    "    linear_sub, nX_subset, Y,\n",
    "    cv=RepeatedKFold(n_splits=5, n_repeats=5, random_state=np.random.RandomState(2351786)),\n",
    "    return_estimator=True,\n",
    ")\n",
    "\n",
    "# Extract coefficients from cross-validation runs\n",
    "subset_coefs = pd.DataFrame([est.coef_ for est in subset_scores['estimator']], columns=subset_features)\n",
    "\n",
    "# Plot coefficient variability for the subset model\n",
    "subset_coefs.plot(kind='box', figsize=(8, 6))\n",
    "plt.title('Coefficient Variability in a Simpler Model')\n",
    "plt.ylabel('Coefficient Value');"
   ]
  },
  {
   "cell_type": "markdown",
   "id": "562db0bf",
   "metadata": {},
   "source": [
    "**Analysis**\n",
    "- The subset features `BMI`, `S2` and `S5` is chosen based on their highest coefficient value with the target, `Y`\n",
    "- The model coefficient of my chosen model is quite similar to the one shown in the pre-studio notebook, but shows variability:\n",
    "    - `BMI` and `S5` both have **high coefficient values** in my model and in the one in pre-studio.\n",
    "    - `S2` in my model has **lower positive coefficient value** as compareed in the pre-studio model, probably because of exclusion of other features may have correlation with `S2`, which affects is coefficient value."
   ]
  },
  {
   "cell_type": "markdown",
   "id": "ec00e7b3",
   "metadata": {},
   "source": [
    "***\n",
    "In W8 pre-studio notebook we found the optimal tuning parameters ($\\alpha$) for both Ridge and Lasso regularisation via numerical experimentation. In practice however, the process of tuning and fitting a linear regression with Ridge or Lasso regularisation is automated through the functions `RidgeCV` and `LassoCV` respectively. When we call the .fit method for `RidgeCV`, cross-valiadation is implemented by performing Ridge linear regression over a variety of tuning parameters in order to determine the optimal tuning parameter $\\alpha$. Once the optimal tuning parameter is found, the model can then be fit. In fact, we can extract the optimal tuning parameter $\\alpha$ by calling .alpha_. A similar process is utilised for `LassoCV`.\n",
    "\n",
    "N.B. Both Ridge and Lasso regularisation require the feature set to be normalised. "
   ]
  },
  {
   "cell_type": "markdown",
   "id": "9053e180",
   "metadata": {},
   "source": [
    "### Exercise 3 (RidgeCV)\n",
    "\n",
    "Here you will use `RidgeCV` from scikit-learn to perform Ridge linear regression and cross validation all in one go. Your tasks are the following:\n",
    "\n",
    "1. Instantiate the RidgeCV model by calling RidgeCV (done for you).\n",
    "2. Fit the model to the training data.\n",
    "3. Determine the training and testing R2 scores.\n",
    "4. Call .alpha_ in order to determine the optimal tuning parameter alpha.\n",
    "\n",
    "The syntax here is essentially the same as any other machine learning algorithm from scikit-learn. If you have any issues, you can consult the scikit-learn guide on `RidgeCV`.\n",
    "\n",
    "Do you get the same optimal tuning parameter alpha as obtained in this notebook? Any idea why that is or isn't the case?"
   ]
  },
  {
   "cell_type": "markdown",
   "id": "c1a67010",
   "metadata": {},
   "source": [
    "<hr>\n",
    "\n",
    "**Solution**"
   ]
  },
  {
   "cell_type": "code",
   "execution_count": 81,
   "id": "7869e785",
   "metadata": {},
   "outputs": [
    {
     "name": "stdout",
     "output_type": "stream",
     "text": [
      "The training R2 score is 0.531\n",
      "The testing R2 score is 0.452\n",
      "The Optimal alpha is 1.585\n"
     ]
    },
    {
     "data": {
      "text/html": [
       "<div>\n",
       "<style scoped>\n",
       "    .dataframe tbody tr th:only-of-type {\n",
       "        vertical-align: middle;\n",
       "    }\n",
       "\n",
       "    .dataframe tbody tr th {\n",
       "        vertical-align: top;\n",
       "    }\n",
       "\n",
       "    .dataframe thead th {\n",
       "        text-align: right;\n",
       "    }\n",
       "</style>\n",
       "<table border=\"1\" class=\"dataframe\">\n",
       "  <thead>\n",
       "    <tr style=\"text-align: right;\">\n",
       "      <th></th>\n",
       "      <th>R2 score</th>\n",
       "    </tr>\n",
       "  </thead>\n",
       "  <tbody>\n",
       "    <tr>\n",
       "      <th>training score</th>\n",
       "      <td>0.531092</td>\n",
       "    </tr>\n",
       "    <tr>\n",
       "      <th>testing score</th>\n",
       "      <td>0.452082</td>\n",
       "    </tr>\n",
       "  </tbody>\n",
       "</table>\n",
       "</div>"
      ],
      "text/plain": [
       "                R2 score\n",
       "training score  0.531092\n",
       "testing score   0.452082"
      ]
     },
     "execution_count": 81,
     "metadata": {},
     "output_type": "execute_result"
    }
   ],
   "source": [
    "from sklearn.linear_model import RidgeCV\n",
    "\n",
    "# create an array of 21 alpha values logarithmically distributed between 10**(-2) and 10**2\n",
    "alfas = np.logspace(-2, 2, num=21) \n",
    "\n",
    "X_train, X_test, Y_train, Y_test = train_test_split(\n",
    "    nX, Y,\n",
    "    test_size=0.2,\n",
    "    random_state=1235\n",
    ") \n",
    "\n",
    "ridgecv = RidgeCV(alfas, store_cv_values=True)\n",
    "\n",
    "\n",
    "# Now fit the model on the train data using the instantiated model ridgecv, determine the training\n",
    "# and testing R^2 scores, then call .alpha_ to find the optimal tuning parameter.\n",
    "\n",
    "\n",
    "# fit the model to the training data\n",
    "ridgecv.fit(X_train,Y_train)\n",
    "\n",
    "# determine training and testing R2 scores\n",
    "train_predict =  ridgecv.predict(X_train)\n",
    "test_predict = ridgecv.predict(X_test)\n",
    "\n",
    "train_score= r2_score(Y_train,train_predict)\n",
    "test_score = r2_score(Y_test,test_predict)\n",
    "\n",
    "\n",
    "# determine the optimal tuning parameter alpha\n",
    "optimal_alpha = ridgecv.alpha_\n",
    "print(f\"The training R2 score is {train_score:.3f}\")\n",
    "print(f\"The testing R2 score is {test_score:.3f}\")\n",
    "print(f'The Optimal alpha is {optimal_alpha:.3f}')\n",
    "\n",
    "pd.DataFrame({\n",
    "    \"R2 score\" : {\n",
    "        \"training score\" : train_score,\n",
    "        \"testing score\" : test_score\n",
    "    }\n",
    "})\n",
    "\n"
   ]
  },
  {
   "cell_type": "markdown",
   "id": "a8703f4e",
   "metadata": {},
   "source": [
    "**Analysis**\n",
    "- The optimal alpha value is **not same** as in the pre studio note book.\n",
    "- Reasons of difference:\n",
    "    - In prestudio notebook, the `Ridge regulation` is done **manually**, as the values are looped over with predifined values logarithmicallyThe model is then fitted for each alpha value manually, where the optimal alpha is chosen based on the alpha value that maximizes the R2 score. This causes some potential better alpha value to be missed.\n",
    "    - For the `RidgeCv` method, the wide range of alpha values are **cross-validated internally**, where **more precise** alpha values such as 0.01 can be chosen. This method is more **robust** as everything is done **automaticaly** to find the optimal alpha that prevents overfit or underfit. The extremely small value shows there is reduced bias and perform better for unforeseen data.\n",
    "\n",
    "<hr>"
   ]
  },
  {
   "cell_type": "markdown",
   "id": "ee08609f",
   "metadata": {},
   "source": [
    "### Exercise 4 (LassoCV)\n",
    "\n",
    "Here you will use `LassoCV` from scikit-learn to perform Lasso linear regression and cross validation all in one go. Your tasks are the following:\n",
    "\n",
    "1. Instantiate the LassoCV model by calling LassoCV (done for you).\n",
    "2. Fit the model to the training data.\n",
    "3. Determine the training and testing R2 scores.\n",
    "4. Call .alpha_ in order to determine the optimal tuning parameter alpha.\n",
    "\n",
    "The syntax here is essentially the same as any other machine learning algorithm from scikit-learn. If you have any issues, you can consult the scikit-learn guide on `LassoCV`.\n",
    "\n",
    "Do you get the same optimal tuning parameter alpha as obtained in this notebook? Any idea why that is or isn't the case?"
   ]
  },
  {
   "cell_type": "code",
   "execution_count": 82,
   "id": "a835ae46",
   "metadata": {},
   "outputs": [
    {
     "name": "stdout",
     "output_type": "stream",
     "text": [
      "The training R2 score is 0.532\n",
      "The testing R2 score is 0.451\n",
      "The Optimal alpha is 0.010\n"
     ]
    },
    {
     "data": {
      "text/html": [
       "<div>\n",
       "<style scoped>\n",
       "    .dataframe tbody tr th:only-of-type {\n",
       "        vertical-align: middle;\n",
       "    }\n",
       "\n",
       "    .dataframe tbody tr th {\n",
       "        vertical-align: top;\n",
       "    }\n",
       "\n",
       "    .dataframe thead th {\n",
       "        text-align: right;\n",
       "    }\n",
       "</style>\n",
       "<table border=\"1\" class=\"dataframe\">\n",
       "  <thead>\n",
       "    <tr style=\"text-align: right;\">\n",
       "      <th></th>\n",
       "      <th>R2 score</th>\n",
       "    </tr>\n",
       "  </thead>\n",
       "  <tbody>\n",
       "    <tr>\n",
       "      <th>training score</th>\n",
       "      <td>0.531601</td>\n",
       "    </tr>\n",
       "    <tr>\n",
       "      <th>testing score</th>\n",
       "      <td>0.450737</td>\n",
       "    </tr>\n",
       "  </tbody>\n",
       "</table>\n",
       "</div>"
      ],
      "text/plain": [
       "                R2 score\n",
       "training score  0.531601\n",
       "testing score   0.450737"
      ]
     },
     "execution_count": 82,
     "metadata": {},
     "output_type": "execute_result"
    }
   ],
   "source": [
    "from sklearn.linear_model import LassoCV\n",
    "\n",
    "# create an array of 21 alpha values logarithmically distributed between 10**(-2) and 10**2\n",
    "alfas = np.logspace(-2, 2, num=21) \n",
    "\n",
    "X_train, X_test, Y_train, Y_test = train_test_split(\n",
    "    nX, Y,\n",
    "    test_size = 0.2,\n",
    "    random_state = 1235\n",
    ") \n",
    "\n",
    "lassocv = LassoCV(alphas = alfas)\n",
    "\n",
    "# Now fit the model on the train data using the instantiated model ridgecv, determine the training\n",
    "# and testing R^2 scores, then call .alpha_ to find the optimal tuning parameter.\n",
    "\n",
    "\n",
    "# fit the model to the training data\n",
    "lassocv.fit(X_train,Y_train)\n",
    "\n",
    "# determine training and testing R2 scores\n",
    "train_predict_lasso =  lassocv.predict(X_train)\n",
    "test_predict_lasso = lassocv.predict(X_test)\n",
    "\n",
    "train_score_lasso= r2_score(Y_train,train_predict_lasso)\n",
    "test_score_lasso = r2_score(Y_test,test_predict_lasso)\n",
    "\n",
    "\n",
    "# determine the optimal tuning parameter alpha\n",
    "optimal_alpha_lasso = lassocv.alpha_\n",
    "print(f\"The training R2 score is {train_score_lasso:.3f}\")\n",
    "print(f\"The testing R2 score is {test_score_lasso:.3f}\")\n",
    "print(f'The Optimal alpha is {optimal_alpha_lasso:.3f}')\n",
    "\n",
    "pd.DataFrame({\n",
    "    \"R2 score\" : {\n",
    "        \"training score\" : train_score_lasso,\n",
    "        \"testing score\" : test_score_lasso\n",
    "    }\n",
    "})"
   ]
  },
  {
   "cell_type": "markdown",
   "id": "92dfc1a2",
   "metadata": {},
   "source": [
    "**Analysis**\n",
    "- The optimal alpha value is **not same** as in the pre studio note book.\n",
    "- Reasons of difference:\n",
    "    - In prestudio notebook, the `Lasso regulation` is done **manually**, as the values are looped over with predifined values logarithmicallyThe model is then fitted for each alpha value manually, where the optimal alpha is chosen based on the alpha value that maximizes the R2 score. This causes some potential better alpha value to be missed.\n",
    "    - For the `LassoCv` method, the wide range of alpha values are **cross-validated internally**, where **more precise** alpha values such as 1.585 can be chosen. This method is more **robust** as everything is done **automaticaly** to find the optimal alpha that prevents overfit or underfit.\n",
    "\n",
    "<hr>"
   ]
  },
  {
   "cell_type": "markdown",
   "id": "d047d49b",
   "metadata": {},
   "source": [
    "## Extra exercises\n",
    "\n",
    "The following exercises with (*) will not be assessed. Use these to check your understanding of topics covered in the past 2 weeks."
   ]
  },
  {
   "cell_type": "markdown",
   "id": "4c28e029",
   "metadata": {},
   "source": [
    "### Exercise 5* (coefficient variability vs multicolinearity)\n",
    "\n",
    "Similarly to the beginning of this notebook, repeat the k-fold cross-validation test for coefficient variability, but first remove the feature 'S2' from the dataset. Observe the impact on the coefficients for the other features. In particular, look at the coefficient for 'S1'. You should see that the range of values produced for the S1 coefficient is much narrower. Can you think of a reason why this is the case (consider the mathematical form of the model)?"
   ]
  }
 ],
 "metadata": {
  "kernelspec": {
   "display_name": "Python 3 (ipykernel)",
   "language": "python",
   "name": "python3"
  },
  "language_info": {
   "codemirror_mode": {
    "name": "ipython",
    "version": 3
   },
   "file_extension": ".py",
   "mimetype": "text/x-python",
   "name": "python",
   "nbconvert_exporter": "python",
   "pygments_lexer": "ipython3",
   "version": "3.12.4"
  }
 },
 "nbformat": 4,
 "nbformat_minor": 5
}
