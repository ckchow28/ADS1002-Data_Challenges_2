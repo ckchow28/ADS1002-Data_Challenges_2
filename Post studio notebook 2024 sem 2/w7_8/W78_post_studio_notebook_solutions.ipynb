{
 "cells": [
  {
   "cell_type": "markdown",
   "id": "dcab67ba",
   "metadata": {},
   "source": [
    "### Fill out:\n",
    "Name & Surname:\n",
    "\n",
    "Student ID:"
   ]
  },
  {
   "cell_type": "markdown",
   "id": "acc85a55",
   "metadata": {},
   "source": [
    "## W7&W8 post studio exercises (multivariate linear regression, regularisation)\n",
    "\n",
    "Enter your solution in the cell(s) below each exercise. Add couple of inline comments explaining your code. Don't forget to add comments in markdown cell after each exercise. Missing comments (in markdown cells and/or inline) and late submissions will incur penalties.\n",
    "\n",
    "Once done, drag&drop your python file to your ADS1002-name github account.\n",
    "\n",
    "Copy url of this file on github to appropriate folder on Moodle by 09.30am prior your next studio. \n",
    "\n",
    "Solutions will be released later in the semester.\n",
    "\n",
    "Max 10 marks - 2.5 marks per each exercise."
   ]
  },
  {
   "cell_type": "markdown",
   "id": "9fff9a3c",
   "metadata": {},
   "source": [
    "We will use diabetes data. Download this data from [the Gitlab site](https://gitlab.erc.monash.edu.au/bads/data-challenges-resources/-/tree/main/Machine-Learning/Supervised-Methods/Regression/Diabetes_Data.csv) into the same directory as the notebook on your computer. \n",
    "\n",
    "Run the following code from the pre-studio notebook."
   ]
  },
  {
   "cell_type": "code",
   "execution_count": 1,
   "id": "ee3e3333",
   "metadata": {},
   "outputs": [],
   "source": [
    "import pandas as pd\n",
    "import numpy as np\n",
    "from matplotlib import pyplot as plt\n",
    "from sklearn.model_selection import train_test_split # for splitting the data into training and testing sets\n",
    "from sklearn.linear_model import LinearRegression # models we are going to use\n",
    "from sklearn.metrics import r2_score, mean_squared_error, mean_absolute_error # for comparing the predicted and test values\n",
    "import seaborn as sns"
   ]
  },
  {
   "cell_type": "code",
   "execution_count": 2,
   "id": "d6418875",
   "metadata": {},
   "outputs": [],
   "source": [
    "df = pd.read_csv('Diabetes_Data.csv', usecols = range(0,11)) # read the Diabetes dataset in to a pandas dataframe\n",
    "corrs = df.corr()          # calculate the correlation table\n",
    "X = df.drop(['Y'],axis=1)  # Create a Dataframe without the target variable Y.\n",
    "Y = df['Y']                # Extract a Series of the target Y values."
   ]
  },
  {
   "cell_type": "code",
   "execution_count": 3,
   "id": "90027025",
   "metadata": {},
   "outputs": [],
   "source": [
    "# The below code is identical to our first attempt, the only change is\n",
    "# substituting nX for X in train_test_split, to use our normalised data.\n",
    "nX =(X-X.mean())/X.std() # create nX, a normalised version of X\n",
    "\n",
    "# Split into a training set with 80% of the data, and a testing set as the remainder.\n",
    "X_train, X_test, Y_train, Y_test = train_test_split(\n",
    "    nX, Y, test_size=0.2,\n",
    "    random_state=np.random.RandomState(31287)  # Keeps the 'random' split consistent.\n",
    ") \n",
    "\n",
    "# Construct and fit the model\n",
    "linear = LinearRegression()  # Instantatiate the linear regression model\n",
    "linear.fit(X_train,Y_train);  # Fit the model parameters to the training data."
   ]
  },
  {
   "cell_type": "code",
   "execution_count": 4,
   "id": "d02c8da1",
   "metadata": {},
   "outputs": [],
   "source": [
    "from sklearn.model_selection import cross_validate, RepeatedKFold # import sklearn methods\n",
    "\n",
    "# cross_validate takes the particular model, in this case linear regression which we instantatiated earlier,\n",
    "# and undertakes a number of runs according the method specified by cv=\n",
    "# RepeatedKFold splits the data into n sections and repeat the regression modelling 5 times, giving 25 runs\n",
    "# return_estimator=True returns the fitting data for each run\n",
    "scores = cross_validate(\n",
    "    linear, nX, Y,\n",
    "    cv=RepeatedKFold(n_splits=5, n_repeats=5, random_state=np.random.RandomState(2351786)),\n",
    "    return_estimator=True,\n",
    ")\n",
    "# take the results for each simulation (estimator), extract the coefficients for each run \n",
    "# and add them to a dataframe with columns being the feature names\n",
    "coefs = pd.DataFrame([est.coef_ for est in scores['estimator']],columns=nX.columns)"
   ]
  },
  {
   "cell_type": "markdown",
   "id": "69c6ff3b",
   "metadata": {},
   "source": [
    "### Exercise 1 (correlation coefs vs linear regression coefs)\n",
    "\n",
    "Compare the (mean of) model coefficients computed in the linear regression with the correlation scores found in the initial data analysis in pre-studio notebook. Choose any plot or table which you think is suitable for this comparison. Comment on whether the model fitting results are consistent with the correlation scores."
   ]
  },
  {
   "cell_type": "code",
   "execution_count": 5,
   "id": "d1ad296a",
   "metadata": {},
   "outputs": [],
   "source": [
    "# Hint 1: Table of correlation coefficients and dataframe with reg. coefs from cross validation are given above.\n",
    "# Hint 2: Create a dataframe which has the correlations with Y as a column, and then the \n",
    "# mean of coefficients computed from the cross_validate method for the other column.\n",
    "# You will need to scale the coefficients in order to compare this with the correlations (divide by 30, for example). \n",
    "# Hint 3: A bar plot seems like a good idea!"
   ]
  },
  {
   "cell_type": "markdown",
   "id": "0d30f697",
   "metadata": {},
   "source": [
    "#### Exercise 1 solution"
   ]
  },
  {
   "cell_type": "code",
   "execution_count": 6,
   "id": "26a8fe22",
   "metadata": {},
   "outputs": [
    {
     "data": {
      "image/png": "[encoded data removed]",
      "text/plain": [
       "<Figure size 1000x500 with 1 Axes>"
      ]
     },
     "metadata": {},
     "output_type": "display_data"
    }
   ],
   "source": [
    "# We create the dataframe 'comparison' consisting of a column containing the correlations of the features with the target,\n",
    "# as well as a column containing the mean of the coefficients obtained through the cross-validation process above.\n",
    "\n",
    "comparison = pd.DataFrame({\n",
    "    \"Correlation with Y\": df.corr()['Y'],\n",
    "    \"Mean Coefficient (scaled)\": coefs.mean() / 30,\n",
    "})\n",
    "comparison.plot(kind='bar', figsize=(10, 5));"
   ]
  },
  {
   "cell_type": "markdown",
   "id": "fae93449",
   "metadata": {},
   "source": [
    "A high correlation with the target variable does not necessarily guarantee that the model coefficent for the feature variable will be high. This is something to watch out for - there are interactions between the different feature variables which cause differences between the coefficients in a multivariate regression and the coefficient you would see in a univariate model."
   ]
  },
  {
   "cell_type": "markdown",
   "id": "fb7dbbe6",
   "metadata": {},
   "source": [
    "### Exercise 2 (coeeficient variability in a simpler model)\n",
    "\n",
    "Try fitting a linear regression model to a subset of the features. To do this, select 3-4 columns from the normalised dataframe `nX` to use when constructing the train-test split, then fit the model parameters to this new training data as before. Describe how you selected your subset of features. Did the model coefficients for your chosen features turn out to be similar or different to those in the full model given in pre-studio notebook? (Comment on change in variability of the coefficients. If there is a difference, explain why.)"
   ]
  },
  {
   "cell_type": "code",
   "execution_count": 7,
   "id": "fc3359a3",
   "metadata": {},
   "outputs": [],
   "source": [
    "#Settings: 80-20 split, random state 31287.\n",
    "\n",
    "#Aim is to show variability of corresponding coefficients \n",
    "#(train-test-split + cross validation + appropriate plot + compare to pre-studio)\n",
    "\n",
    "# No regularisation yet."
   ]
  },
  {
   "cell_type": "markdown",
   "id": "05155afe",
   "metadata": {},
   "source": [
    "#### Exercise 2 solution"
   ]
  },
  {
   "cell_type": "markdown",
   "id": "2fcbfa5b",
   "metadata": {},
   "source": [
    "Note for marking: Any (reasonable) choice of 3-4 features with an explanation is OK."
   ]
  },
  {
   "cell_type": "code",
   "execution_count": 8,
   "id": "af3b96bc",
   "metadata": {},
   "outputs": [
    {
     "data": {
      "image/png": "[encoded data removed]",
      "text/plain": [
       "<Figure size 700x500 with 1 Axes>"
      ]
     },
     "metadata": {},
     "output_type": "display_data"
    }
   ],
   "source": [
    "# Here we will use RepeatedKFold to determine the variability of our coefficients in our linear regression\n",
    "\n",
    "X_train, X_test, Y_train, Y_test = train_test_split(\n",
    "    nX[[\"BMI\", \"BP\", \"S1\", \"S5\"]], Y, test_size = 0.2,\n",
    "    random_state = np.random.RandomState(31287)  # Keeps the 'random' split consistent.\n",
    ")\n",
    "\n",
    "scores = cross_validate(\n",
    "    linear, X_train, Y_train,\n",
    "    cv = RepeatedKFold(n_splits = 5, n_repeats = 5, random_state = np.random.RandomState(2351786)),\n",
    "    return_estimator=True,\n",
    ")\n",
    "\n",
    "coefs_ex2 = pd.DataFrame([est.coef_ for est in scores['estimator']],columns = X_train.columns)\n",
    "ax = coefs_ex2.plot(kind = 'box',figsize=(7, 5))\n",
    "plt.title('Linear Regression')\n",
    "plt.axhline(y = 0, color = '.5')\n",
    "plt.subplots_adjust(left = .3)"
   ]
  },
  {
   "cell_type": "markdown",
   "id": "d8fe6217",
   "metadata": {},
   "source": [
    "S1 variability is lowered significantly. With a simpler model, we see less tendency towards overfitting, so the coefficient values may remain more consistent."
   ]
  },
  {
   "cell_type": "markdown",
   "id": "ec00e7b3",
   "metadata": {},
   "source": [
    "***\n",
    "In W8 pre-studio notebook we found the optimal tuning parameters ($\\alpha$) for both Ridge and Lasso regularisation via numerical experimentation. In practice however, the process of tuning and fitting a linear regression with Ridge or Lasso regularisation is automated through the functions `RidgeCV` and `LassoCV` respectively. When we call the .fit method for `RidgeCV`, cross-valiadation is implemented by performing Ridge linear regression over a variety of tuning parameters in order to determine the optimal tuning parameter $\\alpha$. Once the optimal tuning parameter is found, the model can then be fit. In fact, we can extract the optimal tuning parameter $\\alpha$ by calling .alpha_. A similar process is utilised for `LassoCV`.\n",
    "\n",
    "N.B. Both Ridge and Lasso regularisation require the feature set to be normalised. "
   ]
  },
  {
   "cell_type": "markdown",
   "id": "9053e180",
   "metadata": {},
   "source": [
    "### Exercise 3 (RidgeCV)\n",
    "\n",
    "Here you will use `RidgeCV` from scikit-learn to perform Ridge linear regression and cross validation all in one go. Your tasks are the following:\n",
    "\n",
    "1. Instantiate the RidgeCV model by calling RidgeCV (done for you).\n",
    "2. Fit the model to the training data.\n",
    "3. Determine the training and testing R2 scores.\n",
    "4. Call .alpha_ in order to determine the optimal tuning parameter alpha.\n",
    "\n",
    "The syntax here is essentially the same as any other machine learning algorithm from scikit-learn. If you have any issues, you can consult the scikit-learn guide on `RidgeCV`.\n",
    "\n",
    "Do you get the same optimal tuning parameter alpha as obtained in this notebook? Any idea why that is or isn't the case?"
   ]
  },
  {
   "cell_type": "code",
   "execution_count": 9,
   "id": "7869e785",
   "metadata": {},
   "outputs": [],
   "source": [
    "from sklearn.linear_model import RidgeCV\n",
    "\n",
    "# create an array of 21 alpha values logarithmically distributed between 10**(-2) and 10**2\n",
    "alfas = np.logspace(-2, 2, num=21) \n",
    "\n",
    "X_train, X_test, Y_train, Y_test = train_test_split(\n",
    "    nX, Y,\n",
    "    test_size=0.2,\n",
    "    random_state=1235\n",
    ") \n",
    "\n",
    "ridgecv = RidgeCV(alfas, store_cv_values=True)\n",
    "\n",
    "# Now you will need to fit the model on the train data using the instantiated model ridgecv, determine the training\n",
    "# and testing R^2 scores, then call .alpha_ to find the optimal tuning parameter."
   ]
  },
  {
   "cell_type": "markdown",
   "id": "9e0a9dfb",
   "metadata": {},
   "source": [
    "#### Exercise 3 Solution"
   ]
  },
  {
   "cell_type": "code",
   "execution_count": 10,
   "id": "6152f19e",
   "metadata": {},
   "outputs": [
    {
     "name": "stdout",
     "output_type": "stream",
     "text": [
      "The training score is :0.531\n",
      "The testing score is :0.452\n",
      "The optimal tuning parameter is alpha = 1.585\n"
     ]
    }
   ],
   "source": [
    "# fit ridgecv to the training data and determine the R^2 score for the training set.\n",
    "ridgecv.fit(X_train, Y_train)\n",
    "training_score = ridgecv.score(X_train, Y_train)\n",
    "\n",
    "# use the independent variables for the testing set to predict the target variable\n",
    "y_pred = ridgecv.predict(X_test)\n",
    "testing_score = r2_score(Y_test, y_pred)\n",
    "\n",
    "print(f'The training score is :{training_score:.3f}')\n",
    "print(f'The testing score is :{testing_score:.3f}')\n",
    "print(f'The optimal tuning parameter is alpha = {ridgecv.alpha_:.3f}')"
   ]
  },
  {
   "cell_type": "markdown",
   "id": "214fa594",
   "metadata": {},
   "source": [
    "Different result: `RidgeCV` finds optimal $\\alpha$ across all cross-validated <u>training sets</u>. In our pre-studio, we chose $\\alpha$ with the highest <u>testing</u> score (using single train-test-split)."
   ]
  },
  {
   "cell_type": "markdown",
   "id": "ee08609f",
   "metadata": {},
   "source": [
    "### Exercise 4 (LassoCV)\n",
    "\n",
    "Here you will use `LassoCV` from scikit-learn to perform Lasso linear regression and cross validation all in one go. Your tasks are the following:\n",
    "\n",
    "1. Instantiate the LassoCV model by calling LassoCV (done for you).\n",
    "2. Fit the model to the training data.\n",
    "3. Determine the training and testing R2 scores.\n",
    "4. Call .alpha_ in order to determine the optimal tuning parameter alpha.\n",
    "\n",
    "The syntax here is essentially the same as any other machine learning algorithm from scikit-learn. If you have any issues, you can consult the scikit-learn guide on `LassoCV`.\n",
    "\n",
    "Do you get the same optimal tuning parameter alpha as obtained in this notebook? Any idea why that is or isn't the case?"
   ]
  },
  {
   "cell_type": "code",
   "execution_count": 11,
   "id": "a835ae46",
   "metadata": {},
   "outputs": [],
   "source": [
    "from sklearn.linear_model import LassoCV\n",
    "\n",
    "# create an array of 21 alpha values logarithmically distributed between 10**(-2) and 10**2\n",
    "alfas = np.logspace(-2, 2, num=21) \n",
    "\n",
    "X_train, X_test, Y_train, Y_test = train_test_split(\n",
    "    nX, Y,\n",
    "    test_size = 0.2,\n",
    "    random_state = 1235\n",
    ") \n",
    "\n",
    "lassocv = LassoCV(alphas = alfas)\n",
    "\n",
    "# Now you will need to fit the model on the train data using the instantiated model lassocv, determine the training\n",
    "# and testing R^2 scores, then call .alpha_ to find the optimal tuning parameter."
   ]
  },
  {
   "cell_type": "markdown",
   "id": "5e2ee020",
   "metadata": {},
   "source": [
    "#### Exercise 4 solution"
   ]
  },
  {
   "cell_type": "code",
   "execution_count": 12,
   "id": "b2d2e84b",
   "metadata": {},
   "outputs": [
    {
     "name": "stdout",
     "output_type": "stream",
     "text": [
      "The training score is :0.532\n",
      "The testing score is :0.451\n",
      "The optimal tuning parameter is alpha = 0.010\n"
     ]
    }
   ],
   "source": [
    "# fit lassocv to the training data\n",
    "lassocv.fit(X_train, Y_train)\n",
    "\n",
    "# Compute the score for the training set\n",
    "training_score = lassocv.score(X_train, Y_train)\n",
    "\n",
    "# use the independent variables for the testing set to predict the target variable\n",
    "y_pred = lassocv.predict(X_test)\n",
    "testing_score = r2_score(Y_test, y_pred)\n",
    "\n",
    "print(f'The training score is :{training_score:.3f}')\n",
    "print(f'The testing score is :{testing_score:.3f}')\n",
    "print(f'The optimal tuning parameter is alpha = {lassocv.alpha_:.3f}')"
   ]
  },
  {
   "cell_type": "markdown",
   "id": "7b20de3b",
   "metadata": {},
   "source": [
    "Similarly to Q3, `LassoCV` chooses the optimal $\\alpha$ across all cross-validated <u>training sets</u>. In our pre-studio, we chose $\\alpha$ with the highest <u>testing</u> score (using single train-test-split)."
   ]
  },
  {
   "cell_type": "markdown",
   "id": "11c81875",
   "metadata": {},
   "source": [
    "For both `RidgeCV` and `LassoCV`, the optimal tuning parameters are rather different! This is because what is 'optimal' depends on your cross validation method. By default, these RidgeCV and LassoCV do not utilise the same cross validation method we utilised for finding the optimal tuning parameters. You can adjust the cross validation method utilised by RidgeCV and LassoCV by calling the optional argument cv. Some methods include\n",
    "\n",
    "- k-fold\n",
    "- Leave-one-out\n",
    "- Leave-p-out\n",
    "\n",
    "You can learn more about this by consulting the scikit-learn guide on cross validation."
   ]
  },
  {
   "cell_type": "markdown",
   "id": "d047d49b",
   "metadata": {},
   "source": [
    "## Extra exercises\n",
    "\n",
    "The following exercises with (*) will not be assessed. Use these to check your understanding of topics covered in the past 2 weeks."
   ]
  },
  {
   "cell_type": "markdown",
   "id": "4c28e029",
   "metadata": {},
   "source": [
    "### Exercise 5* (coefficient variability vs multicolinearity)\n",
    "\n",
    "Similarly to the beginning of this notebook, repeat the k-fold cross-validation test for coefficient variability, but first remove the feature 'S2' from the dataset. Observe the impact on the coefficients for the other features. In particular, look at the coefficient for 'S1'. You should see that the range of values produced for the S1 coefficient is much narrower. Can you think of a reason why this is the case (consider the mathematical form of the model)?"
   ]
  },
  {
   "cell_type": "markdown",
   "id": "77dbc14d",
   "metadata": {},
   "source": [
    "#### Exercise 5 solution"
   ]
  },
  {
   "cell_type": "code",
   "execution_count": 13,
   "id": "5b2abf7e",
   "metadata": {},
   "outputs": [
    {
     "data": {
      "image/png": "[encoded data removed]",
      "text/plain": [
       "<Figure size 1000x700 with 1 Axes>"
      ]
     },
     "metadata": {},
     "output_type": "display_data"
    }
   ],
   "source": [
    "X_train, X_test, Y_train, Y_test = train_test_split(\n",
    "    nX.drop(columns = \"S2\"), Y, test_size = 0.2,\n",
    "    random_state=np.random.RandomState(31287)  # Keeps the 'random' split consistent.\n",
    ")\n",
    "\n",
    "scores = cross_validate(\n",
    "    linear, X_train, Y_train,\n",
    "    cv=RepeatedKFold(n_splits = 5, n_repeats = 5, random_state = np.random.RandomState(2351786)),\n",
    "    return_estimator = True,\n",
    ")\n",
    "\n",
    "coefs_ex3 = pd.DataFrame([est.coef_ for est in scores['estimator']], columns = X_train.columns)\n",
    "ax = coefs_ex3.plot(kind = 'box', figsize = (10,7))\n",
    "plt.title('Linear Regression')\n",
    "plt.axhline(y = 0, color = '.5')\n",
    "plt.subplots_adjust(left = .3)"
   ]
  },
  {
   "cell_type": "markdown",
   "id": "33aa6d84",
   "metadata": {},
   "source": [
    "S1 and S2 are strongly correlated. This means we can fit several different models where we 'trade off' the effect of S1 for S2. If we remove S2, we get a more consistent result."
   ]
  }
 ],
 "metadata": {
  "kernelspec": {
   "display_name": "Python 3 (ipykernel)",
   "language": "python",
   "name": "python3"
  },
  "language_info": {
   "codemirror_mode": {
    "name": "ipython",
    "version": 3
   },
   "file_extension": ".py",
   "mimetype": "text/x-python",
   "name": "python",
   "nbconvert_exporter": "python",
   "pygments_lexer": "ipython3",
   "version": "3.11.7"
  }
 },
 "nbformat": 4,
 "nbformat_minor": 5
}
