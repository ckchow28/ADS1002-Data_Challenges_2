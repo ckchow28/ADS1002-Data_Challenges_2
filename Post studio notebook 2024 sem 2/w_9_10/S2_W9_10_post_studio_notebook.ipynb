{
 "cells": [
  {
   "cell_type": "markdown",
   "id": "dcab67ba",
   "metadata": {},
   "source": [
    "### Fill out:\n",
    "Name & Surname:\n",
    "\n",
    "Student ID:"
   ]
  },
  {
   "cell_type": "markdown",
   "id": "acc85a55",
   "metadata": {},
   "source": [
    "## W9&W10 post studio exercises (Logistic regression, Decision trees)\n",
    "\n",
    "Enter your solution in the cell(s) below each exercise. Add couple of inline comments explaining your code. Don't forget to add comments in markdown cell after each exercise. Missing comments (in markdown cells and/or inline) and late submissions will incur penalties.\n",
    "\n",
    "Once done, drag&drop your python file to your ADS1002-name github account.\n",
    "\n",
    "Copy url of this file on github to appropriate folder on Moodle by 09.30am prior your next studio. \n",
    "\n",
    "Solutions will be released later in the semester.\n",
    "\n",
    "Max 10 marks - 2.5 marks per each exercise."
   ]
  },
  {
   "cell_type": "code",
   "execution_count": null,
   "id": "1234b0f6",
   "metadata": {},
   "outputs": [],
   "source": [
    "import numpy as np\n",
    "import matplotlib.pyplot as plt\n",
    "import seaborn as sns;\n",
    "import pandas as pd\n",
    "\n",
    "%matplotlib inline"
   ]
  },
  {
   "cell_type": "markdown",
   "id": "59a2d18d",
   "metadata": {},
   "source": [
    "## Exercises (Logistic regression)"
   ]
  },
  {
   "cell_type": "markdown",
   "id": "ce748ed2",
   "metadata": {},
   "source": [
    "In this exercise you are going to construct a simple one vs rest multiclass classifier based on the probabilities for each of the binary problems for the three iris species. A one-vs-rest classification scheme constructs multiple models (one for each class) where each model predicts a binary classification and combines the results to come up with a single prediction.\n",
    "\n",
    "For this problem, only use the first two features, i.e., `sepal length` and `sepal width` (don't standardise/normalise/etc). \n",
    "\n",
    "The steps for this multiclass classifier are:\n",
    "\n",
    "* Exercise 1: \n",
    "    * Create a new features dataframe which contains only the first two columns of the iris data frame. \n",
    "    * For each of the iris categories, i.e., species_setosa, species_versicolor, and species_virginica, model the data using Logistic Regression and calculate the probabilities for the testing set of the category being correct. Store these probabilites in an array (or dataframe). For each category you will need to re-do the train-test split, but make sure you use the same random state (random state 1). Alternatively, split the data set initially with all three labels, and then work on each category. The necessary one-hot encoding has already been performed.\n",
    "    * **Settings:**\n",
    "        * 80/20 train-test-split with random state = 1\n",
    "        * **LogisticRegression()** (meaning default solver and penalty applies)\n",
    "    * **Output:** Show first 5 (rows of) probabilities for all (3) species.\n",
    "* Exercise 2: \n",
    "    * For each instance in feature space (testing set), choose the category with the highest probability. The function `numpy.argmax()` will be useful.     \n",
    "    * **Output:** Show first 5 entries for sepal_length, sepal_width, max probability and predicted class.\n",
    "    * **Output:** Plot the final classification for the testing set in feature space, with colours based on the predicted category.\n",
    "    \n",
    "**Exercises 1 - 2** below correspond to the two points outlined above.\n",
    "\n",
    "Q: After completing the code below and inspecting the results, comment on which class(es) appear most difficult to predict accurately. Can you suggest any improvements to the model which might result in better accuracy?"
   ]
  },
  {
   "cell_type": "code",
   "execution_count": null,
   "id": "2fd1b467",
   "metadata": {},
   "outputs": [],
   "source": [
    "iris = sns.load_dataset('iris') # load the dataset from seaborn\n",
    "\n",
    "species_one_hots =  pd.get_dummies(iris.species, prefix = 'species')\n",
    "iris = pd.concat([iris, species_one_hots], axis = 1)"
   ]
  },
  {
   "cell_type": "markdown",
   "id": "78d195dd",
   "metadata": {},
   "source": [
    "### Exercise 1"
   ]
  },
  {
   "cell_type": "code",
   "execution_count": null,
   "id": "93c2deae",
   "metadata": {},
   "outputs": [],
   "source": [
    "# Part 1\n"
   ]
  },
  {
   "cell_type": "markdown",
   "id": "d873fb03",
   "metadata": {},
   "source": [
    "### Exercise 2"
   ]
  },
  {
   "cell_type": "code",
   "execution_count": null,
   "id": "b1be174b",
   "metadata": {},
   "outputs": [],
   "source": [
    "# Part 2\n"
   ]
  },
  {
   "cell_type": "markdown",
   "id": "b30fbb0c",
   "metadata": {},
   "source": [
    "## Exercises (Decision trees)"
   ]
  },
  {
   "cell_type": "markdown",
   "id": "397a6b31",
   "metadata": {},
   "source": [
    "For these exercises we will model a dataset of the properties of wheat seeds, which you can download from GitLab: \n",
    "\n",
    "[seeds_dataset](https://gitlab.erc.monash.edu.au/bads/data-challenges-resources/-/blob/main/Machine-Learning/Supervised-Methods/Decision-Trees/seeds_dataset.csv)\n",
    "\n",
    "This is originally from the [UCI Machine Learning Repository](https://archive.ics.uci.edu/ml/datasets/seeds). The seedtype is an integer (1, 2, or 3) corresponding to the three classes `Kama`, `Rosa` and `Canadian` in the classes list below.\n",
    "\n",
    "Run all the cells below before writing your solutions; don't standardise/normalise/etc."
   ]
  },
  {
   "cell_type": "code",
   "execution_count": null,
   "id": "08027fae",
   "metadata": {},
   "outputs": [],
   "source": [
    "seeds = pd.read_csv('seeds_dataset.csv', header=None, \n",
    "                   names=['area','perimeter','compactness','length','width','asymmetry',\n",
    "                         'groovelength','seedtype'])\n",
    "classes = ['Kama', 'Rosa', 'Canadian']"
   ]
  },
  {
   "cell_type": "code",
   "execution_count": null,
   "id": "fc569421",
   "metadata": {},
   "outputs": [],
   "source": [
    "seeds.head()"
   ]
  },
  {
   "cell_type": "markdown",
   "id": "1a354bc7",
   "metadata": {},
   "source": [
    "Split the data into features and labels, and into a training and testing set."
   ]
  },
  {
   "cell_type": "code",
   "execution_count": null,
   "id": "0a58e31f",
   "metadata": {},
   "outputs": [],
   "source": [
    "X_ex = seeds.drop('seedtype', axis = 1)\n",
    "y_ex = seeds['seedtype']\n",
    "\n",
    "X_train, X_test, y_train, y_test = train_test_split(\n",
    "    X_ex, y_ex, random_state = 42\n",
    ")"
   ]
  },
  {
   "cell_type": "markdown",
   "id": "995c6508",
   "metadata": {},
   "source": [
    "### Exercise 3"
   ]
  },
  {
   "cell_type": "markdown",
   "id": "3c1f4979",
   "metadata": {},
   "source": [
    "Create a simple Decision Tree of maximum depth=3 and fit the training data to this model.\n",
    "\n",
    "**Settings for decision tree:**\n",
    "\n",
    "* random state 42\n",
    "* max depth 3\n",
    "\n",
    "Plot the decision tree for this model, and identify the most significant features for the classification of this dataset."
   ]
  },
  {
   "cell_type": "markdown",
   "id": "ae151b87",
   "metadata": {},
   "source": [
    "### Exercise 4"
   ]
  },
  {
   "cell_type": "markdown",
   "id": "4fc66d4d",
   "metadata": {},
   "source": [
    "Plot the confusion matrix for this model, and calculate the accuracy."
   ]
  }
 ],
 "metadata": {
  "kernelspec": {
   "display_name": "Python 3 (ipykernel)",
   "language": "python",
   "name": "python3"
  },
  "language_info": {
   "codemirror_mode": {
    "name": "ipython",
    "version": 3
   },
   "file_extension": ".py",
   "mimetype": "text/x-python",
   "name": "python",
   "nbconvert_exporter": "python",
   "pygments_lexer": "ipython3",
   "version": "3.9.13"
  }
 },
 "nbformat": 4,
 "nbformat_minor": 5
}
