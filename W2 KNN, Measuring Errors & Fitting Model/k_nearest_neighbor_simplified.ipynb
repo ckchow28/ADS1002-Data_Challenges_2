{
 "cells": [
  {
   "cell_type": "markdown",
   "id": "0b01ff04-30db-4cd5-9806-e87a172e6cd7",
   "metadata": {},
   "source": [
    "### Week-2: k-NN Algorithm Revision"
   ]
  },
  {
   "cell_type": "markdown",
   "id": "147bb226-1c2b-46e7-adf1-fc7aeafc6792",
   "metadata": {},
   "source": [
    "### Learning Outcomes\n",
    "\n",
    "- Apply scientific thinking to data-oriented projects and tasks.\n",
    "- Perform a range tasks to analyse and visualise data."
   ]
  },
  {
   "cell_type": "code",
   "execution_count": null,
   "id": "94b256f4-7ee9-4a2d-ad4f-8cccfae3056c",
   "metadata": {},
   "outputs": [],
   "source": [
    "# data source: https://www.kaggle.com/datasets/rabieelkharoua/students-performance-dataset?resource=download"
   ]
  },
  {
   "cell_type": "code",
   "execution_count": 1,
   "id": "884e9a2b-1e7c-4ad8-aaf8-8f0f81060892",
   "metadata": {},
   "outputs": [],
   "source": [
    "import pandas as pd\n",
    "import numpy as np\n",
    "import matplotlib.pyplot as plt\n",
    "import seaborn as sns\n",
    "from sklearn.model_selection import train_test_split\n",
    "from sklearn.preprocessing import StandardScaler\n",
    "from sklearn.neighbors import KNeighborsClassifier\n",
    "from sklearn.metrics import accuracy_score, classification_report, confusion_matrix\n",
    "import warnings\n",
    "warnings.filterwarnings(\"ignore\")"
   ]
  },
  {
   "cell_type": "code",
   "execution_count": 3,
   "id": "76c78630-f66d-4f94-8fd6-f3e95c21abab",
   "metadata": {},
   "outputs": [
    {
     "data": {
      "text/html": [
       "<div>\n",
       "<style scoped>\n",
       "    .dataframe tbody tr th:only-of-type {\n",
       "        vertical-align: middle;\n",
       "    }\n",
       "\n",
       "    .dataframe tbody tr th {\n",
       "        vertical-align: top;\n",
       "    }\n",
       "\n",
       "    .dataframe thead th {\n",
       "        text-align: right;\n",
       "    }\n",
       "</style>\n",
       "<table border=\"1\" class=\"dataframe\">\n",
       "  <thead>\n",
       "    <tr style=\"text-align: right;\">\n",
       "      <th></th>\n",
       "      <th>StudentID</th>\n",
       "      <th>Age</th>\n",
       "      <th>Gender</th>\n",
       "      <th>Ethnicity</th>\n",
       "      <th>ParentalEducation</th>\n",
       "      <th>StudyTimeWeekly</th>\n",
       "      <th>Absences</th>\n",
       "      <th>Tutoring</th>\n",
       "      <th>ParentalSupport</th>\n",
       "      <th>Extracurricular</th>\n",
       "      <th>Sports</th>\n",
       "      <th>Music</th>\n",
       "      <th>Volunteering</th>\n",
       "      <th>GPA</th>\n",
       "      <th>GradeClass</th>\n",
       "    </tr>\n",
       "  </thead>\n",
       "  <tbody>\n",
       "    <tr>\n",
       "      <th>0</th>\n",
       "      <td>1001</td>\n",
       "      <td>17</td>\n",
       "      <td>1</td>\n",
       "      <td>0</td>\n",
       "      <td>2</td>\n",
       "      <td>19.833723</td>\n",
       "      <td>7</td>\n",
       "      <td>1</td>\n",
       "      <td>2</td>\n",
       "      <td>0</td>\n",
       "      <td>0</td>\n",
       "      <td>1</td>\n",
       "      <td>0</td>\n",
       "      <td>2.929196</td>\n",
       "      <td>2</td>\n",
       "    </tr>\n",
       "    <tr>\n",
       "      <th>1</th>\n",
       "      <td>1002</td>\n",
       "      <td>18</td>\n",
       "      <td>0</td>\n",
       "      <td>0</td>\n",
       "      <td>1</td>\n",
       "      <td>15.408756</td>\n",
       "      <td>0</td>\n",
       "      <td>0</td>\n",
       "      <td>1</td>\n",
       "      <td>0</td>\n",
       "      <td>0</td>\n",
       "      <td>0</td>\n",
       "      <td>0</td>\n",
       "      <td>3.042915</td>\n",
       "      <td>1</td>\n",
       "    </tr>\n",
       "    <tr>\n",
       "      <th>2</th>\n",
       "      <td>1003</td>\n",
       "      <td>15</td>\n",
       "      <td>0</td>\n",
       "      <td>2</td>\n",
       "      <td>3</td>\n",
       "      <td>4.210570</td>\n",
       "      <td>26</td>\n",
       "      <td>0</td>\n",
       "      <td>2</td>\n",
       "      <td>0</td>\n",
       "      <td>0</td>\n",
       "      <td>0</td>\n",
       "      <td>0</td>\n",
       "      <td>0.112602</td>\n",
       "      <td>4</td>\n",
       "    </tr>\n",
       "    <tr>\n",
       "      <th>3</th>\n",
       "      <td>1004</td>\n",
       "      <td>17</td>\n",
       "      <td>1</td>\n",
       "      <td>0</td>\n",
       "      <td>3</td>\n",
       "      <td>10.028829</td>\n",
       "      <td>14</td>\n",
       "      <td>0</td>\n",
       "      <td>3</td>\n",
       "      <td>1</td>\n",
       "      <td>0</td>\n",
       "      <td>0</td>\n",
       "      <td>0</td>\n",
       "      <td>2.054218</td>\n",
       "      <td>3</td>\n",
       "    </tr>\n",
       "    <tr>\n",
       "      <th>4</th>\n",
       "      <td>1005</td>\n",
       "      <td>17</td>\n",
       "      <td>1</td>\n",
       "      <td>0</td>\n",
       "      <td>2</td>\n",
       "      <td>4.672495</td>\n",
       "      <td>17</td>\n",
       "      <td>1</td>\n",
       "      <td>3</td>\n",
       "      <td>0</td>\n",
       "      <td>0</td>\n",
       "      <td>0</td>\n",
       "      <td>0</td>\n",
       "      <td>1.288061</td>\n",
       "      <td>4</td>\n",
       "    </tr>\n",
       "  </tbody>\n",
       "</table>\n",
       "</div>"
      ],
      "text/plain": [
       "   StudentID  Age  Gender  Ethnicity  ParentalEducation  StudyTimeWeekly  \\\n",
       "0       1001   17       1          0                  2        19.833723   \n",
       "1       1002   18       0          0                  1        15.408756   \n",
       "2       1003   15       0          2                  3         4.210570   \n",
       "3       1004   17       1          0                  3        10.028829   \n",
       "4       1005   17       1          0                  2         4.672495   \n",
       "\n",
       "   Absences  Tutoring  ParentalSupport  Extracurricular  Sports  Music  \\\n",
       "0         7         1                2                0       0      1   \n",
       "1         0         0                1                0       0      0   \n",
       "2        26         0                2                0       0      0   \n",
       "3        14         0                3                1       0      0   \n",
       "4        17         1                3                0       0      0   \n",
       "\n",
       "   Volunteering       GPA  GradeClass  \n",
       "0             0  2.929196           2  \n",
       "1             0  3.042915           1  \n",
       "2             0  0.112602           4  \n",
       "3             0  2.054218           3  \n",
       "4             0  1.288061           4  "
      ]
     },
     "execution_count": 3,
     "metadata": {},
     "output_type": "execute_result"
    }
   ],
   "source": [
    "df = pd.read_csv(\"../data/kaggle_student_performance_data.csv\")\n",
    "df.head()"
   ]
  },
  {
   "cell_type": "code",
   "execution_count": 4,
   "id": "4c951ae5-da1c-4e5b-bd14-c99be017bf6d",
   "metadata": {},
   "outputs": [
    {
     "data": {
      "text/html": [
       "<div>\n",
       "<style scoped>\n",
       "    .dataframe tbody tr th:only-of-type {\n",
       "        vertical-align: middle;\n",
       "    }\n",
       "\n",
       "    .dataframe tbody tr th {\n",
       "        vertical-align: top;\n",
       "    }\n",
       "\n",
       "    .dataframe thead th {\n",
       "        text-align: right;\n",
       "    }\n",
       "</style>\n",
       "<table border=\"1\" class=\"dataframe\">\n",
       "  <thead>\n",
       "    <tr style=\"text-align: right;\">\n",
       "      <th></th>\n",
       "      <th>Age</th>\n",
       "      <th>Gender</th>\n",
       "      <th>Ethnicity</th>\n",
       "      <th>ParentalEducation</th>\n",
       "      <th>StudyTimeWeekly</th>\n",
       "      <th>Absences</th>\n",
       "      <th>Tutoring</th>\n",
       "      <th>ParentalSupport</th>\n",
       "      <th>Extracurricular</th>\n",
       "      <th>Sports</th>\n",
       "      <th>Music</th>\n",
       "      <th>Volunteering</th>\n",
       "      <th>GPA</th>\n",
       "      <th>GradeClass</th>\n",
       "    </tr>\n",
       "  </thead>\n",
       "  <tbody>\n",
       "    <tr>\n",
       "      <th>0</th>\n",
       "      <td>17</td>\n",
       "      <td>1</td>\n",
       "      <td>0</td>\n",
       "      <td>2</td>\n",
       "      <td>19.833723</td>\n",
       "      <td>7</td>\n",
       "      <td>1</td>\n",
       "      <td>2</td>\n",
       "      <td>0</td>\n",
       "      <td>0</td>\n",
       "      <td>1</td>\n",
       "      <td>0</td>\n",
       "      <td>2.929196</td>\n",
       "      <td>2</td>\n",
       "    </tr>\n",
       "    <tr>\n",
       "      <th>1</th>\n",
       "      <td>18</td>\n",
       "      <td>0</td>\n",
       "      <td>0</td>\n",
       "      <td>1</td>\n",
       "      <td>15.408756</td>\n",
       "      <td>0</td>\n",
       "      <td>0</td>\n",
       "      <td>1</td>\n",
       "      <td>0</td>\n",
       "      <td>0</td>\n",
       "      <td>0</td>\n",
       "      <td>0</td>\n",
       "      <td>3.042915</td>\n",
       "      <td>1</td>\n",
       "    </tr>\n",
       "    <tr>\n",
       "      <th>2</th>\n",
       "      <td>15</td>\n",
       "      <td>0</td>\n",
       "      <td>2</td>\n",
       "      <td>3</td>\n",
       "      <td>4.210570</td>\n",
       "      <td>26</td>\n",
       "      <td>0</td>\n",
       "      <td>2</td>\n",
       "      <td>0</td>\n",
       "      <td>0</td>\n",
       "      <td>0</td>\n",
       "      <td>0</td>\n",
       "      <td>0.112602</td>\n",
       "      <td>4</td>\n",
       "    </tr>\n",
       "    <tr>\n",
       "      <th>3</th>\n",
       "      <td>17</td>\n",
       "      <td>1</td>\n",
       "      <td>0</td>\n",
       "      <td>3</td>\n",
       "      <td>10.028829</td>\n",
       "      <td>14</td>\n",
       "      <td>0</td>\n",
       "      <td>3</td>\n",
       "      <td>1</td>\n",
       "      <td>0</td>\n",
       "      <td>0</td>\n",
       "      <td>0</td>\n",
       "      <td>2.054218</td>\n",
       "      <td>3</td>\n",
       "    </tr>\n",
       "    <tr>\n",
       "      <th>4</th>\n",
       "      <td>17</td>\n",
       "      <td>1</td>\n",
       "      <td>0</td>\n",
       "      <td>2</td>\n",
       "      <td>4.672495</td>\n",
       "      <td>17</td>\n",
       "      <td>1</td>\n",
       "      <td>3</td>\n",
       "      <td>0</td>\n",
       "      <td>0</td>\n",
       "      <td>0</td>\n",
       "      <td>0</td>\n",
       "      <td>1.288061</td>\n",
       "      <td>4</td>\n",
       "    </tr>\n",
       "  </tbody>\n",
       "</table>\n",
       "</div>"
      ],
      "text/plain": [
       "   Age  Gender  Ethnicity  ParentalEducation  StudyTimeWeekly  Absences  \\\n",
       "0   17       1          0                  2        19.833723         7   \n",
       "1   18       0          0                  1        15.408756         0   \n",
       "2   15       0          2                  3         4.210570        26   \n",
       "3   17       1          0                  3        10.028829        14   \n",
       "4   17       1          0                  2         4.672495        17   \n",
       "\n",
       "   Tutoring  ParentalSupport  Extracurricular  Sports  Music  Volunteering  \\\n",
       "0         1                2                0       0      1             0   \n",
       "1         0                1                0       0      0             0   \n",
       "2         0                2                0       0      0             0   \n",
       "3         0                3                1       0      0             0   \n",
       "4         1                3                0       0      0             0   \n",
       "\n",
       "        GPA  GradeClass  \n",
       "0  2.929196           2  \n",
       "1  3.042915           1  \n",
       "2  0.112602           4  \n",
       "3  2.054218           3  \n",
       "4  1.288061           4  "
      ]
     },
     "execution_count": 4,
     "metadata": {},
     "output_type": "execute_result"
    }
   ],
   "source": [
    "# drop the StudentID column\n",
    "df=df.drop(columns=['StudentID'])\n",
    "df.head()"
   ]
  },
  {
   "cell_type": "code",
   "execution_count": 4,
   "id": "606cc4b2-dc7f-42c5-bcc3-690594ce5445",
   "metadata": {},
   "outputs": [
    {
     "data": {
      "text/plain": [
       "Index([], dtype='object')"
      ]
     },
     "execution_count": 4,
     "metadata": {},
     "output_type": "execute_result"
    }
   ],
   "source": [
    "# List the columns with missing values\n",
    "df.columns[df.isnull().any()]"
   ]
  },
  {
   "cell_type": "code",
   "execution_count": 123,
   "id": "1aff156f-b098-4c67-aeed-eaaca03135e5",
   "metadata": {},
   "outputs": [
    {
     "data": {
      "text/plain": [
       "Age                  0\n",
       "Gender               0\n",
       "Ethnicity            0\n",
       "ParentalEducation    0\n",
       "StudyTimeWeekly      0\n",
       "Absences             0\n",
       "Tutoring             0\n",
       "ParentalSupport      0\n",
       "Extracurricular      0\n",
       "Sports               0\n",
       "Music                0\n",
       "Volunteering         0\n",
       "GPA                  0\n",
       "GradeClass           0\n",
       "dtype: int64"
      ]
     },
     "execution_count": 123,
     "metadata": {},
     "output_type": "execute_result"
    }
   ],
   "source": [
    "df.isnull().sum()"
   ]
  },
  {
   "cell_type": "code",
   "execution_count": 124,
   "id": "35a589a4-ca3c-4c05-9691-e92e69131bbf",
   "metadata": {},
   "outputs": [
    {
     "name": "stdout",
     "output_type": "stream",
     "text": [
      "<class 'pandas.core.frame.DataFrame'>\n",
      "RangeIndex: 2392 entries, 0 to 2391\n",
      "Data columns (total 14 columns):\n",
      " #   Column             Non-Null Count  Dtype  \n",
      "---  ------             --------------  -----  \n",
      " 0   Age                2392 non-null   int64  \n",
      " 1   Gender             2392 non-null   int64  \n",
      " 2   Ethnicity          2392 non-null   int64  \n",
      " 3   ParentalEducation  2392 non-null   int64  \n",
      " 4   StudyTimeWeekly    2392 non-null   float64\n",
      " 5   Absences           2392 non-null   int64  \n",
      " 6   Tutoring           2392 non-null   int64  \n",
      " 7   ParentalSupport    2392 non-null   int64  \n",
      " 8   Extracurricular    2392 non-null   int64  \n",
      " 9   Sports             2392 non-null   int64  \n",
      " 10  Music              2392 non-null   int64  \n",
      " 11  Volunteering       2392 non-null   int64  \n",
      " 12  GPA                2392 non-null   float64\n",
      " 13  GradeClass         2392 non-null   int64  \n",
      "dtypes: float64(2), int64(12)\n",
      "memory usage: 261.8 KB\n"
     ]
    }
   ],
   "source": [
    "# No missing values\n",
    "df.info()"
   ]
  },
  {
   "cell_type": "markdown",
   "id": "6de1738f-237f-4051-99de-58e3ceb50d46",
   "metadata": {},
   "source": [
    "### Basic visualizations"
   ]
  },
  {
   "cell_type": "code",
   "execution_count": 125,
   "id": "10d502f4-a020-471c-9eba-5de3d22c4190",
   "metadata": {},
   "outputs": [
    {
     "data": {
      "image/png": "[encoded data removed]",
      "text/plain": [
       "<Figure size 640x480 with 1 Axes>"
      ]
     },
     "metadata": {},
     "output_type": "display_data"
    }
   ],
   "source": [
    "sns.boxplot(df['Age']);"
   ]
  },
  {
   "cell_type": "markdown",
   "id": "acf3bff0-0e70-44a5-802a-79f7348ecc0b",
   "metadata": {},
   "source": [
    "### Question: Given the student age and GPA, predict the Grade Class?"
   ]
  },
  {
   "cell_type": "markdown",
   "id": "539e33ff-53a0-4c22-a95a-e64562829f42",
   "metadata": {},
   "source": [
    "##### Part 1: Identify the Independent and Dependent Variables\n",
    "\n",
    "By convention, capital `X` holds the training data and small `y` holds the testing data."
   ]
  },
  {
   "cell_type": "code",
   "execution_count": 11,
   "id": "e64c2f74-6bf8-4a07-9b23-2323b5fff8cf",
   "metadata": {},
   "outputs": [
    {
     "data": {
      "text/html": [
       "<div>\n",
       "<style scoped>\n",
       "    .dataframe tbody tr th:only-of-type {\n",
       "        vertical-align: middle;\n",
       "    }\n",
       "\n",
       "    .dataframe tbody tr th {\n",
       "        vertical-align: top;\n",
       "    }\n",
       "\n",
       "    .dataframe thead th {\n",
       "        text-align: right;\n",
       "    }\n",
       "</style>\n",
       "<table border=\"1\" class=\"dataframe\">\n",
       "  <thead>\n",
       "    <tr style=\"text-align: right;\">\n",
       "      <th></th>\n",
       "      <th>Age</th>\n",
       "      <th>Gender</th>\n",
       "      <th>Ethnicity</th>\n",
       "      <th>ParentalEducation</th>\n",
       "      <th>StudyTimeWeekly</th>\n",
       "      <th>Absences</th>\n",
       "      <th>Tutoring</th>\n",
       "      <th>ParentalSupport</th>\n",
       "      <th>Extracurricular</th>\n",
       "      <th>Sports</th>\n",
       "      <th>Music</th>\n",
       "      <th>Volunteering</th>\n",
       "      <th>GPA</th>\n",
       "    </tr>\n",
       "  </thead>\n",
       "  <tbody>\n",
       "    <tr>\n",
       "      <th>0</th>\n",
       "      <td>17</td>\n",
       "      <td>1</td>\n",
       "      <td>0</td>\n",
       "      <td>2</td>\n",
       "      <td>19.833723</td>\n",
       "      <td>7</td>\n",
       "      <td>1</td>\n",
       "      <td>2</td>\n",
       "      <td>0</td>\n",
       "      <td>0</td>\n",
       "      <td>1</td>\n",
       "      <td>0</td>\n",
       "      <td>2.929196</td>\n",
       "    </tr>\n",
       "    <tr>\n",
       "      <th>1</th>\n",
       "      <td>18</td>\n",
       "      <td>0</td>\n",
       "      <td>0</td>\n",
       "      <td>1</td>\n",
       "      <td>15.408756</td>\n",
       "      <td>0</td>\n",
       "      <td>0</td>\n",
       "      <td>1</td>\n",
       "      <td>0</td>\n",
       "      <td>0</td>\n",
       "      <td>0</td>\n",
       "      <td>0</td>\n",
       "      <td>3.042915</td>\n",
       "    </tr>\n",
       "    <tr>\n",
       "      <th>2</th>\n",
       "      <td>15</td>\n",
       "      <td>0</td>\n",
       "      <td>2</td>\n",
       "      <td>3</td>\n",
       "      <td>4.210570</td>\n",
       "      <td>26</td>\n",
       "      <td>0</td>\n",
       "      <td>2</td>\n",
       "      <td>0</td>\n",
       "      <td>0</td>\n",
       "      <td>0</td>\n",
       "      <td>0</td>\n",
       "      <td>0.112602</td>\n",
       "    </tr>\n",
       "    <tr>\n",
       "      <th>3</th>\n",
       "      <td>17</td>\n",
       "      <td>1</td>\n",
       "      <td>0</td>\n",
       "      <td>3</td>\n",
       "      <td>10.028829</td>\n",
       "      <td>14</td>\n",
       "      <td>0</td>\n",
       "      <td>3</td>\n",
       "      <td>1</td>\n",
       "      <td>0</td>\n",
       "      <td>0</td>\n",
       "      <td>0</td>\n",
       "      <td>2.054218</td>\n",
       "    </tr>\n",
       "    <tr>\n",
       "      <th>4</th>\n",
       "      <td>17</td>\n",
       "      <td>1</td>\n",
       "      <td>0</td>\n",
       "      <td>2</td>\n",
       "      <td>4.672495</td>\n",
       "      <td>17</td>\n",
       "      <td>1</td>\n",
       "      <td>3</td>\n",
       "      <td>0</td>\n",
       "      <td>0</td>\n",
       "      <td>0</td>\n",
       "      <td>0</td>\n",
       "      <td>1.288061</td>\n",
       "    </tr>\n",
       "  </tbody>\n",
       "</table>\n",
       "</div>"
      ],
      "text/plain": [
       "   Age  Gender  Ethnicity  ParentalEducation  StudyTimeWeekly  Absences  \\\n",
       "0   17       1          0                  2        19.833723         7   \n",
       "1   18       0          0                  1        15.408756         0   \n",
       "2   15       0          2                  3         4.210570        26   \n",
       "3   17       1          0                  3        10.028829        14   \n",
       "4   17       1          0                  2         4.672495        17   \n",
       "\n",
       "   Tutoring  ParentalSupport  Extracurricular  Sports  Music  Volunteering  \\\n",
       "0         1                2                0       0      1             0   \n",
       "1         0                1                0       0      0             0   \n",
       "2         0                2                0       0      0             0   \n",
       "3         0                3                1       0      0             0   \n",
       "4         1                3                0       0      0             0   \n",
       "\n",
       "        GPA  \n",
       "0  2.929196  \n",
       "1  3.042915  \n",
       "2  0.112602  \n",
       "3  2.054218  \n",
       "4  1.288061  "
      ]
     },
     "execution_count": 11,
     "metadata": {},
     "output_type": "execute_result"
    }
   ],
   "source": [
    "X = df.iloc[:,:-1]\n",
    "X.head()"
   ]
  },
  {
   "cell_type": "code",
   "execution_count": 12,
   "id": "09b90afd-2d6e-4a47-a9ac-f6d6bf56707d",
   "metadata": {},
   "outputs": [
    {
     "data": {
      "text/plain": [
       "0    2\n",
       "1    1\n",
       "2    4\n",
       "3    3\n",
       "4    4\n",
       "Name: GradeClass, dtype: int64"
      ]
     },
     "execution_count": 12,
     "metadata": {},
     "output_type": "execute_result"
    }
   ],
   "source": [
    "y = df.iloc[:,-1]\n",
    "y.head()"
   ]
  },
  {
   "cell_type": "markdown",
   "id": "1d6e7122-2150-43d1-9aa3-4dd3d1c09753",
   "metadata": {},
   "source": [
    "##### Part 2: Split the data into training and testing set's"
   ]
  },
  {
   "cell_type": "markdown",
   "id": "edb0216e-d05f-43b5-a8c7-a83833a729fe",
   "metadata": {},
   "source": [
    "**Question:  For a machine learning task why we must split the dataset into 4 (four) part?**;\n",
    "\n",
    "\n",
    "**Response:**. In scikit-learn, when we split the data into 4 parts, we are typically performing a train-test split for both features and target variables. The purpose of this split is to evaluate the performance of a machine learning model on unseen data. Here are the four parts that the data is typically split into:\n",
    "\n",
    "1. **X_train** : The training data features. This is the portion of the dataset used to train the model.\n",
    "2. **X_test** : The testing data features. This is the portion of the dataset used to evaluate the model performance.\n",
    "3. **y_train** : The training data target variable. This corresponds to the labels or values associated with `X_train`.\n",
    "4. **y_test** : The testing data target variable. This corresponds to the labels or values associated with `X_test`.\n",
    "\n",
    "\n",
    "The rationale for this split can be summarized as follows:\n",
    "\n",
    "1. **Training the Model** : The model is trained on `X_train` and `y_train`, learning the relationships between the features and the target variable.\n",
    "2. **Evaluating the Model** : The model is evaluated on `X_test` and `y_test`. Since the model has not seen this data during training, this evaluation gives an unbiased estimate of the models performance on new, unseen data.\n",
    "\n",
    "\n",
    "By splitting the data in this way, we ensure that we have a dedicated portion of the dataset to validate the model's performance, reducing the risk of overfitting and providing a more accurate measure of how the model will perform on new data."
   ]
  },
  {
   "cell_type": "code",
   "execution_count": 13,
   "id": "d333bf9c-715f-436f-85b1-b1ee12d04601",
   "metadata": {},
   "outputs": [],
   "source": [
    "X_train, X_test, y_train, y_test = train_test_split(X,y, test_size=0.20, random_state=11)"
   ]
  },
  {
   "cell_type": "markdown",
   "id": "7bcb5778-1bef-4d70-b65b-c2214ea9f378",
   "metadata": {},
   "source": [
    "**Question: How do I ensure the data split remains the same no matter how many times I excute the code?**\n",
    "\n",
    "**Response:** You may answer something like the response given below,\n",
    "We can use the parameter, **random_state** when splitting the dataset into train and test parts. The `random_state` parameter can be assigned any unique number you like. In above code notice the value for `random_state=11`. This will ensure your model results are reproducible."
   ]
  },
  {
   "cell_type": "code",
   "execution_count": 14,
   "id": "7513867a-fd4f-491b-9d62-79f38766b744",
   "metadata": {},
   "outputs": [
    {
     "data": {
      "text/plain": [
       "(1913, 13)"
      ]
     },
     "execution_count": 14,
     "metadata": {},
     "output_type": "execute_result"
    }
   ],
   "source": [
    "X_train.shape"
   ]
  },
  {
   "cell_type": "code",
   "execution_count": 15,
   "id": "3a9e5a36-cc7d-47f3-9737-bb20197e6b73",
   "metadata": {},
   "outputs": [
    {
     "data": {
      "text/plain": [
       "(479, 13)"
      ]
     },
     "execution_count": 15,
     "metadata": {},
     "output_type": "execute_result"
    }
   ],
   "source": [
    "X_test.shape"
   ]
  },
  {
   "cell_type": "markdown",
   "id": "7e9c8123-67a1-4921-92a1-e2cf6736b227",
   "metadata": {},
   "source": [
    "##### Part 3: Perform Standard Scaling on the independent variables so as to bring their values to same level"
   ]
  },
  {
   "cell_type": "code",
   "execution_count": 16,
   "id": "6a38c801-45f0-4fe9-ace1-863107218cea",
   "metadata": {},
   "outputs": [],
   "source": [
    "scaler = StandardScaler()"
   ]
  },
  {
   "cell_type": "code",
   "execution_count": 17,
   "id": "a94168cf-1722-415c-9fff-efcbb24aa56d",
   "metadata": {},
   "outputs": [
    {
     "data": {
      "text/plain": [
       "array([[ 0.4777139 ,  0.97879252,  0.12361149, ..., -0.49623993,\n",
       "        -0.43806428, -0.43652881],\n",
       "       [ 0.4777139 ,  0.97879252,  0.12361149, ..., -0.49623993,\n",
       "        -0.43806428, -0.25398461],\n",
       "       [ 0.4777139 ,  0.97879252,  2.06985655, ..., -0.49623993,\n",
       "        -0.43806428, -1.792072  ],\n",
       "       ...,\n",
       "       [-1.30718198,  0.97879252,  0.12361149, ..., -0.49623993,\n",
       "        -0.43806428, -1.86840955],\n",
       "       [-0.41473404,  0.97879252,  1.09673402, ..., -0.49623993,\n",
       "         2.28277002, -0.3160355 ],\n",
       "       [ 1.37016184,  0.97879252,  2.06985655, ..., -0.49623993,\n",
       "        -0.43806428, -1.24492739]])"
      ]
     },
     "execution_count": 17,
     "metadata": {},
     "output_type": "execute_result"
    }
   ],
   "source": [
    "X_train = scaler.fit_transform(X_train)\n",
    "X_train"
   ]
  },
  {
   "cell_type": "code",
   "execution_count": 18,
   "id": "e63568f8-fb19-44f0-a834-d65cd80304d8",
   "metadata": {},
   "outputs": [
    {
     "data": {
      "text/plain": [
       "array([[ 0.4777139 , -1.02166698,  2.06985655, ..., -0.49623993,\n",
       "        -0.43806428,  0.78869061],\n",
       "       [ 0.4777139 , -1.02166698,  2.06985655, ..., -0.49623993,\n",
       "        -0.43806428,  0.17716359],\n",
       "       [ 1.37016184, -1.02166698,  0.12361149, ..., -0.49623993,\n",
       "        -0.43806428, -0.06803034],\n",
       "       ...,\n",
       "       [-1.30718198, -1.02166698, -0.84951104, ..., -0.49623993,\n",
       "        -0.43806428, -1.04835609],\n",
       "       [-1.30718198, -1.02166698,  1.09673402, ..., -0.49623993,\n",
       "         2.28277002, -0.48073124],\n",
       "       [-1.30718198, -1.02166698, -0.84951104, ..., -0.49623993,\n",
       "        -0.43806428, -0.41730274]])"
      ]
     },
     "execution_count": 18,
     "metadata": {},
     "output_type": "execute_result"
    }
   ],
   "source": [
    "X_test = scaler.transform(X_test)\n",
    "X_test"
   ]
  },
  {
   "cell_type": "markdown",
   "id": "2f9221b4-b525-4d25-9716-670ff5353085",
   "metadata": {},
   "source": [
    "##### Final Part: Finding the value of k and applying the `kNN` algorithm"
   ]
  },
  {
   "cell_type": "code",
   "execution_count": 19,
   "id": "2b23556e-c77d-4748-bd26-4a3f6df89fe4",
   "metadata": {},
   "outputs": [
    {
     "data": {
      "text/plain": [
       "43.73785545725808"
      ]
     },
     "execution_count": 19,
     "metadata": {},
     "output_type": "execute_result"
    }
   ],
   "source": [
    "# Finding k using the sqrt method\n",
    "np.sqrt(X_train.shape[0])"
   ]
  },
  {
   "cell_type": "code",
   "execution_count": 20,
   "id": "06e80687-9777-46f8-a6d2-eacf132e28a0",
   "metadata": {},
   "outputs": [],
   "source": [
    "k=43"
   ]
  },
  {
   "cell_type": "code",
   "execution_count": 21,
   "id": "241cb608-56aa-42b9-93c5-6a8df4510eb7",
   "metadata": {},
   "outputs": [],
   "source": [
    "# create classifier model\n",
    "knn = KNeighborsClassifier(n_neighbors=k)"
   ]
  },
  {
   "cell_type": "code",
   "execution_count": 22,
   "id": "6ddaba75-b7df-4427-afe0-24dce057498b",
   "metadata": {},
   "outputs": [
    {
     "data": {
      "text/html": [
       "<style>#sk-container-id-1 {color: black;background-color: white;}#sk-container-id-1 pre{padding: 0;}#sk-container-id-1 div.sk-toggleable {background-color: white;}#sk-container-id-1 label.sk-toggleable__label {cursor: pointer;display: block;width: 100%;margin-bottom: 0;padding: 0.3em;box-sizing: border-box;text-align: center;}#sk-container-id-1 label.sk-toggleable__label-arrow:before {content: \"▸\";float: left;margin-right: 0.25em;color: #696969;}#sk-container-id-1 label.sk-toggleable__label-arrow:hover:before {color: black;}#sk-container-id-1 div.sk-estimator:hover label.sk-toggleable__label-arrow:before {color: black;}#sk-container-id-1 div.sk-toggleable__content {max-height: 0;max-width: 0;overflow: hidden;text-align: left;background-color: #f0f8ff;}#sk-container-id-1 div.sk-toggleable__content pre {margin: 0.2em;color: black;border-radius: 0.25em;background-color: #f0f8ff;}#sk-container-id-1 input.sk-toggleable__control:checked~div.sk-toggleable__content {max-height: 200px;max-width: 100%;overflow: auto;}#sk-container-id-1 input.sk-toggleable__control:checked~label.sk-toggleable__label-arrow:before {content: \"▾\";}#sk-container-id-1 div.sk-estimator input.sk-toggleable__control:checked~label.sk-toggleable__label {background-color: #d4ebff;}#sk-container-id-1 div.sk-label input.sk-toggleable__control:checked~label.sk-toggleable__label {background-color: #d4ebff;}#sk-container-id-1 input.sk-hidden--visually {border: 0;clip: rect(1px 1px 1px 1px);clip: rect(1px, 1px, 1px, 1px);height: 1px;margin: -1px;overflow: hidden;padding: 0;position: absolute;width: 1px;}#sk-container-id-1 div.sk-estimator {font-family: monospace;background-color: #f0f8ff;border: 1px dotted black;border-radius: 0.25em;box-sizing: border-box;margin-bottom: 0.5em;}#sk-container-id-1 div.sk-estimator:hover {background-color: #d4ebff;}#sk-container-id-1 div.sk-parallel-item::after {content: \"\";width: 100%;border-bottom: 1px solid gray;flex-grow: 1;}#sk-container-id-1 div.sk-label:hover label.sk-toggleable__label {background-color: #d4ebff;}#sk-container-id-1 div.sk-serial::before {content: \"\";position: absolute;border-left: 1px solid gray;box-sizing: border-box;top: 0;bottom: 0;left: 50%;z-index: 0;}#sk-container-id-1 div.sk-serial {display: flex;flex-direction: column;align-items: center;background-color: white;padding-right: 0.2em;padding-left: 0.2em;position: relative;}#sk-container-id-1 div.sk-item {position: relative;z-index: 1;}#sk-container-id-1 div.sk-parallel {display: flex;align-items: stretch;justify-content: center;background-color: white;position: relative;}#sk-container-id-1 div.sk-item::before, #sk-container-id-1 div.sk-parallel-item::before {content: \"\";position: absolute;border-left: 1px solid gray;box-sizing: border-box;top: 0;bottom: 0;left: 50%;z-index: -1;}#sk-container-id-1 div.sk-parallel-item {display: flex;flex-direction: column;z-index: 1;position: relative;background-color: white;}#sk-container-id-1 div.sk-parallel-item:first-child::after {align-self: flex-end;width: 50%;}#sk-container-id-1 div.sk-parallel-item:last-child::after {align-self: flex-start;width: 50%;}#sk-container-id-1 div.sk-parallel-item:only-child::after {width: 0;}#sk-container-id-1 div.sk-dashed-wrapped {border: 1px dashed gray;margin: 0 0.4em 0.5em 0.4em;box-sizing: border-box;padding-bottom: 0.4em;background-color: white;}#sk-container-id-1 div.sk-label label {font-family: monospace;font-weight: bold;display: inline-block;line-height: 1.2em;}#sk-container-id-1 div.sk-label-container {text-align: center;}#sk-container-id-1 div.sk-container {/* jupyter's `normalize.less` sets `[hidden] { display: none; }` but bootstrap.min.css set `[hidden] { display: none !important; }` so we also need the `!important` here to be able to override the default hidden behavior on the sphinx rendered scikit-learn.org. See: https://github.com/scikit-learn/scikit-learn/issues/21755 */display: inline-block !important;position: relative;}#sk-container-id-1 div.sk-text-repr-fallback {display: none;}</style><div id=\"sk-container-id-1\" class=\"sk-top-container\"><div class=\"sk-text-repr-fallback\"><pre>KNeighborsClassifier(n_neighbors=43)</pre><b>In a Jupyter environment, please rerun this cell to show the HTML representation or trust the notebook. <br />On GitHub, the HTML representation is unable to render, please try loading this page with nbviewer.org.</b></div><div class=\"sk-container\" hidden><div class=\"sk-item\"><div class=\"sk-estimator sk-toggleable\"><input class=\"sk-toggleable__control sk-hidden--visually\" id=\"sk-estimator-id-1\" type=\"checkbox\" checked><label for=\"sk-estimator-id-1\" class=\"sk-toggleable__label sk-toggleable__label-arrow\">KNeighborsClassifier</label><div class=\"sk-toggleable__content\"><pre>KNeighborsClassifier(n_neighbors=43)</pre></div></div></div></div></div>"
      ],
      "text/plain": [
       "KNeighborsClassifier(n_neighbors=43)"
      ]
     },
     "execution_count": 22,
     "metadata": {},
     "output_type": "execute_result"
    }
   ],
   "source": [
    "# Model training\n",
    "knn.fit(X_train, y_train)"
   ]
  },
  {
   "cell_type": "code",
   "execution_count": 23,
   "id": "94827241-fe6e-4e60-a5ef-2a895521c3a8",
   "metadata": {},
   "outputs": [],
   "source": [
    "y_pred = knn.predict(X_test)"
   ]
  },
  {
   "cell_type": "code",
   "execution_count": 24,
   "id": "f14e2701-4bc1-4148-acf6-0738499dfa90",
   "metadata": {},
   "outputs": [
    {
     "data": {
      "text/plain": [
       "(479,)"
      ]
     },
     "execution_count": 24,
     "metadata": {},
     "output_type": "execute_result"
    }
   ],
   "source": [
    "y_pred.shape"
   ]
  },
  {
   "cell_type": "code",
   "execution_count": 25,
   "id": "0c28cf0f-76d7-48a9-bc5d-00417d54b8e5",
   "metadata": {},
   "outputs": [
    {
     "data": {
      "text/plain": [
       "(479,)"
      ]
     },
     "execution_count": 25,
     "metadata": {},
     "output_type": "execute_result"
    }
   ],
   "source": [
    "y_test.shape"
   ]
  },
  {
   "cell_type": "code",
   "execution_count": 26,
   "id": "30219a7d-4ad1-4e28-97f5-769901f48c63",
   "metadata": {},
   "outputs": [
    {
     "data": {
      "text/plain": [
       "0.6680584551148225"
      ]
     },
     "execution_count": 26,
     "metadata": {},
     "output_type": "execute_result"
    }
   ],
   "source": [
    "# Now we compare y_pred with y_test to see how accurate our model was\n",
    "accuracy_score(y_test, y_pred)"
   ]
  },
  {
   "cell_type": "code",
   "execution_count": 27,
   "id": "ed3acba6-4c31-4411-8dc6-219421a91b28",
   "metadata": {},
   "outputs": [
    {
     "data": {
      "text/plain": [
       "array([[  0,   7,  11,   0,   3],\n",
       "       [  0,  14,  27,   2,  10],\n",
       "       [  0,   3,  37,  20,   7],\n",
       "       [  0,   0,  13,  16,  53],\n",
       "       [  0,   2,   0,   1, 253]], dtype=int64)"
      ]
     },
     "execution_count": 27,
     "metadata": {},
     "output_type": "execute_result"
    }
   ],
   "source": [
    "confusion_matrix(y_test, y_pred)"
   ]
  },
  {
   "cell_type": "code",
   "execution_count": null,
   "id": "ff2551e1-1c31-45d8-8256-0e0132f57cde",
   "metadata": {},
   "outputs": [],
   "source": [
    "# 2nd Method: Let's go ahead and use the elbow method to pick a good K Value"
   ]
  },
  {
   "cell_type": "code",
   "execution_count": 32,
   "id": "a1c32161-e356-4e6e-91b0-8377153d0cca",
   "metadata": {},
   "outputs": [],
   "source": [
    "error_rate = []\n",
    "\n",
    "# Will take some time\n",
    "for i in range(1,40):\n",
    "    \n",
    "    knn = KNeighborsClassifier(n_neighbors=i)\n",
    "    knn.fit(X_train,y_train)\n",
    "    pred_i = knn.predict(X_test)\n",
    "    error_rate.append(np.mean(pred_i != y_test))"
   ]
  },
  {
   "cell_type": "code",
   "execution_count": 33,
   "id": "bc12244b-f2ab-4239-a928-eece43844ae7",
   "metadata": {},
   "outputs": [
    {
     "data": {
      "text/plain": [
       "[0.4279749478079332,\n",
       " 0.4989561586638831,\n",
       " 0.4112734864300626,\n",
       " 0.38204592901878914,\n",
       " 0.38413361169102295,\n",
       " 0.3924843423799583,\n",
       " 0.348643006263048,\n",
       " 0.3736951983298539,\n",
       " 0.3674321503131524,\n",
       " 0.35908141962421714,\n",
       " 0.35908141962421714,\n",
       " 0.348643006263048,\n",
       " 0.35908141962421714,\n",
       " 0.3444676409185804,\n",
       " 0.325678496868476,\n",
       " 0.33194154488517746,\n",
       " 0.3173277661795407,\n",
       " 0.31941544885177453,\n",
       " 0.3235908141962422,\n",
       " 0.325678496868476,\n",
       " 0.33194154488517746,\n",
       " 0.34029227557411273,\n",
       " 0.33611691022964507,\n",
       " 0.34029227557411273,\n",
       " 0.33611691022964507,\n",
       " 0.3444676409185804,\n",
       " 0.33611691022964507,\n",
       " 0.33402922755741127,\n",
       " 0.34029227557411273,\n",
       " 0.33402922755741127,\n",
       " 0.32150313152400833,\n",
       " 0.3277661795407098,\n",
       " 0.3277661795407098,\n",
       " 0.3298538622129436,\n",
       " 0.3235908141962422,\n",
       " 0.3298538622129436,\n",
       " 0.3277661795407098,\n",
       " 0.33402922755741127,\n",
       " 0.3235908141962422]"
      ]
     },
     "execution_count": 33,
     "metadata": {},
     "output_type": "execute_result"
    }
   ],
   "source": [
    "error_rate"
   ]
  },
  {
   "cell_type": "code",
   "execution_count": 29,
   "id": "748ebbcb-daa5-4e1b-856d-215c365d052f",
   "metadata": {},
   "outputs": [
    {
     "data": {
      "image/png": "[encoded data removed]",
      "text/plain": [
       "<Figure size 1000x600 with 1 Axes>"
      ]
     },
     "metadata": {},
     "output_type": "display_data"
    }
   ],
   "source": [
    "plt.figure(figsize=(10,6))\n",
    "plt.plot(range(1,40),error_rate,color='blue', linestyle='dashed', marker='o',\n",
    "         markerfacecolor='red', markersize=10)\n",
    "plt.title('Error Rate vs. K Value')\n",
    "plt.xlabel('K')\n",
    "plt.ylabel('Error Rate');"
   ]
  },
  {
   "cell_type": "markdown",
   "id": "07b2370f-ee0a-400c-b90f-23bbee0b9057",
   "metadata": {},
   "source": [
    "Here we can see when k=18 the error rate is the lowest. Let's retrain the model with that and check the classification report!"
   ]
  },
  {
   "cell_type": "code",
   "execution_count": 30,
   "id": "99f7d0d6-f074-4f4f-9e30-ce64e75113ef",
   "metadata": {},
   "outputs": [
    {
     "name": "stdout",
     "output_type": "stream",
     "text": [
      "WITH K=43\n",
      "\n",
      "\n",
      "[[  0   7  11   0   3]\n",
      " [  0  14  27   2  10]\n",
      " [  0   3  37  20   7]\n",
      " [  0   0  13  16  53]\n",
      " [  0   2   0   1 253]]\n",
      "\n",
      "\n",
      "              precision    recall  f1-score   support\n",
      "\n",
      "           0       0.00      0.00      0.00        21\n",
      "           1       0.54      0.26      0.35        53\n",
      "           2       0.42      0.55      0.48        67\n",
      "           3       0.41      0.20      0.26        82\n",
      "           4       0.78      0.99      0.87       256\n",
      "\n",
      "    accuracy                           0.67       479\n",
      "   macro avg       0.43      0.40      0.39       479\n",
      "weighted avg       0.60      0.67      0.62       479\n",
      "\n"
     ]
    }
   ],
   "source": [
    "# FIRST A QUICK COMPARISON TO OUR ORIGINAL K=43\n",
    "knn = KNeighborsClassifier(n_neighbors=43)\n",
    "\n",
    "knn.fit(X_train,y_train)\n",
    "pred = knn.predict(X_test)\n",
    "\n",
    "print('WITH K=43')\n",
    "print('\\n')\n",
    "print(confusion_matrix(y_test,pred))\n",
    "print('\\n')\n",
    "print(classification_report(y_test,pred))"
   ]
  },
  {
   "cell_type": "code",
   "execution_count": 31,
   "id": "46b97a5b-c5a5-4487-a614-889535716cfd",
   "metadata": {},
   "outputs": [
    {
     "name": "stdout",
     "output_type": "stream",
     "text": [
      "WITH K=18\n",
      "\n",
      "\n",
      "[[  1  10   6   0   4]\n",
      " [  0  17  21   3  12]\n",
      " [  0   2  35  25   5]\n",
      " [  0   0  15  26  41]\n",
      " [  0   2   1   6 247]]\n",
      "\n",
      "\n",
      "              precision    recall  f1-score   support\n",
      "\n",
      "           0       1.00      0.05      0.09        21\n",
      "           1       0.55      0.32      0.40        53\n",
      "           2       0.45      0.52      0.48        67\n",
      "           3       0.43      0.32      0.37        82\n",
      "           4       0.80      0.96      0.87       256\n",
      "\n",
      "    accuracy                           0.68       479\n",
      "   macro avg       0.65      0.43      0.44       479\n",
      "weighted avg       0.67      0.68      0.65       479\n",
      "\n"
     ]
    }
   ],
   "source": [
    "# NOW WITH K=18\n",
    "knn = KNeighborsClassifier(n_neighbors=18)\n",
    "\n",
    "knn.fit(X_train,y_train)\n",
    "pred = knn.predict(X_test)\n",
    "\n",
    "print('WITH K=18')\n",
    "print('\\n')\n",
    "print(confusion_matrix(y_test,pred))\n",
    "print('\\n')\n",
    "print(classification_report(y_test,pred))"
   ]
  },
  {
   "cell_type": "code",
   "execution_count": null,
   "id": "2d54a8ff-869c-4c24-acf8-53789ee4b934",
   "metadata": {},
   "outputs": [],
   "source": []
  }
 ],
 "metadata": {
  "kernelspec": {
   "display_name": "Python 3 (ipykernel)",
   "language": "python",
   "name": "python3"
  },
  "language_info": {
   "codemirror_mode": {
    "name": "ipython",
    "version": 3
   },
   "file_extension": ".py",
   "mimetype": "text/x-python",
   "name": "python",
   "nbconvert_exporter": "python",
   "pygments_lexer": "ipython3",
   "version": "3.11.7"
  }
 },
 "nbformat": 4,
 "nbformat_minor": 5
}
