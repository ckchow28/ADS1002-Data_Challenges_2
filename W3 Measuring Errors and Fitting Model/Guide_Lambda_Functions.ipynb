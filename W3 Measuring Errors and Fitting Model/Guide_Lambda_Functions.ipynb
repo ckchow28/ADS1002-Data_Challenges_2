{
 "cells": [
  {
   "cell_type": "markdown",
   "id": "dc0ea0c4-14b7-472a-b6b3-ffdf2dbad4e2",
   "metadata": {},
   "source": [
    "## Simple guide on Lambda Functions\n",
    "\n",
    "Lambda functions in Python are small anonymous functions defined using the `lambda` keyword. **They can have any number of arguments but only one expression**. They are often used for short, throwaway functions, typically in places where a function is needed for a short period and doesn't require a full definition using `def`."
   ]
  },
  {
   "cell_type": "markdown",
   "id": "0489694e-5e7e-48e3-913f-c117dc0b5c60",
   "metadata": {},
   "source": [
    "Here's a basic syntax of a lambda function:"
   ]
  },
  {
   "cell_type": "markdown",
   "id": "54290e5d-1242-4e64-9c17-01d7e22f4abd",
   "metadata": {},
   "source": [
    "`lambda` arguments: expression"
   ]
  },
  {
   "cell_type": "markdown",
   "id": "99b0fb31-cf24-4369-8232-06e9c329d1df",
   "metadata": {},
   "source": [
    "### Example 1: Using Lambda with the Iris Dataset\n",
    "\n",
    "The Iris dataset is a classic dataset in machine learning, containing measurements of iris flowers from three different species.\n",
    "\n",
    "    1. Loading the dataset:"
   ]
  },
  {
   "cell_type": "code",
   "execution_count": 1,
   "id": "2451fe29-dce7-4010-8c30-c4c39e9bbb21",
   "metadata": {},
   "outputs": [],
   "source": [
    "from sklearn.datasets import load_iris\n",
    "import pandas as pd\n",
    "\n",
    "# Load the iris dataset\n",
    "iris = load_iris()\n",
    "df = pd.DataFrame(data=iris.data, columns=iris.feature_names)\n",
    "df['target'] = iris.target"
   ]
  },
  {
   "cell_type": "markdown",
   "id": "f5dcd98c-bafd-4081-bd6e-2f6127e3f0d2",
   "metadata": {},
   "source": [
    "    2. Using a lambda function to create a new column:\n",
    "\n",
    "Let's create a new column that applies a lambda function to determine if the **sepal length (cm)** is greater than 5.0."
   ]
  },
  {
   "cell_type": "code",
   "execution_count": 2,
   "id": "791620da-fad9-4eb4-ae46-2fc95c51028b",
   "metadata": {},
   "outputs": [],
   "source": [
    "# Apply a lambda function to create a new column\n",
    "df['sepal_length_gt_5'] = df['sepal length (cm)'].apply(lambda x: x > 5.0)"
   ]
  },
  {
   "cell_type": "markdown",
   "id": "c8ddbe6e-d1eb-4056-8623-6d11e7f3b0d7",
   "metadata": {},
   "source": [
    "    3. Output the first few rows:"
   ]
  },
  {
   "cell_type": "code",
   "execution_count": 3,
   "id": "6cb25254-ae39-44b0-bff1-bda4b46d22cc",
   "metadata": {},
   "outputs": [
    {
     "name": "stdout",
     "output_type": "stream",
     "text": [
      "   sepal length (cm)  sepal width (cm)  petal length (cm)  petal width (cm)  \\\n",
      "0                5.1               3.5                1.4               0.2   \n",
      "1                4.9               3.0                1.4               0.2   \n",
      "2                4.7               3.2                1.3               0.2   \n",
      "3                4.6               3.1                1.5               0.2   \n",
      "4                5.0               3.6                1.4               0.2   \n",
      "\n",
      "   target  sepal_length_gt_5  \n",
      "0       0               True  \n",
      "1       0              False  \n",
      "2       0              False  \n",
      "3       0              False  \n",
      "4       0              False  \n"
     ]
    }
   ],
   "source": [
    "print(df.head())"
   ]
  },
  {
   "cell_type": "markdown",
   "id": "018531de-d8ce-454d-adb5-f8b40fb13441",
   "metadata": {},
   "source": [
    "### Example 2: Using Lambda with the Wine Dataset\n",
    "\n",
    "The Wine dataset contains results of a chemical analysis of wines grown in the same region in Italy but derived from three different cultivars.\n",
    "    \n",
    "    1. Loading the dataset:"
   ]
  },
  {
   "cell_type": "code",
   "execution_count": 4,
   "id": "74435575-6ea6-4b42-9132-c4a981f75fe7",
   "metadata": {},
   "outputs": [],
   "source": [
    "from sklearn.datasets import load_wine\n",
    "import pandas as pd\n",
    "\n",
    "# Load the wine dataset\n",
    "wine = load_wine()\n",
    "df_wine = pd.DataFrame(data=wine.data, columns=wine.feature_names)\n",
    "df_wine['target'] = wine.target"
   ]
  },
  {
   "cell_type": "markdown",
   "id": "bfef6f4c-42ba-4305-a881-3a04708466fe",
   "metadata": {},
   "source": [
    "    2.Using a lambda function to filter rows:\n",
    "\n",
    "Let's filter rows where `alcohol` content is greater than 13."
   ]
  },
  {
   "cell_type": "code",
   "execution_count": 5,
   "id": "274aa964-1d8e-483a-9247-44efc97a967f",
   "metadata": {},
   "outputs": [],
   "source": [
    "# Apply a lambda function to filter rows\n",
    "filtered_df_wine = df_wine[df_wine['alcohol'].apply(lambda x: x > 13.0)]"
   ]
  },
  {
   "cell_type": "markdown",
   "id": "d69992d0-1b03-4798-b7da-d1d623f81e46",
   "metadata": {},
   "source": [
    "    3. Output the first few rows of the filtered data:"
   ]
  },
  {
   "cell_type": "code",
   "execution_count": 6,
   "id": "fc6fe69c-868f-46e4-acaf-a20d7fd65809",
   "metadata": {},
   "outputs": [
    {
     "name": "stdout",
     "output_type": "stream",
     "text": [
      "   alcohol  malic_acid   ash  alcalinity_of_ash  magnesium  total_phenols  \\\n",
      "0    14.23        1.71  2.43               15.6      127.0           2.80   \n",
      "1    13.20        1.78  2.14               11.2      100.0           2.65   \n",
      "2    13.16        2.36  2.67               18.6      101.0           2.80   \n",
      "3    14.37        1.95  2.50               16.8      113.0           3.85   \n",
      "4    13.24        2.59  2.87               21.0      118.0           2.80   \n",
      "\n",
      "   flavanoids  nonflavanoid_phenols  proanthocyanins  color_intensity   hue  \\\n",
      "0        3.06                  0.28             2.29             5.64  1.04   \n",
      "1        2.76                  0.26             1.28             4.38  1.05   \n",
      "2        3.24                  0.30             2.81             5.68  1.03   \n",
      "3        3.49                  0.24             2.18             7.80  0.86   \n",
      "4        2.69                  0.39             1.82             4.32  1.04   \n",
      "\n",
      "   od280/od315_of_diluted_wines  proline  target  \n",
      "0                          3.92   1065.0       0  \n",
      "1                          3.40   1050.0       0  \n",
      "2                          3.17   1185.0       0  \n",
      "3                          3.45   1480.0       0  \n",
      "4                          2.93    735.0       0  \n"
     ]
    }
   ],
   "source": [
    "print(filtered_df_wine.head())"
   ]
  },
  {
   "cell_type": "markdown",
   "id": "075bb381-5615-496f-b41f-48e7d0b28903",
   "metadata": {},
   "source": [
    "### Example 3: Using Lambda with the Diabetes Dataset\n",
    "\n",
    "The Diabetes dataset contains 10 baseline variables, age, sex, body mass index, average blood pressure, and six blood serum measurements, and the response of interest, a quantitative measure of disease progression one year after baseline.\n",
    "\n",
    "    1. Loading the dataset:"
   ]
  },
  {
   "cell_type": "code",
   "execution_count": 7,
   "id": "0ce2ea92-fe95-4c91-a2f8-42a4d261b15f",
   "metadata": {},
   "outputs": [],
   "source": [
    "from sklearn.datasets import load_diabetes\n",
    "import pandas as pd\n",
    "\n",
    "# Load the diabetes dataset\n",
    "diabetes = load_diabetes()\n",
    "df_diabetes = pd.DataFrame(data=diabetes.data, columns=diabetes.feature_names)\n",
    "df_diabetes['target'] = diabetes.target"
   ]
  },
  {
   "cell_type": "markdown",
   "id": "0eb18a06-f72d-41a3-be2b-e484e30151fd",
   "metadata": {},
   "source": [
    "    2. Using a lambda function for a simple transformation:\n",
    "\n",
    "Let's normalize one of the features, **bmi**, by subtracting the mean and dividing by the standard deviation."
   ]
  },
  {
   "cell_type": "code",
   "execution_count": 8,
   "id": "d25edd5b-5389-4637-800f-c0669cc8891e",
   "metadata": {},
   "outputs": [],
   "source": [
    "# Normalize the bmi column\n",
    "mean_bmi = df_diabetes['bmi'].mean()\n",
    "std_bmi = df_diabetes['bmi'].std()\n",
    "df_diabetes['normalized_bmi'] = df_diabetes['bmi'].apply(lambda x: (x - mean_bmi) / std_bmi)"
   ]
  },
  {
   "cell_type": "markdown",
   "id": "269db290-4631-45df-919c-595e3188cc68",
   "metadata": {},
   "source": [
    "    3. Output the first few rows:"
   ]
  },
  {
   "cell_type": "code",
   "execution_count": 9,
   "id": "aaeb0798-fce3-4c89-b97e-9a76216a0e49",
   "metadata": {},
   "outputs": [
    {
     "name": "stdout",
     "output_type": "stream",
     "text": [
      "        age       sex       bmi        bp        s1        s2        s3  \\\n",
      "0  0.038076  0.050680  0.061696  0.021872 -0.044223 -0.034821 -0.043401   \n",
      "1 -0.001882 -0.044642 -0.051474 -0.026328 -0.008449 -0.019163  0.074412   \n",
      "2  0.085299  0.050680  0.044451 -0.005670 -0.045599 -0.034194 -0.032356   \n",
      "3 -0.089063 -0.044642 -0.011595 -0.036656  0.012191  0.024991 -0.036038   \n",
      "4  0.005383 -0.044642 -0.036385  0.021872  0.003935  0.015596  0.008142   \n",
      "\n",
      "         s4        s5        s6  target  normalized_bmi  \n",
      "0 -0.002592  0.019907 -0.017646   151.0        1.295620  \n",
      "1 -0.039493 -0.068332 -0.092204    75.0       -1.080955  \n",
      "2 -0.002592  0.002861 -0.025930   141.0        0.933475  \n",
      "3  0.034309  0.022688 -0.009362   206.0       -0.243495  \n",
      "4 -0.002592 -0.031988 -0.046641   135.0       -0.764079  \n"
     ]
    }
   ],
   "source": [
    "print(df_diabetes.head())"
   ]
  },
  {
   "cell_type": "markdown",
   "id": "f58e1f95-29bc-469e-94ac-e1a10dcad98e",
   "metadata": {},
   "source": [
    "### Summary"
   ]
  },
  {
   "cell_type": "markdown",
   "id": "0685a439-1d84-44ce-a7e8-52aab0cb309c",
   "metadata": {},
   "source": [
    "Lambda functions in Python provide a quick way to perform simple operations on data without the need for a full function definition. They are especially useful in data processing tasks with pandas, where applying transformations and filters to data is a common operation."
   ]
  }
 ],
 "metadata": {
  "kernelspec": {
   "display_name": "Python 3 (ipykernel)",
   "language": "python",
   "name": "python3"
  },
  "language_info": {
   "codemirror_mode": {
    "name": "ipython",
    "version": 3
   },
   "file_extension": ".py",
   "mimetype": "text/x-python",
   "name": "python",
   "nbconvert_exporter": "python",
   "pygments_lexer": "ipython3",
   "version": "3.11.7"
  }
 },
 "nbformat": 4,
 "nbformat_minor": 5
}
