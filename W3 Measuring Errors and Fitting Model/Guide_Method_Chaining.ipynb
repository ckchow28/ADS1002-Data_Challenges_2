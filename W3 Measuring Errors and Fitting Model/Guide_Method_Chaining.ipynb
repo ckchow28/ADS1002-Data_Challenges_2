{
 "cells": [
  {
   "cell_type": "markdown",
   "id": "02eb5623-aac8-4ef9-8c3c-f1b7f3ba3604",
   "metadata": {},
   "source": [
    "## Simple guide on Method Chaning"
   ]
  },
  {
   "cell_type": "markdown",
   "id": "cb504cf2-0830-4b76-be2d-951d61a481c8",
   "metadata": {},
   "source": [
    "Method chaining in Python involves calling multiple methods on an object in a single, continuous line of code. Each method returns an object, which allows the next method in the chain to be called on the returned object. This can make code more readable and concise.\n",
    "\n",
    "To illustrate method chaining, we'll use the UCI Machine Learning Repository's Iris dataset as an example. We'll use the pandas library to load and manipulate the dataset.\n",
    "\n",
    "First, let's import the necessary libraries and load the dataset:"
   ]
  },
  {
   "cell_type": "markdown",
   "id": "0e6d3fb7-9524-4f96-ada7-dc196f7778f1",
   "metadata": {},
   "source": [
    "### Example 1"
   ]
  },
  {
   "cell_type": "code",
   "execution_count": 5,
   "id": "2d20646c-00e4-4245-bf56-e7c285a9a978",
   "metadata": {},
   "outputs": [],
   "source": [
    "import pandas as pd\n",
    "\n",
    "# Load the Iris dataset\n",
    "url = \"https://archive.ics.uci.edu/ml/machine-learning-databases/iris/iris.data\"\n",
    "column_names = [\"sepal_length\", \"sepal_width\", \"petal_length\", \"petal_width\", \"class\"]\n",
    "iris = pd.read_csv(url, header=None, names=column_names)"
   ]
  },
  {
   "cell_type": "markdown",
   "id": "bb17c615-977c-4c83-b6ee-ce56d2c9d3ee",
   "metadata": {},
   "source": [
    "Here's an example of performing method chaining to filter, sort, and select specific columns in the Iris dataset:"
   ]
  },
  {
   "cell_type": "code",
   "execution_count": 8,
   "id": "6cdc3546-8ea7-40be-a646-b5f8b6d3ee9d",
   "metadata": {},
   "outputs": [
    {
     "name": "stdout",
     "output_type": "stream",
     "text": [
      "   sepal_length  sepal_width  petal_length            class\n",
      "0           4.9          2.5           4.5   Iris-virginica\n",
      "1           4.9          2.4           3.3  Iris-versicolor\n",
      "2           4.8          3.4           1.9      Iris-setosa\n",
      "3           4.8          3.4           1.6      Iris-setosa\n",
      "4           4.8          3.1           1.6      Iris-setosa\n"
     ]
    }
   ],
   "source": [
    "# Method chaining example\n",
    "result = (iris\n",
    "          .query(\"sepal_length < 5.0\")  # Filter rows where sepal length is greater than 5.0\n",
    "          .sort_values(by=\"petal_length\", ascending=False)  # Sort by petal length in descending order\n",
    "          .loc[:, [\"sepal_length\", \"sepal_width\", \"petal_length\", \"class\"]]  # Select specific columns\n",
    "          .reset_index(drop=True)  # Reset the index\n",
    "         )\n",
    "\n",
    "print(result.head())"
   ]
  },
  {
   "cell_type": "markdown",
   "id": "4879e7d3-2fec-4520-b830-1364f56b1f2a",
   "metadata": {},
   "source": [
    "#### Explanation:\n",
    "\n",
    "    1. query(\"sepal_length > 5.0\"): Filters the DataFrame to include only rows where the sepal length is greater than 5.0.\n",
    "    2. sort_values(by=\"petal_length\", ascending=False): Sorts the DataFrame by the petal length in descending order.\n",
    "    3. loc[:, [\"sepal_length\", \"sepal_width\", \"petal_length\", \"class\"]]: Selects the specified columns (sepal length, sepal width, petal length, and class).\n",
    "    `reset_index(drop=True)`: Resets the DataFrame index, dropping the old index.\n",
    "\n",
    "Each method returns a DataFrame, allowing the next method to be chained to it."
   ]
  },
  {
   "cell_type": "markdown",
   "id": "7a84d817-dc1e-418e-89be-4d837c246884",
   "metadata": {},
   "source": [
    "### Example 2\n",
    "\n",
    "Let's see another example, where we add a new column to the DataFrame and then filter based on this new column:"
   ]
  },
  {
   "cell_type": "code",
   "execution_count": 3,
   "id": "71eace3d-6e0f-48da-ab49-a219e7419ac0",
   "metadata": {},
   "outputs": [
    {
     "name": "stdout",
     "output_type": "stream",
     "text": [
      "   sepal_length  sepal_width  sepal_ratio            class\n",
      "0           7.7          2.6     2.961538   Iris-virginica\n",
      "1           6.2          2.2     2.818182  Iris-versicolor\n",
      "2           7.7          2.8     2.750000   Iris-virginica\n",
      "3           6.3          2.3     2.739130  Iris-versicolor\n",
      "4           6.0          2.2     2.727273   Iris-virginica\n"
     ]
    }
   ],
   "source": [
    "# Method chaining example with adding a new column\n",
    "result = (iris\n",
    "          .assign(sepal_ratio=lambda x: x.sepal_length / x.sepal_width)  # Add a new column for sepal length to width ratio\n",
    "          .query(\"sepal_ratio > 2.0\")  # Filter rows where the sepal ratio is greater than 2.0\n",
    "          .sort_values(by=\"sepal_ratio\", ascending=False)  # Sort by the new sepal ratio in descending order\n",
    "          .loc[:, [\"sepal_length\", \"sepal_width\", \"sepal_ratio\", \"class\"]]  # Select specific columns\n",
    "          .reset_index(drop=True)  # Reset the index\n",
    "         )\n",
    "\n",
    "print(result.head())"
   ]
  },
  {
   "cell_type": "markdown",
   "id": "797d953b-6d57-4037-8b02-f067f3deeab4",
   "metadata": {},
   "source": [
    "Explanation:\n",
    "\n",
    "    1. assign(sepal_ratio=lambda x: x.sepal_length / x.sepal_width): Adds a new column sepal_ratio which is the ratio of sepal length to sepal width.\n",
    "    2. query(\"sepal_ratio > 2.0\"): Filters the DataFrame to include only rows where the sepal ratio is greater than 2.0.\n",
    "    3. sort_values(by=\"sepal_ratio\", ascending=False): Sorts the DataFrame by the new sepal ratio in descending order.\n",
    "    4. loc[:, [\"sepal_length\", \"sepal_width\", \"sepal_ratio\", \"class\"]]: Selects the specified columns (sepal length, sepal width, sepal ratio, and class).\n",
    "    5. reset_index(drop=True): Resets the DataFrame index, dropping the old index.\n",
    "\n",
    "These examples demonstrate how method chaining can be used to perform complex data manipulations in a concise and readable manner."
   ]
  },
  {
   "cell_type": "code",
   "execution_count": null,
   "id": "c269084c-a019-48be-ac2b-22ca18a7d45a",
   "metadata": {},
   "outputs": [],
   "source": []
  }
 ],
 "metadata": {
  "kernelspec": {
   "display_name": "Python 3 (ipykernel)",
   "language": "python",
   "name": "python3"
  },
  "language_info": {
   "codemirror_mode": {
    "name": "ipython",
    "version": 3
   },
   "file_extension": ".py",
   "mimetype": "text/x-python",
   "name": "python",
   "nbconvert_exporter": "python",
   "pygments_lexer": "ipython3",
   "version": "3.11.7"
  }
 },
 "nbformat": 4,
 "nbformat_minor": 5
}
