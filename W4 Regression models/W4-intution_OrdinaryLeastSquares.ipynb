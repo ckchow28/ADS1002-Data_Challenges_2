{
 "cells": [
  {
   "cell_type": "markdown",
   "id": "874bee29-f9fd-4510-9c2e-cdd660358a7e",
   "metadata": {},
   "source": [
    "The intuition behind the Ordinary Least Squares (OLS) algorithm in machine learning can be understood with a simple analogy."
   ]
  },
  {
   "cell_type": "markdown",
   "id": "af0fb62f-6148-42ad-b23d-ab100fa95e70",
   "metadata": {},
   "source": [
    "### Simple Intution\n",
    "\n",
    "You're throwing darts at a dartboard. The goal is to hit the bullseye, but because you're not a professional dart player, your darts land all over the place. Now, imagine you want to find the best spot on the board that represents where your darts land, on average. This spot should be as close as possible to all the darts you've thrown.\n",
    "\n",
    "In this scenario:\n",
    "\n",
    "    The bullseye is where you want all your darts (data points) to ideally be.\n",
    "    Your darts are the actual data points you have.\n",
    "    The best spot on the board represents the line you're trying to draw through your data in linear regression."
   ]
  },
  {
   "cell_type": "markdown",
   "id": "6bc59dc0-4cb1-4334-86a2-79f8cec18471",
   "metadata": {},
   "source": [
    "### In Machine Learning:\r\n",
    "\r\n",
    "    The Darts (Data Points):\r\n",
    "        Each dart represents a data point (e.g., the height and weight of a person). The goal is to find a line that best represents the overall trend of these points.\r\n",
    "\r\n",
    "    The Best-Fit Line:\r\n",
    "        You want to draw a line on the dartboard (or through your data) that gets as close as possible to all the darts (data points). This line is your \"best-fit line.\"\r\n",
    "\r\n",
    "    Minimizing the Distance:\r\n",
    "        To find the best spot on the dartboard (or the best-fit line in your data), you measure how far each dart is from your chosen spot. In OLS, instead of just measuring the distance, you square these distances to avoid negatives and then add them all up. The spot on the dartboard with the smallest total squared distance to all the darts is your best spot—the equivalent of the best-fit line."
   ]
  },
  {
   "cell_type": "code",
   "execution_count": null,
   "id": "462c7562-3cf4-4ee9-9c4a-cb2cefff281c",
   "metadata": {},
   "outputs": [],
   "source": []
  }
 ],
 "metadata": {
  "kernelspec": {
   "display_name": "Python 3 (ipykernel)",
   "language": "python",
   "name": "python3"
  },
  "language_info": {
   "codemirror_mode": {
    "name": "ipython",
    "version": 3
   },
   "file_extension": ".py",
   "mimetype": "text/x-python",
   "name": "python",
   "nbconvert_exporter": "python",
   "pygments_lexer": "ipython3",
   "version": "3.11.7"
  }
 },
 "nbformat": 4,
 "nbformat_minor": 5
}
