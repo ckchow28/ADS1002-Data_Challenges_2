{
 "cells": [
  {
   "cell_type": "markdown",
   "id": "5be7ebe8-53d0-4e94-b87d-6197544787bd",
   "metadata": {},
   "source": [
    "### When to use Ordinary Least Squares (OLS) or Gradient Descent method? \n",
    "\n",
    "Both method's aim to reduce the error between actual and predicted values in a model. However, they do so in different ways, and each method is suited to different situations. Let's explore why both methods exist with a simple example.\n",
    "\n",
    "Basic Concept\n",
    "\n",
    "OLS: Directly finds the best solution by solving mathematical equations. It’s like using a formula to get the exact answer in one step.\n",
    "\n",
    "Gradient Descent: Iteratively approaches the best solution by gradually improving guesses. It’s like taking small steps towards the correct answer until you get close enough.\n",
    "\n",
    "Simple Example: Climbing a Mountain\n",
    "\n",
    "Ordinary Least Squares (OLS)\n",
    "\n",
    "Imagine you’re trying to find the top of a mountain, but you have a detailed map of the mountain that shows you exactly where the peak is. You can simply look at the map, calculate the coordinates of the peak, and go directly there.\n",
    "\n",
    "Analogy: OLS is like using the map to go directly to the top. It calculates the best-fit line (or solution) in one go by solving equations. It’s fast and gives you an exact answer, but it requires knowing the shape of the entire mountain (having a clear formula).\n",
    "\n",
    "Gradient Descent\n",
    "\n",
    "Now, imagine you don’t have a map, but you’re standing somewhere on the mountain, and you want to reach the top. You decide to look around, figure out which direction goes upwards, and start walking in that direction. You keep repeating this—taking small steps uphill—until you can’t go any higher.\n",
    "\n",
    "Analogy: Gradient Descent is like finding the peak by walking uphill. It doesn’t know where the top is right away, but it gets closer and closer by making gradual adjustments. This method works even if the mountain is complicated (like with many peaks and valleys).\n",
    "\n",
    "Why Have Both Methods?\n",
    "\n",
    "When to Use OLS:\n",
    "\n",
    "Simple Problems: OLS works well when the problem is simple, like with linear regression, and when you can easily compute the solution.\n",
    "\n",
    "Exact Solution: OLS gives you an exact answer, which is great when the dataset isn’t too large and the equations are easy to solve.\n",
    "\n",
    "When to Use Gradient Descent:\n",
    "\n",
    "Complex Problems: Gradient Descent is useful for more complex problems, like training neural networks, where you don’t have a straightforward formula to solve.\n",
    "\n",
    "Large Datasets: It’s also better for very large datasets, where solving equations directly (like in OLS) would be too slow or impractical.\n",
    "\n",
    "Flexibility: Gradient Descent can handle many types of models, not just linear ones. It’s more flexible and can work even when the landscape is rugged, with lots of ups and downs.\n",
    "\n",
    "Summary\n",
    "\n",
    "OLS is like finding the exact top of a simple mountain using a map—it’s fast and precise but only works well for simpler problems.\n",
    "\n",
    "Gradient Descent is like climbing any mountain step by step—it’s slower but can handle more complex and larger problems.\n",
    "\n",
    "Both methods are important tools in machine learning, chosen depending on the nature of the problem you’re trying to solve."
   ]
  },
  {
   "cell_type": "code",
   "execution_count": null,
   "id": "6ecf3f5a-3761-401e-8e98-57a38269da0e",
   "metadata": {},
   "outputs": [],
   "source": []
  }
 ],
 "metadata": {
  "kernelspec": {
   "display_name": "Python 3 (ipykernel)",
   "language": "python",
   "name": "python3"
  },
  "language_info": {
   "codemirror_mode": {
    "name": "ipython",
    "version": 3
   },
   "file_extension": ".py",
   "mimetype": "text/x-python",
   "name": "python",
   "nbconvert_exporter": "python",
   "pygments_lexer": "ipython3",
   "version": "3.11.7"
  }
 },
 "nbformat": 4,
 "nbformat_minor": 5
}
