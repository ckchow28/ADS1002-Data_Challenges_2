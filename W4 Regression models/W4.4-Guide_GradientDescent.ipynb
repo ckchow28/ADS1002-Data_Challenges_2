{
 "cells": [
  {
   "cell_type": "markdown",
   "id": "c739b35d-9a0d-4233-b253-3a2c956919fc",
   "metadata": {},
   "source": [
    "### Step 1: Import required libraries"
   ]
  },
  {
   "cell_type": "code",
   "execution_count": 1,
   "id": "1f88201a-8053-4547-b931-fb633d1b2745",
   "metadata": {},
   "outputs": [],
   "source": [
    "import numpy as np\n",
    "import pandas as pd\n",
    "import matplotlib.pyplot as plt\n",
    "from sklearn.model_selection import train_test_split\n",
    "from sklearn.preprocessing import StandardScaler"
   ]
  },
  {
   "cell_type": "markdown",
   "id": "de55dac2-9f62-4cc9-a392-a7475269e812",
   "metadata": {},
   "source": [
    "### Step 2: Load and prepare the data"
   ]
  },
  {
   "cell_type": "code",
   "execution_count": 2,
   "id": "67680298-c41f-4b6c-ae98-89bd91a475d9",
   "metadata": {},
   "outputs": [
    {
     "name": "stdout",
     "output_type": "stream",
     "text": [
      "   PassengerId  Survived  Pclass  \\\n",
      "0            1         0       3   \n",
      "1            2         1       1   \n",
      "2            3         1       3   \n",
      "3            4         1       1   \n",
      "4            5         0       3   \n",
      "\n",
      "                                                Name     Sex   Age  SibSp  \\\n",
      "0                            Braund, Mr. Owen Harris    male  22.0      1   \n",
      "1  Cumings, Mrs. John Bradley (Florence Briggs Th...  female  38.0      1   \n",
      "2                             Heikkinen, Miss. Laina  female  26.0      0   \n",
      "3       Futrelle, Mrs. Jacques Heath (Lily May Peel)  female  35.0      1   \n",
      "4                           Allen, Mr. William Henry    male  35.0      0   \n",
      "\n",
      "   Parch            Ticket     Fare Cabin Embarked  \n",
      "0      0         A/5 21171   7.2500   NaN        S  \n",
      "1      0          PC 17599  71.2833   C85        C  \n",
      "2      0  STON/O2. 3101282   7.9250   NaN        S  \n",
      "3      0            113803  53.1000  C123        S  \n",
      "4      0            373450   8.0500   NaN        S  \n"
     ]
    },
    {
     "name": "stderr",
     "output_type": "stream",
     "text": [
      "C:\\Users\\ckcho\\AppData\\Local\\Temp\\ipykernel_45388\\3526184691.py:8: FutureWarning: A value is trying to be set on a copy of a DataFrame or Series through chained assignment using an inplace method.\n",
      "The behavior will change in pandas 3.0. This inplace method will never work because the intermediate object on which we are setting values always behaves as a copy.\n",
      "\n",
      "For example, when doing 'df[col].method(value, inplace=True)', try using 'df.method({col: value}, inplace=True)' or df[col] = df[col].method(value) instead, to perform the operation inplace on the original object.\n",
      "\n",
      "\n",
      "  data['Age'].fillna(data['Age'].median(), inplace=True) # continuous data\n",
      "C:\\Users\\ckcho\\AppData\\Local\\Temp\\ipykernel_45388\\3526184691.py:9: FutureWarning: A value is trying to be set on a copy of a DataFrame or Series through chained assignment using an inplace method.\n",
      "The behavior will change in pandas 3.0. This inplace method will never work because the intermediate object on which we are setting values always behaves as a copy.\n",
      "\n",
      "For example, when doing 'df[col].method(value, inplace=True)', try using 'df.method({col: value}, inplace=True)' or df[col] = df[col].method(value) instead, to perform the operation inplace on the original object.\n",
      "\n",
      "\n",
      "  data['Embarked'].fillna(data['Embarked'].mode()[0], inplace=True) # categorical data\n"
     ]
    }
   ],
   "source": [
    "# Load the Titanic dataset\n",
    "# url = 'https://raw.githubusercontent.com/datasciencedojo/datasets/master/titanic.csv'\n",
    "data = pd.read_csv(\"titanic.csv\")\n",
    "\n",
    "print(data.head())\n",
    "# Preprocess the data\n",
    "# Fill missing values\n",
    "data['Age'].fillna(data['Age'].median(), inplace=True) # continuous data\n",
    "data['Embarked'].fillna(data['Embarked'].mode()[0], inplace=True) # categorical data\n",
    "\n",
    "# Convert categorical features to numerical\n",
    "data['Sex'] = data['Sex'].map({'male': 0, 'female': 1})\n",
    "data['Embarked'] = data['Embarked'].map({'C': 0, 'Q': 1, 'S': 2})\n",
    "\n",
    "# Select features and target variable\n",
    "features = ['Pclass', 'Sex', 'Age', 'Embarked']\n",
    "X = data[features].values\n",
    "y = data['Survived'].values\n",
    "\n",
    "# Normalize the features\n",
    "scaler = StandardScaler()\n",
    "X = scaler.fit_transform(X)\n",
    "\n",
    "# Add a bias term (intercept) to X\n",
    "X = np.c_[np.ones(X.shape[0]), X]\n",
    "\n",
    "# Split the data into training and testing sets\n",
    "X_train, X_test, y_train, y_test = train_test_split(X, y, test_size=0.2, random_state=42)"
   ]
  },
  {
   "cell_type": "markdown",
   "id": "8c5eb5c7-a8ed-4e7d-9483-482b8501ff40",
   "metadata": {},
   "source": [
    "### Step 3: Implement the gradient descent function with plotting"
   ]
  },
  {
   "cell_type": "code",
   "execution_count": 16,
   "id": "615c4635",
   "metadata": {},
   "outputs": [],
   "source": [
    "lr=0.01"
   ]
  },
  {
   "cell_type": "code",
   "execution_count": 3,
   "id": "125abc90-3634-4f6a-9ce8-897c629db15e",
   "metadata": {},
   "outputs": [],
   "source": [
    "def gradient_descent(X, y, learning_rate=lr, n_iterations=100): # OLS and GD depends on learning_rate (supervised machine learning)\n",
    "    # learning rate is heurestic (try n error)\n",
    "    m, n = X.shape            # m is the number of training examples, n is the number of features\n",
    "    theta = np.zeros(n)        # Initialize the parameters (weights) to zero for all features\n",
    "    \n",
    "    # Store values for plotting\n",
    "    history = {\"iterations\": [], \"error\": [], \"slope\": []} # slope is learning rate\n",
    "    \n",
    "    for i in range(n_iterations):   # Loop for the number of iterations we want to perform\n",
    "        predictions = X.dot(theta)  # Calculate predictions by multiplying input features with weights\n",
    "        errors = predictions - y    # Calculate the difference between predictions and actual values (errors)\n",
    "        gradients = (2/m) * X.T.dot(errors)  # Compute the gradient (slope) for each parameter\n",
    "        theta = theta - learning_rate * gradients  # Update parameters in the opposite direction of the gradient\n",
    "        \n",
    "        # Save data for plotting\n",
    "        history[\"iterations\"].append(i)\n",
    "        history[\"error\"].append(np.mean(errors**2))  # Mean squared error\n",
    "        history[\"slope\"].append(np.mean(gradients))  # Average slope\n",
    "    \n",
    "    return theta, history  # Return the final optimized weights after all iterations and history for plotting"
   ]
  },
  {
   "cell_type": "markdown",
   "id": "1f7e254e-5557-4156-b34d-af9f8079e9c4",
   "metadata": {},
   "source": [
    "### Step 4: Custom plot function"
   ]
  },
  {
   "cell_type": "code",
   "execution_count": 4,
   "id": "87368acf-9eb8-4f81-afeb-8dd3370fc067",
   "metadata": {},
   "outputs": [],
   "source": [
    "def plot_gradient_descent(history):\n",
    "    iterations = history[\"iterations\"]\n",
    "    errors = history[\"error\"]\n",
    "    slopes = history[\"slope\"]\n",
    "    \n",
    "    fig, ax = plt.subplots(1, 2, figsize=(12, 5))\n",
    "    \n",
    "    # Plot the error vs. iterations\n",
    "    ax[0].plot(iterations, errors, 'r-', label='Error')\n",
    "    ax[0].set_xlabel('Iterations')\n",
    "    ax[0].set_ylabel('Mean Squared Error')\n",
    "    ax[0].set_title('Error vs. Iterations')\n",
    "    ax[0].legend()\n",
    "    \n",
    "    # Plot the slope vs. iterations\n",
    "    ax[1].plot(iterations, slopes, 'b-', label='Slope')\n",
    "    ax[1].set_xlabel('Iterations')\n",
    "    ax[1].set_ylabel('Average Slope')\n",
    "    ax[1].set_title('Slope vs. Iterations')\n",
    "    ax[1].legend()\n",
    "    \n",
    "    plt.tight_layout()\n",
    "    plt.show()"
   ]
  },
  {
   "cell_type": "markdown",
   "id": "88572ffc-a591-40d2-a2c0-f896984901d0",
   "metadata": {},
   "source": [
    "### Step 5: Train the model and plot results"
   ]
  },
  {
   "cell_type": "code",
   "execution_count": 14,
   "id": "0c861c16-4db9-48b4-84e1-af2392ac6fc3",
   "metadata": {},
   "outputs": [
    {
     "name": "stdout",
     "output_type": "stream",
     "text": [
      "Learned parameters: [ 0.33186947 -0.11837884  0.21166779 -0.03632534 -0.03834521]\n"
     ]
    },
    {
     "data": {
      "image/png": "[encoded data removed]",
      "text/plain": [
       "<Figure size 1200x500 with 2 Axes>"
      ]
     },
     "metadata": {},
     "output_type": "display_data"
    }
   ],
   "source": [
    "# Train the model using gradient descent\n",
    "theta, history = gradient_descent(X_train, y_train, learning_rate=0.01, n_iterations=100)\n",
    "\n",
    "# Print the learned parameters\n",
    "print(\"Learned parameters:\", theta)\n",
    "\n",
    "# Plot the error and slope during gradient descent\n",
    "plot_gradient_descent(history)"
   ]
  },
  {
   "cell_type": "markdown",
   "id": "94fb8d9a",
   "metadata": {},
   "source": [
    "10 iterations has the least error<br>\n",
    "10 iterations has highest average slope"
   ]
  },
  {
   "cell_type": "markdown",
   "id": "23061f56-ed56-4af5-86c1-939175de7e59",
   "metadata": {},
   "source": [
    "The plots generated in Step 5 of the code help us visualize how the gradient descent algorithm is performing over time. Here’s a simple explanation of each plot:\n",
    "\n",
    "### 1. Error vs. Iterations\n",
    "\n",
    "**What It Shows:**\n",
    "\n",
    "    This plot shows how the mean squared error (MSE) changes as the number of iterations increases during the gradient descent process.\n",
    "\n",
    "**What the Plot Tells Us:**\n",
    "\n",
    "    \n",
    "    X-Axis: Number of iterations (how many times the algorithm has updated the weights).\n",
    "    Y-Axis: Mean squared error (a measure of how far off our predictions are from the actual values).\n",
    "\n",
    "**How to Read It:**\n",
    "\n",
    "    Decreasing Error: Ideally, you want to see the error decrease as the iterations progress. This means the model is learning and improving its predictions.\n",
    "    Flat or Increasing Error: If the error does not decrease or increases, it might indicate issues such as a high learning rate, insufficient iterations, or problems with the model.\n",
    "\n",
    "**2. Slope vs. Iterations**\n",
    "\n",
    "**What It Shows:**\n",
    "\n",
    "    This plot shows how the average gradient (slope) of the error function changes as the number of iterations increases.\n",
    "\n",
    "**What the Plot Tells Us:**\n",
    "\n",
    "    X-Axis: Number of iterations.\n",
    "    Y-Axis: Average slope of the gradients used to update the weights.\n",
    "\n",
    "**How to Read It:**\n",
    "\n",
    "    Decreasing Slope: Typically, you want to see the average slope decrease over time. A decreasing slope indicates that the model is making smaller updates to the weights as it approaches the optimal solution.\n",
    "    Flat Slope: If the slope levels off, it suggests that the model's weights are stabilizing and the gradient descent process is converging.\n",
    "\n",
    "**Summary:**\n",
    "\n",
    "    Error vs. Iterations: Helps you see if your model's predictions are improving over time. You want this line to go down, showing that the model's predictions are getting closer to the actual values.\n",
    "    Slope vs. Iterations: Indicates how the adjustments to the model's parameters (weights) are changing. You want this line to go down, indicating that the model is making smaller, more refined updates as it gets closer to the best solution.\n",
    "\n",
    "By examining these plots, you can get a visual understanding of whether the gradient descent algorithm is working correctly and how well the model is learning from the data."
   ]
  },
  {
   "cell_type": "markdown",
   "id": "eb7bd6bf-91ff-4500-9b6c-5cdb6971859f",
   "metadata": {},
   "source": [
    "### Step 6: Make predictions and evaluate the model"
   ]
  },
  {
   "cell_type": "code",
   "execution_count": 10,
   "id": "3d128258-3bce-4fad-a4ca-479d56982469",
   "metadata": {},
   "outputs": [
    {
     "name": "stdout",
     "output_type": "stream",
     "text": [
      "Accuracy on test set: 0.7932960893854749\n"
     ]
    }
   ],
   "source": [
    "def predict(X, theta):\n",
    "    return X.dot(theta)\n",
    "\n",
    "# Predict on the test set\n",
    "y_pred = predict(X_test, theta)\n",
    "\n",
    "# Convert predictions to binary outcomes (0 or 1) based on a threshold of 0.5\n",
    "y_pred_binary = (y_pred > 0.5).astype(int)\n",
    "\n",
    "# Evaluate the model\n",
    "from sklearn.metrics import accuracy_score\n",
    "\n",
    "accuracy = accuracy_score(y_test, y_pred_binary)\n",
    "print(\"Accuracy on test set:\", accuracy)"
   ]
  },
  {
   "cell_type": "markdown",
   "id": "2346d9a5-e541-45dc-b6b4-e023ce444c21",
   "metadata": {},
   "source": [
    "### Explanation:\n",
    "\n",
    "    Data Preparation:\n",
    "        Missing Values: We fill missing values in Age and Embarked with median and mode respectively.\n",
    "        Categorical to Numerical: Convert categorical variables to numerical format for the model.\n",
    "        Normalization: Normalize features for better gradient descent performance.\n",
    "        Split Data: Split into training and testing sets.\n",
    "\n",
    "    Gradient Descent Function:\n",
    "        Error and Gradient Computation: Calculate prediction errors and gradients.\n",
    "        Update Weights: Adjust weights based on gradients and learning rate.\n",
    "\n",
    "    Plot Function:\n",
    "        Error vs. Iterations: Shows how error decreases over iterations.\n",
    "        Slope vs. Iterations: Shows how the average slope of gradients changes.\n",
    "\n",
    "    Model Training and Evaluation:\n",
    "        Train the Model: Use gradient descent to learn weights.\n",
    "        Make Predictions: Predict outcomes on the test set and convert to binary.\n",
    "        Evaluate: Calculate accuracy to measure the model's performance."
   ]
  },
  {
   "cell_type": "markdown",
   "id": "4c6adcde-27fc-481d-ac1e-1dbd3fd3b0e4",
   "metadata": {},
   "source": [
    "### The role of Learning Rate (LR) in Gradient Descent algorithm explained\n",
    "\n",
    "The LR is a critical hyperparameter that determines the step-size at each iteration while moving towards a minimum loss function. "
   ]
  },
  {
   "cell_type": "markdown",
   "id": "548e82b4-37d5-485b-895a-ed459be3c657",
   "metadata": {},
   "source": [
    "The best learning rate can vary depending on the problem, the model, and the dataset you're working with. However, I can explain the differences between a larger learning rate like 0.1 and a smaller one like 0.001 using a simple example.\n",
    "Understanding Learning Rate\n",
    "\n",
    "The learning rate determines the size of the steps taken towards minimizing the loss function during training.\n",
    "\n",
    "    Large Learning Rate (e.g., 0.1):\n",
    "        Pros: It makes larger updates to the weights, allowing the model to converge faster.\n",
    "        Cons: If it's too large, the steps might overshoot the minimum of the loss function, causing the training to be unstable or to diverge (not converge at all).\n",
    "\n",
    "    Small Learning Rate (e.g., 0.001):\n",
    "        Pros: It makes smaller updates, leading to more precise adjustments towards the minimum, which can help achieve a better final result.\n",
    "        Cons: Training can be very slow and might get stuck in local minima instead of reaching the global minimum."
   ]
  },
  {
   "cell_type": "markdown",
   "id": "957e540f-00ec-485b-8f8b-595c2b261c47",
   "metadata": {},
   "source": [
    "Conclusion\n",
    "\n",
    "    Use 0.1 if you want faster convergence and the problem isn't too sensitive to overshooting (e.g., you're confident the loss surface is smooth and doesn't have sharp minima).\n",
    "    Use 0.001 when you're dealing with a more complex or sensitive loss surface where careful, precise adjustments are needed, and you want to ensure stable convergence.\n",
    "\n",
    "In practice, it's common to start with a moderate learning rate and then adjust based on how the training is going."
   ]
  },
  {
   "cell_type": "code",
   "execution_count": null,
   "id": "495d54fe-5529-4b2c-ad1a-cabdcd057bde",
   "metadata": {},
   "outputs": [],
   "source": []
  }
 ],
 "metadata": {
  "kernelspec": {
   "display_name": "Python 3 (ipykernel)",
   "language": "python",
   "name": "python3"
  },
  "language_info": {
   "codemirror_mode": {
    "name": "ipython",
    "version": 3
   },
   "file_extension": ".py",
   "mimetype": "text/x-python",
   "name": "python",
   "nbconvert_exporter": "python",
   "pygments_lexer": "ipython3",
   "version": "3.12.4"
  }
 },
 "nbformat": 4,
 "nbformat_minor": 5
}
