{
 "cells": [
  {
   "cell_type": "markdown",
   "id": "d01cbbb4",
   "metadata": {},
   "source": [
    "# W5 In studio exercises Timeseries Data in Pandas\n",
    "\n",
    "Required files (download these from the Gitlab site into the same directory as the notebook on your computer):\n",
    "\n",
    "* [IDV60901.94866.csv](https://gitlab.erc.monash.edu.au/bads/data-challenges-resources/-/blob/main/Pandas-DataFrames/IDV60901.94866.csv?ref_type=heads)\n",
    "\n",
    "We will focus on changes in air temperature over certain period of time:\n",
    "\n",
    "- load the data, create dataframe with only 'local_date_time_full[80]' and 'air_temp',\n",
    "\n",
    "- rename column 'local_date_time_full[80]',\n",
    "\n",
    "- change it into datetime format and make it index,\n",
    "\n",
    "- drop unnecessary column and sort according to date, if needed,\n",
    "\n",
    "- do line plot of temeprature (based on whole dataset)\n",
    "\n",
    "- do line plot of temperature for 24 March 2021 only\n",
    "\n",
    "- downsample (resample) data from 24 March 2021 to average hourly measurements\n",
    "\n",
    "- compare (using line plot) raw data from 24 March 2021 and rolling mean with 2H window \n",
    "\n",
    "\n"
   ]
  }
 ],
 "metadata": {
  "kernelspec": {
   "display_name": "Python 3 (ipykernel)",
   "language": "python",
   "name": "python3"
  },
  "language_info": {
   "codemirror_mode": {
    "name": "ipython",
    "version": 3
   },
   "file_extension": ".py",
   "mimetype": "text/x-python",
   "name": "python",
   "nbconvert_exporter": "python",
   "pygments_lexer": "ipython3",
   "version": "3.9.13"
  }
 },
 "nbformat": 4,
 "nbformat_minor": 5
}
