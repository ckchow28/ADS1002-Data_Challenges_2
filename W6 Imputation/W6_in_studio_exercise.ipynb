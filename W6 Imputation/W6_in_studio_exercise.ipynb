{
 "cells": [
  {
   "cell_type": "markdown",
   "id": "e1450f70",
   "metadata": {},
   "source": [
    "### W6 in studio exercise (Imputation)"
   ]
  },
  {
   "cell_type": "markdown",
   "id": "b1aa0b99",
   "metadata": {},
   "source": [
    "Consider the following (artificial) dataset:"
   ]
  },
  {
   "cell_type": "code",
   "execution_count": 1,
   "id": "faf6ab75",
   "metadata": {},
   "outputs": [],
   "source": [
    "import numpy as np\n",
    "\n",
    "data = {\n",
    "    'A': [100, 99.9, np.nan, 100.3, 100.5, 101.1],\n",
    "    'B': [np.nan, 75, 100, 85, 77, 92],\n",
    "    'C': [0.5, np.nan, np.nan, 0.4, 0.2, 0.314],\n",
    "    'D': [34.34, 37.37, 45.45, 43.43, 29.29, np.nan]\n",
    "}"
   ]
  },
  {
   "cell_type": "markdown",
   "id": "ba5c676a",
   "metadata": {},
   "source": [
    "Impute missing values with mean value of the columns, using:\n",
    "\n",
    "- fillna()\n",
    "- SimpleImputer()\n",
    "- kNN Imputer with 2 neighbours"
   ]
  }
 ],
 "metadata": {
  "kernelspec": {
   "display_name": "Python 3 (ipykernel)",
   "language": "python",
   "name": "python3"
  },
  "language_info": {
   "codemirror_mode": {
    "name": "ipython",
    "version": 3
   },
   "file_extension": ".py",
   "mimetype": "text/x-python",
   "name": "python",
   "nbconvert_exporter": "python",
   "pygments_lexer": "ipython3",
   "version": "3.9.13"
  }
 },
 "nbformat": 4,
 "nbformat_minor": 5
}
