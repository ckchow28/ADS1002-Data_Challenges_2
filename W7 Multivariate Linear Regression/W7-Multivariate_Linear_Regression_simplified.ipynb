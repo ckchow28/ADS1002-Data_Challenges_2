{
 "cells": [
  {
   "cell_type": "markdown",
   "id": "5ccc60b2-e54b-41c5-ac66-3e510df54814",
   "metadata": {},
   "source": [
    "- Author: Ashish Dutt\n",
    "- Version: 0.0.1"
   ]
  },
  {
   "cell_type": "markdown",
   "id": "c9b73e29-8a4a-4907-8e7b-c5179dc7a4e3",
   "metadata": {},
   "source": [
    "**Multivariate Linear Regression** is a statistical technique used to understand the relationship between one dependent variable and two or more independent variables. In simple terms, it helps us predict the value of something based on the values of other things."
   ]
  },
  {
   "cell_type": "markdown",
   "id": "73c390ad-8823-412c-9fd3-b7eb9a41cc0e",
   "metadata": {},
   "source": [
    "#### Breaking It Down:\n",
    "\n",
    "- **Dependent or Target Variable (Y):** This is the outcome you're trying to predict or explain.\n",
    "- **Independent or Feature Variables (X<sub>1</sub>, X<sub>2</sub>, X<sub>3</sub>, ...,X<sub>n</sub>):** These are the factors that you think have an impact on the dependent variable."
   ]
  },
  {
   "cell_type": "markdown",
   "id": "0c515306-fb83-459a-a5e4-e9a796b93936",
   "metadata": {},
   "source": [
    "The general equation for multivariate linear regression looks like this:\n",
    "\n",
    "\n",
    "Y = β<sub>0</sub> ​+ β<sub>1</sub>​X<sub>1</sub> ​+ β<sub>2</sub>​X<sub>2</sub>​+β<sub>3</sub>​X<sub>3</sub>​+⋯+β<sub>n</sub>​X<sub>n</sub>​+ϵ\n",
    "\n",
    "Where:\n",
    "\n",
    "- *Y* is the dependent variable.\n",
    "- X<sub>1</sub>,X<sub>2</sub>,X<sub>3</sub>,...,X<sub>n</sub> are the independent variables.\n",
    "- β<sub>0</sub> is the **intercept**(the value of Y when all X<sub>n</sub> are 0).\n",
    "- β<sub>1</sub>,β<sub>2</sub>,β<sub>3</sub>,...,β<sub>n</sub> are the **coefficients** (they represent the change in Y for a one-unit change in the corresponding X, assuming all other X<sub>n</sub> are constant).\n",
    "- *ϵ* is the **error term** (captures the part of Y that cannot be explained by the model)."
   ]
  },
  {
   "cell_type": "markdown",
   "id": "6ac10c3c-8206-406c-a210-22d8805d0ca2",
   "metadata": {},
   "source": [
    "### What is a Coefficient?\n",
    "\n",
    "- **Coefficient** refers to the numerical values that the model calculates to quantify the relationship between each feature and the target variable. The coefficients determine how much the target variable (in this case, **Price**) changes for a one-unit change in the corresponding feature, assuming all other features remain constant.\n",
    "- Example: The values calculated by the regression model that represent the impact of EngineSize and Horsepower on Price are the coefficients. These coefficients will be computed after fitting the model to the data."
   ]
  },
  {
   "cell_type": "markdown",
   "id": "630fef06-aeb2-4e4b-b4d5-a876f4d08572",
   "metadata": {},
   "source": [
    "**Real-Life Example:**\n",
    "\n",
    "Imagine you're a real estate analyst trying to predict the price of a house (Y). You believe that the price depends on several factors, such as:\n",
    "\n",
    "1. **Size of the house (X<sub>1</sub>)**: Measured in square feet.\n",
    "2. **Number of bedrooms (X<sub>2</sub>)**.\n",
    "3. **Age of the house (X<sub>3</sub>)**: In years.\n",
    "4. **Distance to the nearest city center (X<sub>4</sub>)**: In miles.\n",
    "\n",
    "Using multivariate linear regression, you might develop a model like this:\n",
    "\n",
    "**Price** = β<sub>0</sub>+β<sub>1</sub>(Size)+β<sub>2</sub>(Bedrooms)+β<sub>3</sub>(Age)+β<sub>4</sub>(Distance)+ϵ\n",
    "\n",
    "- β<sub>1</sub> might tell you how much the price increases for every additional square foot.\n",
    "- β<sub>2</sub> might show the increase in price for each additional bedroom.\n",
    "- β<sub>3​</sub> might indicate how much the price decreases as the house gets older.\n",
    "- β<sub>4​</sub> might show how the price changes as the house is located further from the city center."
   ]
  },
  {
   "cell_type": "markdown",
   "id": "1317ce3a-cb37-4015-976a-ac599be69fbe",
   "metadata": {},
   "source": [
    "#### Example Interpretation:"
   ]
  },
  {
   "cell_type": "markdown",
   "id": "5db3daad-f0a7-40ed-937d-4165bec38b75",
   "metadata": {},
   "source": [
    "Suppose the estimated model is:\n",
    "\n",
    "Price=50,000+100(Size)+20,000(Bedrooms)−500(Age)−2,000(Distance)Price=50,000+100(Size)+20,000(Bedrooms)−500(Age)−2,000(Distance)\n",
    "\n",
    "- **Intercept** (β<sub>0</sub>=50,000): If a house has 0 square feet, 0 bedrooms, is brand new, and is right in the city center, the model predicts its price would be RM50,000 (though this is a hypothetical scenario).\n",
    "- **Coefficient for Size** (β<sub>1</sub>=100): For every additional square foot, the price increases by RM100.\n",
    "- **Coefficient for Bedrooms** (β<sub>2</sub>=20,000): Each additional bedroom adds RM20,000 to the price.\n",
    "- **Coefficient for Age** (β<sub>3</sub>=−500): Each additional year the house ages, its price decreases by RM500.\n",
    "- **Coefficient for Distance** (β<sub>4</sub>=−2,000): For every mile further from the city center, the price decreases by RM2,000.\n",
    "\n",
    "This model helps you understand how different factors contribute to the price of a house and allows you to make predictions about house prices based on these factors."
   ]
  },
  {
   "cell_type": "markdown",
   "id": "63c571ae-23da-40a9-8cad-bde490e2872f",
   "metadata": {},
   "source": [
    "#### Significance of Intercept (β<sub>0</sub>) and Error Term (ϵ)\n",
    "\n",
    "In multivariate linear regression, **intercept** and **error term** are two key components that help define the model. Let's break them down in simple terms and use a real-life example to explain them."
   ]
  },
  {
   "cell_type": "markdown",
   "id": "1d654a95-230a-4658-aa1a-d3974c5dbd4a",
   "metadata": {},
   "source": [
    "1. **Intercept** (β<sub>0</sub>​)\n",
    "\n",
    "The intercept is the predicted value of the dependent variable (Y) when all the independent variables (X<sub>n</sub>​) are zero. In other words, it's where the regression line crosses the Y-axis when all the X<sub>n</sub> are zero. <u>It represents the baseline level of the dependent variable when none of the independent variables have any effect</u>.\n",
    "\n",
    "**Real-Life Example**: Imagine you're predicting the price of a house based on several factors like size, number of bedrooms, age, and distance to the city center.\n",
    "\n",
    "If we use a model like this:\n",
    "\n",
    "Price = β<sub>0</sub>+β<sub>1</sub>(Size)+β<sub>2</sub>(Bedrooms)+β<sub>3</sub>(Age)+β<sub>4</sub>(Distance)+ϵ\n",
    "The intercept (β<sub>0</sub>) might represent the price of a house that has:\n",
    "\n",
    "- 0 square feet,\n",
    "- 0 bedrooms,\n",
    "- Is brand new (0 years old),\n",
    "- And is right in the city center (0 miles away).\n",
    "\n",
    "In reality, these conditions are unrealistic, but the <u>intercept gives you a starting point or a baseline for your predictions.</u>"
   ]
  },
  {
   "cell_type": "markdown",
   "id": "ccaa3c9c-bb4a-4510-a929-fbecd35ba724",
   "metadata": {},
   "source": [
    "2. **Error Term (ϵ)**\n",
    "\n",
    "The **error term** (also known as the residual) represents the difference between the actual observed value and the value predicted by the model. It accounts for the variation in the dependent variable (Y) that the model cannot explain with the independent variables.\n",
    "\n",
    "In simple terms, the error term captures all the factors that affect the dependent variable but are not included in the model. <u>It shows how much the model's prediction is off from the actual outcome</u>.\n",
    "\n",
    "\n",
    "Real-Life Example: Continuing with the house price prediction, suppose your model predicts that a particular house should cost RM 300,000 based on its size, number of bedrooms, age, and distance from the city center. However, the actual market price of the house is RM 310,000.\n",
    "\n",
    "The error term (ϵ) in this case is RM 10,000, which is the difference between the actual price and the predicted price. This RM 10,000 might be due to other factors not included in the model, like the house's location in a particularly desirable neighborhood, recent renovations, or even the current state of the real estate market.\n",
    "\n",
    "\n",
    "**Summary**\n",
    "\n",
    "- Intercept (β<sub>0</sub>​): The predicted value of Y when all X<sub>n</sub> are zero. It represents the starting point or baseline of your model.\n",
    "- Error Term (ϵ): The difference between the actual and predicted values, accounting for factors not included in the model."
   ]
  },
  {
   "cell_type": "markdown",
   "id": "87ba5250-232f-41b0-bf79-3fd1ca5c5c7c",
   "metadata": {},
   "source": [
    "### Multivariate Linear Regression using Python\n",
    "\n",
    "Here's a Python code example for predicting the price of a house based on multiple factors like size, number of bedrooms, age, and distance to the city center using multivariate linear regression."
   ]
  },
  {
   "cell_type": "code",
   "execution_count": 2,
   "id": "22d1505d-beaa-488f-aca0-d82562eb355d",
   "metadata": {},
   "outputs": [
    {
     "name": "stdout",
     "output_type": "stream",
     "text": [
      "Coefficients: [ 1.99999863e+02 -1.36997792e-01 -7.61098844e-02  5.32769191e-02]\n",
      "Intercept: 1.210147162200883\n",
      "Mean Squared Error: 0.10791827123065956\n",
      "R-squared: 0.9999999999976875\n",
      "   Actual Price  Predicted Price\n",
      "0        300000    300000.365327\n",
      "1        400000    400000.045666\n",
      "5        800000    799999.566174\n"
     ]
    }
   ],
   "source": [
    "import numpy as np\n",
    "import pandas as pd\n",
    "from sklearn.linear_model import LinearRegression\n",
    "from sklearn.model_selection import train_test_split\n",
    "from sklearn.metrics import mean_squared_error, r2_score\n",
    "\n",
    "# Sample data\n",
    "data = {\n",
    "    'Size': [1500, 2000, 2500, 3000, 3500, 4000, 4500],  # in square feet\n",
    "    'Bedrooms': [3, 4, 3, 5, 4, 6, 5],                  # number of bedrooms\n",
    "    'Age': [10, 15, 20, 5, 8, 12, 3],                   # in years\n",
    "    'DistanceToCity': [10, 15, 20, 5, 8, 12, 6],        # in miles\n",
    "    'Price': [300000, 400000, 500000, 600000, 700000, 800000, 900000]  # in dollars\n",
    "}\n",
    "\n",
    "# Creating a DataFrame\n",
    "df = pd.DataFrame(data)\n",
    "\n",
    "# Features and target\n",
    "X = df[['Size', 'Bedrooms', 'Age', 'DistanceToCity']]\n",
    "y = df['Price']\n",
    "\n",
    "# Split the data into training and testing sets\n",
    "X_train, X_test, y_train, y_test = train_test_split(X, y, test_size=0.3, random_state=42)\n",
    "\n",
    "# Create a Linear Regression model\n",
    "model = LinearRegression()\n",
    "\n",
    "# Fit the model to the training data\n",
    "model.fit(X_train, y_train)\n",
    "\n",
    "# Predict the prices for the test set\n",
    "y_pred = model.predict(X_test)\n",
    "\n",
    "# Print the coefficients and intercept\n",
    "print(\"Coefficients:\", model.coef_)\n",
    "print(\"Intercept:\", model.intercept_)\n",
    "\n",
    "# Evaluate the model\n",
    "mse = mean_squared_error(y_test, y_pred)\n",
    "r2 = r2_score(y_test, y_pred)\n",
    "\n",
    "print(f\"Mean Squared Error: {mse}\")\n",
    "print(f\"R-squared: {r2}\")\n",
    "\n",
    "# Show the actual vs predicted prices\n",
    "comparison = pd.DataFrame({'Actual Price': y_test, 'Predicted Price': y_pred})\n",
    "print(comparison)"
   ]
  },
  {
   "cell_type": "markdown",
   "id": "3b3d158e-ded1-4409-b9b2-cfae9417531b",
   "metadata": {},
   "source": [
    "### Updated Python Code with Coefficient Analysis and Feature Normalization\n",
    "\n",
    "Now, let's modify the code to include the following:\n",
    "\n",
    "- **Analysis of Coefficients:** We'll analyze the coefficients to understand the importance of each feature in predicting the target variable Y (Price).\n",
    "- **Feature Normalization:** We'll normalize the features before fitting the model to ensure that all features are on a similar scale.\n",
    "- **Visualization:** We'll create plots to visualize the importance of each feature (coefficients) and the effect of normalization."
   ]
  },
  {
   "cell_type": "code",
   "execution_count": 3,
   "id": "5a5f11c9-367b-4723-bb2a-0a4d8080b1cc",
   "metadata": {},
   "outputs": [
    {
     "name": "stdout",
     "output_type": "stream",
     "text": [
      "Coefficients: [186467.89577314 -13940.19875854 -40754.54370637  25846.48963447]\n",
      "Intercept: 599677.8070422176\n",
      "Mean Squared Error: 1052927607.6387037\n",
      "R-squared: 0.9774372655505992\n",
      "   Actual Price  Predicted Price\n",
      "0        300000    336085.611272\n",
      "1        400000    404510.701409\n",
      "5        800000    757148.336615\n"
     ]
    },
    {
     "data": {
      "image/png": "[encoded data removed]",
      "text/plain": [
       "<Figure size 640x480 with 1 Axes>"
      ]
     },
     "metadata": {},
     "output_type": "display_data"
    },
    {
     "data": {
      "image/png": "[encoded data removed]",
      "text/plain": [
       "<Figure size 640x480 with 1 Axes>"
      ]
     },
     "metadata": {},
     "output_type": "display_data"
    }
   ],
   "source": [
    "import numpy as np\n",
    "import pandas as pd\n",
    "import matplotlib.pyplot as plt\n",
    "from sklearn.linear_model import LinearRegression\n",
    "from sklearn.model_selection import train_test_split\n",
    "from sklearn.preprocessing import StandardScaler\n",
    "from sklearn.metrics import mean_squared_error, r2_score\n",
    "\n",
    "# Sample data\n",
    "data = {\n",
    "    'Size': [1500, 2000, 2500, 3000, 3500, 4000, 4500],  # in square feet\n",
    "    'Bedrooms': [3, 4, 3, 5, 4, 6, 5],                  # number of bedrooms\n",
    "    'Age': [10, 15, 20, 5, 8, 12, 3],                   # in years\n",
    "    'DistanceToCity': [10, 15, 20, 5, 8, 12, 6],        # in miles\n",
    "    'Price': [300000, 400000, 500000, 600000, 700000, 800000, 900000]  # in dollars\n",
    "}\n",
    "\n",
    "# Creating a DataFrame\n",
    "df = pd.DataFrame(data)\n",
    "\n",
    "# Features and target\n",
    "X = df[['Size', 'Bedrooms', 'Age', 'DistanceToCity']]\n",
    "y = df['Price']\n",
    "\n",
    "# Normalize the features\n",
    "scaler = StandardScaler()\n",
    "X_normalized = scaler.fit_transform(X)\n",
    "\n",
    "# Split the data into training and testing sets\n",
    "X_train, X_test, y_train, y_test = train_test_split(X_normalized, y, test_size=0.3, random_state=42)\n",
    "\n",
    "# Create a Linear Regression model\n",
    "model = LinearRegression()\n",
    "\n",
    "# Fit the model to the training data\n",
    "model.fit(X_train, y_train)\n",
    "\n",
    "# Predict the prices for the test set\n",
    "y_pred = model.predict(X_test)\n",
    "\n",
    "# Print the coefficients and intercept\n",
    "coefficients = model.coef_\n",
    "intercept = model.intercept_\n",
    "print(\"Coefficients:\", coefficients)\n",
    "print(\"Intercept:\", intercept)\n",
    "\n",
    "# Evaluate the model\n",
    "mse = mean_squared_error(y_test, y_pred)\n",
    "r2 = r2_score(y_test, y_pred)\n",
    "\n",
    "print(f\"Mean Squared Error: {mse}\")\n",
    "print(f\"R-squared: {r2}\")\n",
    "\n",
    "# Show the actual vs predicted prices\n",
    "comparison = pd.DataFrame({'Actual Price': y_test, 'Predicted Price': y_pred})\n",
    "print(comparison)\n",
    "\n",
    "# Analysis of Coefficients\n",
    "feature_importance = pd.Series(coefficients, index=['Size', 'Bedrooms', 'Age', 'DistanceToCity'])\n",
    "feature_importance.plot(kind='barh', title='Feature Importance (Coefficients)')\n",
    "plt.xlabel('Coefficient Value')\n",
    "plt.ylabel('Feature')\n",
    "plt.show()\n",
    "\n",
    "# Plotting Actual vs Predicted Prices\n",
    "plt.scatter(y_test, y_pred)\n",
    "plt.plot([min(y_test), max(y_test)], [min(y_test), max(y_test)], color='red', linewidth=2)  # Perfect prediction line\n",
    "plt.title('Actual vs Predicted Prices')\n",
    "plt.xlabel('Actual Price')\n",
    "plt.ylabel('Predicted Price')\n",
    "plt.show()"
   ]
  },
  {
   "cell_type": "markdown",
   "id": "cdcecc9a",
   "metadata": {},
   "source": [
    "**red line --> actual price** <br>\n",
    "**blue dot --> predicted price**"
   ]
  },
  {
   "cell_type": "markdown",
   "id": "8fe4c125-edd6-4730-8347-b930a05ffad8",
   "metadata": {},
   "source": [
    "### Explanation of the Code\n",
    "\n",
    "1. **Feature Normalization:**\n",
    "    - We used `StandardScaler` to normalize the features before splitting the data into training and testing sets. This ensures that each feature contributes equally to the model, preventing features with larger scales from dominating the results.\n",
    "2. **Coefficient Analysis:**\n",
    "    - After fitting the model, we retrieve the coefficients using `model.coef_` and analyze them to understand the impact of each feature on the target variable.\n",
    "    - We plot these coefficients using a horizontal bar chart (`barh`) to visually represent the importance of each feature. Larger absolute values of coefficients indicate more influence on the prediction.\n",
    "3. **Visualization:**\n",
    "    - **Feature Importance Plot:** This plot helps us understand which features are most important in predicting the house price. Features with larger absolute coefficients are more influential.\n",
    "    - **Actual vs Predicted Prices Plot:** This scatter plot compares the actual prices with the predicted prices. The red line represents perfect predictions (where the predicted price equals the actual price). Points close to this line indicate accurate predictions by the model."
   ]
  }
 ],
 "metadata": {
  "kernelspec": {
   "display_name": "Python 3 (ipykernel)",
   "language": "python",
   "name": "python3"
  },
  "language_info": {
   "codemirror_mode": {
    "name": "ipython",
    "version": 3
   },
   "file_extension": ".py",
   "mimetype": "text/x-python",
   "name": "python",
   "nbconvert_exporter": "python",
   "pygments_lexer": "ipython3",
   "version": "3.12.4"
  }
 },
 "nbformat": 4,
 "nbformat_minor": 5
}
