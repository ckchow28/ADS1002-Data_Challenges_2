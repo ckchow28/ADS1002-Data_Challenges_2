{
 "cells": [
  {
   "cell_type": "markdown",
   "id": "63b2d46c-c10d-41c0-b6d6-cf15304edf5f",
   "metadata": {},
   "source": [
    "- Topic: Logisitic Regression \n",
    "- Unit: ADS1002\n",
    "- Level: Beginner\n",
    "- Author: Ashish Dutt\n",
    "- Version: 0.0.1"
   ]
  },
  {
   "cell_type": "markdown",
   "id": "e6520403-91ae-4662-b193-e8decb9eb3d6",
   "metadata": {},
   "source": [
    "### What is Logistic Regression?\n",
    "\n",
    "Logistic Regression is a statistical method used for binary classification, where the goal is to predict one of two possible outcomes (like \"yes\" or \"no\", \"spam\" or \"not spam\"). Unlike linear regression, which predicts continuous values (like predicting the price of a house), logistic regression predicts the probability of a certain event happening."
   ]
  },
  {
   "cell_type": "markdown",
   "id": "55f73e3b-dbbc-47ed-9bf9-5f3dc157324f",
   "metadata": {},
   "source": [
    "### How does it work?\n",
    "\n",
    "- **Linear Regression Foundation:** Logistic regression starts with the principles of linear regression. It tries to fit a line (or more generally, a plane in higher dimensions) to your data.\n",
    "- **Probability Output**: Instead of directly predicting a value, logistic regression predicts a probability that a given input belongs to a certain class. For example, it might predict a 70% chance that an email is spam.\n",
    "- **Sigmoid Function:** The key to logistic regression is the sigmoid function, which takes any real-valued number and maps it to a value between 0 and 1. This makes it perfect for predicting probabilities. The logistic regression model uses this sigmoid function to convert the linear combination of inputs (features) into a probability."
   ]
  },
  {
   "cell_type": "markdown",
   "id": "15392ca4-6a59-4edf-b503-6bacce09bb5b",
   "metadata": {},
   "source": [
    "### Why is Logistic Regression Useful?\n",
    "\n",
    "- Binary Outcomes: Logistic regression is ideal for situations where you need to choose between two outcomes, like \"yes\" or \"no\", \"success\" or \"failure\".\n",
    "- Interpretable Results: The coefficients in a logistic regression model tell you how each feature influences the outcome, making it easier to understand why the model makes a particular prediction."
   ]
  },
  {
   "cell_type": "markdown",
   "id": "7e6383cc-aeca-4073-a659-6e474a8f9e68",
   "metadata": {},
   "source": [
    "### Logistic Regression Classifier with the Iris Dataset\n",
    "\n",
    "The Iris dataset is a popular dataset that consists of 150 samples from three species of Iris flowers: *Iris setosa*, *Iris versicolor*, and *Iris virginica*. Each sample has four features: sepal length, sepal width, petal length, and petal width.\n",
    "\n",
    "**1. Importing Required Libraries and Loading the Dataset**"
   ]
  },
  {
   "cell_type": "code",
   "execution_count": 1,
   "id": "b5a3a7d7-6869-4edc-ac7c-291d0be9d951",
   "metadata": {},
   "outputs": [
    {
     "data": {
      "text/html": [
       "<div>\n",
       "<style scoped>\n",
       "    .dataframe tbody tr th:only-of-type {\n",
       "        vertical-align: middle;\n",
       "    }\n",
       "\n",
       "    .dataframe tbody tr th {\n",
       "        vertical-align: top;\n",
       "    }\n",
       "\n",
       "    .dataframe thead th {\n",
       "        text-align: right;\n",
       "    }\n",
       "</style>\n",
       "<table border=\"1\" class=\"dataframe\">\n",
       "  <thead>\n",
       "    <tr style=\"text-align: right;\">\n",
       "      <th></th>\n",
       "      <th>sepal length (cm)</th>\n",
       "      <th>sepal width (cm)</th>\n",
       "      <th>petal length (cm)</th>\n",
       "      <th>petal width (cm)</th>\n",
       "      <th>species</th>\n",
       "    </tr>\n",
       "  </thead>\n",
       "  <tbody>\n",
       "    <tr>\n",
       "      <th>0</th>\n",
       "      <td>5.1</td>\n",
       "      <td>3.5</td>\n",
       "      <td>1.4</td>\n",
       "      <td>0.2</td>\n",
       "      <td>setosa</td>\n",
       "    </tr>\n",
       "    <tr>\n",
       "      <th>1</th>\n",
       "      <td>4.9</td>\n",
       "      <td>3.0</td>\n",
       "      <td>1.4</td>\n",
       "      <td>0.2</td>\n",
       "      <td>setosa</td>\n",
       "    </tr>\n",
       "    <tr>\n",
       "      <th>2</th>\n",
       "      <td>4.7</td>\n",
       "      <td>3.2</td>\n",
       "      <td>1.3</td>\n",
       "      <td>0.2</td>\n",
       "      <td>setosa</td>\n",
       "    </tr>\n",
       "    <tr>\n",
       "      <th>3</th>\n",
       "      <td>4.6</td>\n",
       "      <td>3.1</td>\n",
       "      <td>1.5</td>\n",
       "      <td>0.2</td>\n",
       "      <td>setosa</td>\n",
       "    </tr>\n",
       "    <tr>\n",
       "      <th>4</th>\n",
       "      <td>5.0</td>\n",
       "      <td>3.6</td>\n",
       "      <td>1.4</td>\n",
       "      <td>0.2</td>\n",
       "      <td>setosa</td>\n",
       "    </tr>\n",
       "  </tbody>\n",
       "</table>\n",
       "</div>"
      ],
      "text/plain": [
       "   sepal length (cm)  sepal width (cm)  petal length (cm)  petal width (cm)  \\\n",
       "0                5.1               3.5                1.4               0.2   \n",
       "1                4.9               3.0                1.4               0.2   \n",
       "2                4.7               3.2                1.3               0.2   \n",
       "3                4.6               3.1                1.5               0.2   \n",
       "4                5.0               3.6                1.4               0.2   \n",
       "\n",
       "  species  \n",
       "0  setosa  \n",
       "1  setosa  \n",
       "2  setosa  \n",
       "3  setosa  \n",
       "4  setosa  "
      ]
     },
     "execution_count": 1,
     "metadata": {},
     "output_type": "execute_result"
    }
   ],
   "source": [
    "import numpy as np\n",
    "import pandas as pd\n",
    "import seaborn as sns\n",
    "import matplotlib.pyplot as plt\n",
    "from sklearn.model_selection import train_test_split\n",
    "from sklearn.preprocessing import StandardScaler\n",
    "from sklearn.linear_model import LogisticRegression\n",
    "from sklearn.metrics import accuracy_score, confusion_matrix, classification_report\n",
    "from sklearn.feature_selection import SelectKBest, f_classif\n",
    "import warnings\n",
    "warnings.filterwarnings(\"ignore\")\n",
    "\n",
    "# Load the iris dataset\n",
    "from sklearn.datasets import load_iris\n",
    "iris = load_iris()\n",
    "\n",
    "# Convert to a DataFrame for easier analysis\n",
    "df = pd.DataFrame(data=iris.data, columns=iris.feature_names)\n",
    "df['species'] = iris.target\n",
    "df['species'] = df['species'].map({0: 'setosa', 1: 'versicolor', 2: 'virginica'})\n",
    "\n",
    "\n",
    "# Display the first few rows\n",
    "df.head()"
   ]
  },
  {
   "cell_type": "markdown",
   "id": "56bf1f18-dca6-42e2-9a35-27d4255f8495",
   "metadata": {},
   "source": [
    "**2. Correlation Analysis**\n",
    "\n",
    "Before applying Logistic Regression, it's important to understand the relationships between features. We can use a correlation matrix to observe these relationships."
   ]
  },
  {
   "cell_type": "code",
   "execution_count": 2,
   "id": "6452d4b7-bf16-41f4-809e-df0b45d3895d",
   "metadata": {},
   "outputs": [
    {
     "data": {
      "image/png": "[encoded data removed]",
      "text/plain": [
       "<Figure size 800x600 with 2 Axes>"
      ]
     },
     "metadata": {},
     "output_type": "display_data"
    }
   ],
   "source": [
    "# Compute the correlation matrix (exclude the 'species' column)\n",
    "corr_matrix = df.drop('species', axis=1).corr()\n",
    "\n",
    "# Plot the heatmap\n",
    "plt.figure(figsize=(8, 6))\n",
    "sns.heatmap(corr_matrix, annot=True, cmap='coolwarm', fmt='.2f')\n",
    "plt.title('Correlation Matrix of Iris Features')\n",
    "plt.show()"
   ]
  },
  {
   "cell_type": "markdown",
   "id": "8de07138-08a0-41e7-9c91-46c9b03932f8",
   "metadata": {},
   "source": [
    "**3. Feature Selection Using Correlation Coefficients**\n",
    "\n",
    "To perform feature selection using correlation coefficients, we'll calculate the correlation of each feature with the target variable (`species`). We'll first encode the species labels as numeric values, then compute the correlation of each feature with the target variable."
   ]
  },
  {
   "cell_type": "code",
   "execution_count": 3,
   "id": "755924fd-37aa-495c-9d35-1062b896961b",
   "metadata": {},
   "outputs": [
    {
     "name": "stdout",
     "output_type": "stream",
     "text": [
      "Selected features based on correlation: ['petal width (cm)', 'petal length (cm)', 'sepal length (cm)', 'sepal width (cm)']\n"
     ]
    }
   ],
   "source": [
    "# Encode the species labels to numeric values (setosa=0, versicolor=1, virginica=2)\n",
    "df['species_numeric'] = df['species'].map({'setosa': 0, 'versicolor': 1, 'virginica': 2})\n",
    "\n",
    "# Calculate the correlation of each feature with the numeric target variable\n",
    "# correlations = df.drop(['species', 'species_numeric'], axis=1).apply(lambda x: x.corr(df['species_numeric']))\n",
    "\n",
    "# Calculate the correlation of each feature with the numeric target variable\n",
    "correlations = df.drop(['species', 'species_numeric'], axis=1).corrwith(df['species_numeric'])\n",
    "\n",
    "# Sort features by their absolute correlation values\n",
    "selected_features = correlations.abs().sort_values(ascending=False).index\n",
    "\n",
    "print(f\"Selected features based on correlation: {selected_features.tolist()}\")"
   ]
  },
  {
   "cell_type": "markdown",
   "id": "3687aec1-0299-446f-a983-bd76c351930c",
   "metadata": {},
   "source": [
    "### Code explanation\n",
    "\n",
    "- **Encoding the Species**: The species_numeric column contains numeric values (0, 1, 2) corresponding to the species labels. This allows us to compute correlations with the features.\n",
    "- **Correlation Computation**: We calculate the correlation of each feature with the numeric species_numeric column.\n",
    "- **Feature Selection**: We sort the features by their absolute correlation values to determine which features are most relevant."
   ]
  },
  {
   "cell_type": "markdown",
   "id": "d11c423e-8494-4834-8396-cd1a69047f2a",
   "metadata": {},
   "source": [
    "#### Binary and Multiclass Logistic Regression\n",
    "\n",
    "You can now use the `selected_features` list to select the top features for logistic regression, as demonstrated in the previous steps."
   ]
  },
  {
   "cell_type": "markdown",
   "id": "cdda3c7e-5c49-470d-8909-d6016511976f",
   "metadata": {},
   "source": [
    "**4. Binary Logistic Regression**\n",
    "\n",
    "Using the most correlated features, we can perform binary logistic regression on a subset of the dataset."
   ]
  },
  {
   "cell_type": "code",
   "execution_count": 4,
   "id": "48e197ff-3ebd-43df-82c8-ba1bced3468e",
   "metadata": {},
   "outputs": [
    {
     "name": "stdout",
     "output_type": "stream",
     "text": [
      "Number of samples in binary dataset: 100\n",
      "Binary Classification Accuracy: 1.00\n",
      "[[17  0]\n",
      " [ 0 13]]\n",
      "              precision    recall  f1-score   support\n",
      "\n",
      "           0       1.00      1.00      1.00        17\n",
      "           1       1.00      1.00      1.00        13\n",
      "\n",
      "    accuracy                           1.00        30\n",
      "   macro avg       1.00      1.00      1.00        30\n",
      "weighted avg       1.00      1.00      1.00        30\n",
      "\n"
     ]
    }
   ],
   "source": [
    "# Filter dataset for binary classification (setosa vs versicolor)\n",
    "df_binary = df[df['species'].isin(['setosa', 'versicolor'])]\n",
    "\n",
    "# Convert species labels to numeric (setosa=0, versicolor=1)\n",
    "df_binary['species_numeric'] = df_binary['species'].map({'setosa': 0, 'versicolor': 1})\n",
    "\n",
    "# Separate features and target\n",
    "X_binary = df_binary[selected_features[:2]]\n",
    "y_binary = df_binary['species_numeric']\n",
    "\n",
    "# Check if there are enough samples\n",
    "print(f\"Number of samples in binary dataset: {len(df_binary)}\")\n",
    "\n",
    "if len(df_binary) == 0:\n",
    "    raise ValueError(\"The binary dataset is empty. Please check the filtering criteria.\")\n",
    "\n",
    "# Split into training and testing sets\n",
    "X_train, X_test, y_train, y_test = train_test_split(X_binary, y_binary, test_size=0.3, random_state=42)\n",
    "\n",
    "# Standardize the features\n",
    "scaler = StandardScaler()\n",
    "X_train = scaler.fit_transform(X_train)\n",
    "X_test = scaler.transform(X_test)\n",
    "\n",
    "# Train the Logistic Regression model\n",
    "binary_model = LogisticRegression()\n",
    "binary_model.fit(X_train, y_train)\n",
    "\n",
    "# Predict and evaluate\n",
    "y_pred = binary_model.predict(X_test)\n",
    "print(f\"Binary Classification Accuracy: {accuracy_score(y_test, y_pred):.2f}\")\n",
    "print(confusion_matrix(y_test, y_pred))\n",
    "print(classification_report(y_test, y_pred))"
   ]
  },
  {
   "cell_type": "markdown",
   "id": "0e912776-6952-479f-b4e8-8b5ed084e520",
   "metadata": {},
   "source": [
    "**5. Multiclass Logistic Regression**\n",
    "\n",
    "We can apply multiclass logistic regression using the selected features."
   ]
  },
  {
   "cell_type": "code",
   "execution_count": 5,
   "id": "ac21ee08-df26-4e08-b386-6363fb82894c",
   "metadata": {},
   "outputs": [
    {
     "name": "stdout",
     "output_type": "stream",
     "text": [
      "Multiclass Classification Accuracy: 0.96\n",
      "[[19  0  0]\n",
      " [ 0 11  2]\n",
      " [ 0  0 13]]\n",
      "              precision    recall  f1-score   support\n",
      "\n",
      "      setosa       1.00      1.00      1.00        19\n",
      "  versicolor       1.00      0.85      0.92        13\n",
      "   virginica       0.87      1.00      0.93        13\n",
      "\n",
      "    accuracy                           0.96        45\n",
      "   macro avg       0.96      0.95      0.95        45\n",
      "weighted avg       0.96      0.96      0.96        45\n",
      "\n"
     ]
    }
   ],
   "source": [
    "# Use selected features for the full dataset\n",
    "X_multi = df[selected_features[:2]]\n",
    "y_multi = df['species']\n",
    "\n",
    "# Split into training and testing sets\n",
    "X_train, X_test, y_train, y_test = train_test_split(X_multi, y_multi, test_size=0.3, random_state=42)\n",
    "\n",
    "# Standardize the features\n",
    "X_train = scaler.fit_transform(X_train)\n",
    "X_test = scaler.transform(X_test)\n",
    "\n",
    "# Train the Logistic Regression model with multiclass option\n",
    "multi_model = LogisticRegression(multi_class='ovr')\n",
    "multi_model.fit(X_train, y_train)\n",
    "\n",
    "# Predict and evaluate\n",
    "y_pred = multi_model.predict(X_test)\n",
    "print(f\"Multiclass Classification Accuracy: {accuracy_score(y_test, y_pred):.2f}\")\n",
    "print(confusion_matrix(y_test, y_pred))\n",
    "print(classification_report(y_test, y_pred))"
   ]
  },
  {
   "cell_type": "markdown",
   "id": "fb4b24ec-8a7a-4462-84a3-779fd250f184",
   "metadata": {},
   "source": [
    "#### Code explanation\n",
    "The above code snippet performs multiclass classification using Logistic Regression on the Iris dataset. Below is a step-by-step breakdown of each section:"
   ]
  },
  {
   "cell_type": "markdown",
   "id": "45c8561c-e3b1-4f60-9bdb-9976508fda60",
   "metadata": {},
   "source": [
    "**1. Selecting Features and Target Variable**"
   ]
  },
  {
   "cell_type": "code",
   "execution_count": 9,
   "id": "54f8761e-9b83-4035-a418-c46b33455447",
   "metadata": {},
   "outputs": [],
   "source": [
    "X_multi = df[selected_features[:2]]\n",
    "y_multi = df['species']"
   ]
  },
  {
   "cell_type": "markdown",
   "id": "173355bf-d74a-46f1-9ced-643bbad6626e",
   "metadata": {},
   "source": [
    "- `X_multi`: We select the top 2 features from the dataset, which were previously identified based on their correlation with the target variable (species). These features will be used to predict the species of the iris flower.\n",
    "- `\n",
    "y_mult`i: The` specie`s column from the dataset contains the labels for the target variable, which corresponds to the species of the flower `(setos`a,` versicolo`r,` virginic`a)."
   ]
  },
  {
   "cell_type": "markdown",
   "id": "0d659570-c3bc-4b94-9abd-538bca23d15f",
   "metadata": {},
   "source": [
    "**2. Splitting the Dataset into Training and Testing Sets**"
   ]
  },
  {
   "cell_type": "code",
   "execution_count": 10,
   "id": "a2dcb864-21f8-4e1f-8b90-9ec3a88d0771",
   "metadata": {},
   "outputs": [],
   "source": [
    "X_train, X_test, y_train, y_test = train_test_split(X_multi, y_multi, test_size=0.3, random_state=42)"
   ]
  },
  {
   "cell_type": "markdown",
   "id": "baa08e9c-0a38-49e3-afa4-73b2ce4faaf2",
   "metadata": {},
   "source": [
    "- `train_test_split`: This function splits the dataset into training and testing sets.\n",
    "\n",
    "    - `X_train` and `y_train`: These represent 70% of the data used to train the model.\n",
    "    - `X_test` and `y_test`: These represent 30% of the data used to evaluate the model.\n",
    "    - `test_size=0.3`: Specifies that 30% of the data will be used for testing.\n",
    "    - `random_state=42`: Ensures that the split is reproducible. The same random state will generate the same split each time the code is run."
   ]
  },
  {
   "cell_type": "markdown",
   "id": "862aaacd-8f2d-4932-ba81-9b36213d7e42",
   "metadata": {},
   "source": [
    "**3. Standardizing the Features**"
   ]
  },
  {
   "cell_type": "code",
   "execution_count": 11,
   "id": "f60968d7-be86-4378-89dc-eabe11a9732f",
   "metadata": {},
   "outputs": [],
   "source": [
    "X_train = scaler.fit_transform(X_train)\n",
    "X_test = scaler.transform(X_test)"
   ]
  },
  {
   "cell_type": "markdown",
   "id": "2d265605-1f37-4c2f-8b08-dca2d7911530",
   "metadata": {},
   "source": [
    "- **Standardization**: This step standardizes the features to ensure that they have a mean of 0 and a standard deviation of 1.\n",
    "\n",
    "    - **scaler.fit_transform(X_train)**: Fits the `StandardScaler` to the training data and then transforms it. This ensures that the model is trained with scaled features. \n",
    "    - **scaler.transform(X_test)**: The same scaling transformation is applied to the test data using the same scaler that was fit on the training data.\n",
    "\n",
    "Standardizing features is important because it prevents certain features from dominating the model due to their larger values."
   ]
  },
  {
   "cell_type": "markdown",
   "id": "799dccba-26a9-42c4-a74d-fcf7620e8d2c",
   "metadata": {},
   "source": [
    "**4. Training the Logistic Regression Model**"
   ]
  },
  {
   "cell_type": "code",
   "execution_count": null,
   "id": "6fcb82ad-cae3-49b7-a989-e44065c68292",
   "metadata": {},
   "outputs": [],
   "source": [
    "multi_model = LogisticRegression(multi_class='ovr')\n",
    "multi_model.fit(X_train, y_train)"
   ]
  },
  {
   "cell_type": "markdown",
   "id": "6b41b2e6-81ac-4237-81ed-1c8de4229edf",
   "metadata": {},
   "source": [
    "- `multi_model = LogisticRegression(multi_class='ovr')`: Initializes a Logistic Regression model for multiclass classification.\n",
    "\n",
    "    - `multi_class='ovr'`: Stands for \"one-vs-rest.\" This approach trains one classifier per class and treats it as a binary problem (i.e., it classifies whether the sample belongs to one class or not). This is a common strategy for extending binary classifiers to multiclass problems.\n",
    "- `multi_model.fit(X_train, y_train)`: Trains the model on the standardized training data (`X_train`) and the corresponding target labels (`y_train`)."
   ]
  },
  {
   "cell_type": "markdown",
   "id": "0b9ef503-3842-4322-8672-e95b22b6f6fa",
   "metadata": {},
   "source": [
    "**5. Making Predictions**"
   ]
  },
  {
   "cell_type": "code",
   "execution_count": null,
   "id": "0c1c67b8-77c7-49bf-995f-af3e38a1f5f3",
   "metadata": {},
   "outputs": [],
   "source": [
    "y_pred = multi_model.predict(X_test)"
   ]
  },
  {
   "cell_type": "markdown",
   "id": "e4445ab5-4f29-477d-b2c7-28ac220e885a",
   "metadata": {},
   "source": [
    "- `multi_model.predict(X_test)`: Uses the trained model to predict the species of the flowers in the test set (`X_test`). The result (`y_pred`) is an array containing the predicted labels for each sample in the test set."
   ]
  },
  {
   "cell_type": "markdown",
   "id": "72eb8dab-9fef-45d1-be4f-dcee08e6d5b1",
   "metadata": {},
   "source": [
    "**6. Evaluating the Model**"
   ]
  },
  {
   "cell_type": "code",
   "execution_count": null,
   "id": "e50c5513-e5e9-44ab-ba94-bf5dec73b264",
   "metadata": {},
   "outputs": [],
   "source": [
    "print(f\"Multiclass Classification Accuracy: {accuracy_score(y_test, y_pred):.2f}\")\n",
    "print(confusion_matrix(y_test, y_pred))\n",
    "print(classification_report(y_test, y_pred))"
   ]
  },
  {
   "cell_type": "markdown",
   "id": "497c9967-1f00-4b8c-82f5-36edfdbc7015",
   "metadata": {},
   "source": [
    "- `accuracy_score(y_test, y_pred)`: Computes the accuracy of the model, which is the proportion of correct predictions in the test set. The accuracy score is printed with two decimal places.\n",
    "- `confusion_matrix(y_test, y_pred)`: Produces a confusion matrix, which shows the counts of true positives, true negatives, false positives, and false negatives for each class.\n",
    "- `classification_report(y_test, y_pred)`: Prints a detailed report of the model's performance, including:\n",
    "\n",
    "    - **Precision**: The proportion of true positive predictions over all positive predictions.\n",
    "    - **Recall**: The proportion of true positive predictions over all actual positives.\n",
    "    - **F1-Score**: The harmonic mean of precision and recall, which gives a balanced measure of model performance."
   ]
  },
  {
   "cell_type": "markdown",
   "id": "b5466bc0-9e99-42e9-87de-a6ea55406963",
   "metadata": {},
   "source": [
    "**Summary of What the Code Does:**\n",
    "\n",
    "- Selects two features and the target species for multiclass classification.\n",
    "- Splits the data into training and testing sets (70% for training, 30% for testing).\n",
    "- Standardizes the feature values to have a mean of 0 and a standard deviation of 1.\n",
    "- Trains a Logistic Regression model using the \"one-vs-rest\" approach for multiclass classification.\n",
    "- Evaluates the model's performance on the test set by calculating accuracy, generating a confusion matrix, and displaying a classification report."
   ]
  },
  {
   "cell_type": "markdown",
   "id": "3870b791-d155-416c-a619-80cc7a348aaf",
   "metadata": {},
   "source": [
    "### Visualizing the performance of binary amd multiclass logistic regression classifier\n",
    "\n",
    "A **ROC (Receiver Operating Characteristic)** plot is a graphical representation used to evaluate the performance of a binary classifier, such as **logistic regression**. It shows how well the model distinguishes between two classes (e.g., positive and negative)."
   ]
  },
  {
   "cell_type": "markdown",
   "id": "140f524b-c548-4250-9f27-7cead7b1ce15",
   "metadata": {},
   "source": [
    "#### Components of the ROC Plot:\n",
    "\n",
    "- **True Positive Rate (TPR)**: The proportion of actual positives correctly identified by the model. Also known as sensitivity or recall.\n",
    "- **False Positive Rate (FPR)**: The proportion of actual negatives incorrectly classified as positives.\n",
    "\n",
    "The plot graphs the **TPR** on the y-axis against the **FPR** on the x-axis at various threshold levels for the model's predicted probabilities."
   ]
  },
  {
   "cell_type": "markdown",
   "id": "1bce84c2-8be1-4841-ae26-45cdd96b71fc",
   "metadata": {},
   "source": [
    "#### How ROC is related to Logistic Regression?:\n",
    "\n",
    "In logistic regression, we get probabilities (a score between 0 and 1) for each prediction. These probabilities can be converted into binary decisions by choosing a threshold (e.g., classify as positive if the probability is above 0.5). The ROC curve shows how the TPR and FPR change as we vary this threshold.\n",
    "\n",
    "#### What to Look For?:\n",
    "\n",
    "- A **perfect classifier** has a curve that hugs the **top-left corner**, where TPR is high and FPR is low.\n",
    "- A **random classifier** gives a diagonal line (no distinction between classes).\n",
    "- The **AUC (Area Under the Curve)** value summarizes the plot. A higher AUC means better model performance.\n",
    "\n",
    "In simple terms, the ROC plot helps us see how good the logistic regression model is at distinguishing between two classes by examining the balance between correctly identifying positives and avoiding false positives."
   ]
  },
  {
   "cell_type": "markdown",
   "id": "e0a26065-7fcd-4f9e-96ca-ac9a63a29018",
   "metadata": {},
   "source": [
    "**Required Libraries**:\n",
    "\n",
    "We will use the `roc_curve` and `roc_auc_score` functions from `sklearn.metrics` to compute the ROC curve and AUC (Area Under the Curve)."
   ]
  },
  {
   "cell_type": "code",
   "execution_count": 6,
   "id": "adcf78af-b39d-4511-9863-68634f71b93d",
   "metadata": {},
   "outputs": [
    {
     "data": {
      "image/png": "[encoded data removed]",
      "text/plain": [
       "<Figure size 640x480 with 1 Axes>"
      ]
     },
     "metadata": {},
     "output_type": "display_data"
    }
   ],
   "source": [
    "from sklearn.metrics import roc_curve, auc\n",
    "from sklearn.preprocessing import label_binarize\n",
    "from sklearn.multiclass import OneVsRestClassifier\n",
    "from sklearn.metrics import RocCurveDisplay\n",
    "from sklearn.preprocessing import StandardScaler\n",
    "\n",
    "# Load the Iris dataset\n",
    "iris = load_iris()\n",
    "X = iris.data\n",
    "y = iris.target\n",
    "\n",
    "# Binary classification: Use only class 0 and class 1\n",
    "X_binary = X[y != 2]  # Select samples that are not class 2\n",
    "y_binary = y[y != 2]  # Select corresponding labels\n",
    "\n",
    "# Split the binary dataset into training and testing sets\n",
    "X_train_bin, X_test_bin, y_train_bin, y_test_bin = train_test_split(X_binary, y_binary, test_size=0.3, random_state=42)\n",
    "\n",
    "# Train Logistic Regression for binary classification\n",
    "clf_bin = LogisticRegression()\n",
    "clf_bin.fit(X_train_bin, y_train_bin)\n",
    "\n",
    "# Predict probabilities for the binary classifier\n",
    "y_scores_bin = clf_bin.predict_proba(X_test_bin)[:, 1]\n",
    "\n",
    "# Compute ROC curve and ROC AUC for the binary classifier\n",
    "fpr_bin, tpr_bin, _ = roc_curve(y_test_bin, y_scores_bin)\n",
    "roc_auc_bin = auc(fpr_bin, tpr_bin)\n",
    "\n",
    "# Plot ROC curve for binary classification\n",
    "plt.figure()\n",
    "plt.plot(fpr_bin, tpr_bin, color='blue', lw=2, label=f'Binary ROC curve (AUC = {roc_auc_bin:.2f})')\n",
    "plt.plot([0, 1], [0, 1], color='gray', linestyle='--')\n",
    "plt.xlim([0.0, 1.0])\n",
    "plt.ylim([0.0, 1.05])\n",
    "plt.xlabel('False Positive Rate')\n",
    "plt.ylabel('True Positive Rate')\n",
    "plt.title('ROC Curve - Binary Classification (Iris)')\n",
    "plt.legend(loc=\"lower right\")\n",
    "plt.show()"
   ]
  },
  {
   "cell_type": "markdown",
   "id": "d983b56c-aa39-46ea-be54-86013e966586",
   "metadata": {},
   "source": [
    "### Code explained\n",
    "\n",
    "```\n",
    "# Binary classification: Use only class 0 and class 1\n",
    "X_binary = X[y != 2]  # Select samples that are not class 2\n",
    "y_binary = y[y != 2]  # Select corresponding labels\n",
    "```\n",
    "\n",
    "- This code selects only the samples corresponding to class 0 and class 1 for binary classification.\n",
    "    - `X_binary`: Feature matrix containing samples from classes 0 and 1.\n",
    "    - `y_binary`: Target vector containing labels 0 and 1.\n",
    "\n",
    "**Predicting Probabilities**\n",
    "- `y_scores_bin = clf_bin.predict_proba(X_test_bin)[:, 1]`\n",
    "    - `predict_proba(X_test_bin)`: Predicts the probability that each test sample belongs to class 1 (since logistic regression outputs probabilities).\n",
    "    - `[:, 1]`: Extracts the probabilities for class 1 (the positive class)."
   ]
  },
  {
   "cell_type": "code",
   "execution_count": 7,
   "id": "c99ea2bd-c4f8-40d9-801c-7edf157c94f2",
   "metadata": {},
   "outputs": [
    {
     "data": {
      "image/png": "[encoded data removed]",
      "text/plain": [
       "<Figure size 640x480 with 1 Axes>"
      ]
     },
     "metadata": {},
     "output_type": "display_data"
    }
   ],
   "source": [
    "# Multiclass classification: Binarize the labels for one-vs-rest classification\n",
    "y_bin = label_binarize(y, classes=[0, 1, 2])\n",
    "\n",
    "# Split the dataset for multiclass classification\n",
    "X_train, X_test, y_train, y_test = train_test_split(X, y_bin, test_size=0.3, random_state=42)\n",
    "\n",
    "# Scale the features\n",
    "scaler = StandardScaler()\n",
    "X_train = scaler.fit_transform(X_train)\n",
    "X_test = scaler.transform(X_test)\n",
    "\n",
    "# Train OneVsRestClassifier for multiclass classification\n",
    "clf_multi = OneVsRestClassifier(LogisticRegression())\n",
    "clf_multi.fit(X_train, y_train)\n",
    "\n",
    "# Predict probabilities for the multiclass classifier\n",
    "y_scores_multi = clf_multi.predict_proba(X_test)\n",
    "\n",
    "# Plot ROC curve for each class in multiclass classification\n",
    "plt.figure()\n",
    "colors = ['blue', 'green', 'red']\n",
    "for i in range(3):\n",
    "    fpr_multi, tpr_multi, _ = roc_curve(y_test[:, i], y_scores_multi[:, i])\n",
    "    roc_auc_multi = auc(fpr_multi, tpr_multi)\n",
    "    plt.plot(fpr_multi, tpr_multi, color=colors[i], lw=2, label=f'Class {i} (AUC = {roc_auc_multi:.2f})')\n",
    "\n",
    "plt.plot([0, 1], [0, 1], color='gray', linestyle='--')\n",
    "plt.xlim([0.0, 1.0])\n",
    "plt.ylim([0.0, 1.05])\n",
    "plt.xlabel('False Positive Rate')\n",
    "plt.ylabel('True Positive Rate')\n",
    "plt.title('ROC Curve - Multiclass Classification (Iris)')\n",
    "plt.legend(loc=\"lower right\")\n",
    "plt.show()"
   ]
  },
  {
   "cell_type": "markdown",
   "id": "e67deb0b-517e-4372-b7f0-e51908916b9a",
   "metadata": {},
   "source": [
    "### Multiclass ROC Curve Plot Explained"
   ]
  },
  {
   "cell_type": "markdown",
   "id": "77b2ca31-a75d-4ea7-9aa5-55ed36551d16",
   "metadata": {},
   "source": [
    "Let's break down the behavior you're observing in the ROC plot for each class (blue, green, and red) based on the code you've provided:\n",
    "\n",
    "**1. Red Line (Class 2) is Horizontal**:\n",
    "\n",
    "A horizontal ROC curve (with a false positive rate (FPR) of 1 and a true positive rate (TPR) of 0) often indicates that the classifier failed to correctly classify any instances of that class (Class 2 in this case). This happens when:\n",
    "\n",
    "- The classifier is unable to distinguish class 2 from the other classes.\n",
    "- The predicted probabilities for class 2 are very low, leading to no true positives as the thresholds change.\n",
    "- There could be **no samples in the test set for class 2**, causing the ROC curve to be undefined for that class.\n",
    "\n",
    "Since the ROC curve is based on the relationship between FPR and TPR, a horizontal line near the bottom (TPR close to 0) means that for every threshold, the classifier is not finding true positives (class 2 predictions)."
   ]
  },
  {
   "cell_type": "markdown",
   "id": "755a6a7f-2165-4933-83a0-ba48f12ff679",
   "metadata": {},
   "source": [
    "**2. Green Line (Class 1) is in a Stairway Format**:\n",
    "\n",
    "The \"stairway\" shape of the ROC curve for class 1 happens because ROC curves are based on a limited number of possible thresholds in a discrete classification problem. Here's why:\n",
    "\n",
    "- For smaller datasets or less varied predictions, the number of unique probability scores is limited.\n",
    "- Each \"stair\" corresponds to a point where a prediction threshold is crossed, leading to a change in the true positive rate or false positive rate.\n",
    "- Logistic regression, especially in one-vs-rest classification, often produces a set of discrete probability scores for each class, causing the stair-step pattern.\n",
    "- **Class 1** seems to have enough variation in the predictions to show multiple steps, but not enough to create a smooth ROC curve."
   ]
  },
  {
   "cell_type": "markdown",
   "id": "e37e15fa-1335-45c4-a1a9-b27d8cd9ce66",
   "metadata": {},
   "source": [
    "**3. Blue Line (Class 0) is Not Shown**:\n",
    "\n",
    "If the ROC curve for class 0 is missing, it could be due to several reasons:\n",
    "\n",
    "- **No data points for class 0** in the test set: If there are no class 0 samples in the test set, the ROC curve for class 0 would not be plotted because the TPR and FPR cannot be computed.\n",
    "- **Numerical stability issues**: Sometimes, if the classifier predicts all instances of class 0 correctly (or incorrectly), the ROC curve may appear degenerate (e.g., just a point at (0, 0) or (1, 1)) and not be shown in the plot.\n",
    "- **Plotting issue**: The `plt.plot()` method should display the blue curve, but if class 0 has no meaningful data in the test set or if all class 0 samples are misclassified, the ROC curve might not appear."
   ]
  }
 ],
 "metadata": {
  "kernelspec": {
   "display_name": "Python 3 (ipykernel)",
   "language": "python",
   "name": "python3"
  },
  "language_info": {
   "codemirror_mode": {
    "name": "ipython",
    "version": 3
   },
   "file_extension": ".py",
   "mimetype": "text/x-python",
   "name": "python",
   "nbconvert_exporter": "python",
   "pygments_lexer": "ipython3",
   "version": "3.11.7"
  }
 },
 "nbformat": 4,
 "nbformat_minor": 5
}
